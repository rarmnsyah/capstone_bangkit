{
 "cells": [
  {
   "cell_type": "code",
   "execution_count": 1,
   "id": "864b5b52",
   "metadata": {},
   "outputs": [
    {
     "name": "stderr",
     "output_type": "stream",
     "text": [
      "C:\\Users\\LENOVO\\anaconda3\\lib\\site-packages\\numpy\\_distributor_init.py:30: UserWarning: loaded more than 1 DLL from .libs:\n",
      "C:\\Users\\LENOVO\\anaconda3\\lib\\site-packages\\numpy\\.libs\\libopenblas.FB5AE2TYXYH2IJRDKGDGQ3XBKLKTF43H.gfortran-win_amd64.dll\n",
      "C:\\Users\\LENOVO\\anaconda3\\lib\\site-packages\\numpy\\.libs\\libopenblas64__v0.3.23-246-g3d31191b-gcc_10_3_0.dll\n",
      "  warnings.warn(\"loaded more than 1 DLL from .libs:\"\n"
     ]
    }
   ],
   "source": [
    "import pandas as pd\n",
    "import numpy as np\n",
    "import tensorflow as tf\n",
    "import os\n",
    "import matplotlib.pyplot as plt\n",
    "\n",
    "from transformers import AutoTokenizer, TFBertModel\n",
    "from sklearn.metrics import ConfusionMatrixDisplay\n",
    "from sklearn.model_selection import train_test_split\n",
    "from tensorflow.keras.optimizers import Adam\n",
    "from tensorflow.keras.callbacks import EarlyStopping\n",
    "from imblearn.under_sampling import RandomUnderSampler\n",
    "from tensorflow.keras.initializers import TruncatedNormal\n",
    "from tensorflow.keras.losses import BinaryCrossentropy\n",
    "from tensorflow.keras.utils import to_categorical\n",
    "from tensorflow.keras.layers import Input, Dense"
   ]
  },
  {
   "cell_type": "code",
   "execution_count": 2,
   "id": "3802b05e",
   "metadata": {},
   "outputs": [],
   "source": [
    "cwd = os.getcwd()"
   ]
  },
  {
   "cell_type": "code",
   "execution_count": 3,
   "id": "321b511e",
   "metadata": {},
   "outputs": [],
   "source": [
    "test_model = tf.saved_model.load('model_2_2023-11-08')"
   ]
  },
  {
   "cell_type": "code",
   "execution_count": 5,
   "id": "34901e4f",
   "metadata": {},
   "outputs": [
    {
     "data": {
      "text/plain": [
       "<tensorflow.python.saved_model.load.Loader._recreate_base_user_object.<locals>._UserObject at 0x23e3e4c2f40>"
      ]
     },
     "execution_count": 5,
     "metadata": {},
     "output_type": "execute_result"
    }
   ],
   "source": [
    "test_model"
   ]
  },
  {
   "cell_type": "code",
   "execution_count": 9,
   "id": "34b05028",
   "metadata": {},
   "outputs": [
    {
     "data": {
      "text/plain": [
       "{'input_ids': <tf.Tensor: shape=(10, 70), dtype=int32, numpy=\n",
       "array([[    2, 13969,  9081,  5490,  4179,  1824,   107, 10334,  3022,\n",
       "         1179, 18848,   152,   880, 30355,   959,  5237,  9363,   880,\n",
       "        30355,  7121, 25690,  1867,  5490,  4179,  1824,   107, 10334,\n",
       "          150,  2318,  2499,  1181,  2690,   150,  3987,  5552, 18303,\n",
       "        15572,  1480,  3692,  5035,   880, 30355,   678,  4825,     3,\n",
       "            0,     0,     0,     0,     0,     0,     0,     0,     0,\n",
       "            0,     0,     0,     0,     0,     0,     0,     0,     0,\n",
       "            0,     0,     0,     0,     0,     0,     0],\n",
       "       [    2, 28211, 28819,  5115,  3870, 29912, 18275, 11736,   839,\n",
       "         1908,   405,  3518,  4891,  3650, 12893,   494,   500,   342,\n",
       "        15198,  8707,  4431,    55, 14752, 29691, 15809, 30371,   136,\n",
       "        11864, 27303,  5765, 30362, 25815,  5103,   639,  5115,  1845,\n",
       "         2106,  8485,   300, 14510,  2276, 25148,    62,   406,  1181,\n",
       "          405,  2106,    92,   664,   354,   752,   839, 24760,   600,\n",
       "         5875,  1727,  3453, 20734,   205,  1083,  1727,     3,     0,\n",
       "            0,     0,     0,     0,     0,     0,     0],\n",
       "       [    2,  9697,  1614,  1069, 30358,   422, 14856,  3865,  3397,\n",
       "         1107, 19235,   741, 19503, 13431,    21,   154, 21810,  1062,\n",
       "         1254,  9549,  3478,   422,  4255, 10094,   422,  2609,   271,\n",
       "          988,   119,  1319,  5427,  5053,  2086,  4571,  1069, 30358,\n",
       "            3,     0,     0,     0,     0,     0,     0,     0,     0,\n",
       "            0,     0,     0,     0,     0,     0,     0,     0,     0,\n",
       "            0,     0,     0,     0,     0,     0,     0,     0,     0,\n",
       "            0,     0,     0,     0,     0,     0,     0],\n",
       "       [    2, 14902, 10225, 10588,  1681,   988,  1311,   552,  6718,\n",
       "         5275,  1681,   988,  8255,  7206, 10225,  7036, 21126,  8445,\n",
       "         2294, 20180, 10588,  5115, 10588, 12525,  6478,   500,   500,\n",
       "        20180, 13078,  8962,  7291,   661, 10189, 11031,  1241,   150,\n",
       "         3121,  1953, 14902,  5115,  8445,  2817, 20180,  1122,  1578,\n",
       "        13078,  8962,  7291, 14902, 10588,   449,   531,  2561, 14902,\n",
       "         2179, 13078,  8962,  7291,   830, 16265,  8452,   969, 14902,\n",
       "          377, 14902,   150,   219,  1615,  1304,     3],\n",
       "       [    2, 19145,  6081, 14058,  1129, 30371,  6451,   763,   472,\n",
       "         2487,   795,   500,  3256,  4005,   678, 19145, 28236,  6170,\n",
       "        14058,  2120,   752,  2304,  8851,  1661,   406,  5586,    87,\n",
       "        13383,  1129, 30371,  3253,   472,  2487,   662,   795,   500,\n",
       "          500,  5295, 10656,  7932,  2304,  8851,  4502,  4502, 10656,\n",
       "         6451,   763,   472,  2487,  1480,   795,   500,  1219,   661,\n",
       "        19145,  8836,   460,  1571, 12278,  2304,  8851,  3253,   661,\n",
       "          795,   500,   531,  1095,   441,    98,     3],\n",
       "       [    2,   712,  9639,  5237,  4068, 27271,  5165, 13401, 24457,\n",
       "        30361, 28921,   577, 30354,  1225,  3892,  4100,  2441,   949,\n",
       "        10242, 14003,  3916,    66,  3513, 30356,  5396,   712,  1874,\n",
       "        16729,  3892, 12213,    22,  3921,  5165,  4068, 27271,  4957,\n",
       "         8256, 30356,  9639,  1871,   949,  8151, 10505,  5237,   991,\n",
       "          232,   712,   176,  9639,  5237,   661, 13401, 24457, 30361,\n",
       "           89, 28921,   577, 30354,   209,  5595,   951,   712,   556,\n",
       "        13401, 24457, 30361,   599,  6878,   427,     3],\n",
       "       [    2,  8851,  9410,  1137,  3463,  5487, 16158, 10517,   795,\n",
       "        10348,  1908,   405,  3518,   405,  2655,  2892,  1436,   728,\n",
       "         1908,     3,     0,     0,     0,     0,     0,     0,     0,\n",
       "            0,     0,     0,     0,     0,     0,     0,     0,     0,\n",
       "            0,     0,     0,     0,     0,     0,     0,     0,     0,\n",
       "            0,     0,     0,     0,     0,     0,     0,     0,     0,\n",
       "            0,     0,     0,     0,     0,     0,     0,     0,     0,\n",
       "            0,     0,     0,     0,     0,     0,     0],\n",
       "       [    2,  2419, 15780, 17628,  2671,  1983,  6969,  5105,  1759,\n",
       "        18105, 13863,  1681,  1430,  6810, 10363,  5105,  3953,  4551,\n",
       "          486,   515,  3870, 13145, 14287,  3967,  1224,  3435,  1256,\n",
       "        17628,  2671, 10348, 10243, 30356,  2147,  5159,  1841,   725,\n",
       "         7155,   440, 19218, 15734,  6136,  1681,   472,  5105, 27211,\n",
       "           16, 12302,   664,  5115,   985,   388,   823,   725, 17628,\n",
       "         2671,  3780,  3256,  1117,  9632,    34,  9674,  6845,   472,\n",
       "         6380,  2690,  5105,  3304,   364,  1621,     3],\n",
       "       [    2, 18006, 30359,   599,  2757, 15861,  1681,  7882,  1152,\n",
       "         3105,  8030,  2231,  2990,  1874,  3256,  1069,  1172, 18006,\n",
       "        30359,  7979,  6378, 18960,  8176,  1495, 15861,  1681,  1820,\n",
       "         6478, 12984,  5295, 17183, 17613, 26440,  1098,  1820,  6478,\n",
       "         2304,   746,  2757,   988, 15861,  6878, 15861,  1152,  7882,\n",
       "         1152,  3612, 18006, 30359, 14058,  3935,  3322,   129,  3105,\n",
       "         4279, 18006, 30359,   661,   988, 15861,  4299,  1162,  6343,\n",
       "        10025,  1874,   731,  5254,  2757,  1480,     3],\n",
       "       [    2, 21267,  2054,  5237,   843,  3244,  3802, 30370,  1495,\n",
       "        15994,   531,  8244,    72,  3022,  6139,  4871,  2304, 21267,\n",
       "        19599,  3768,  2272,  1365,  1175,  6776,  1871,  8151, 10505,\n",
       "         2054,  2304,  8013,   368,  3244,  3802, 30370, 15349, 15994,\n",
       "        25951,   368,  2561, 12291,  8244,    72,  2304, 19468,  2304,\n",
       "        21267,  2973,  5237,  2990,   661,  5115,   354,   728,  3100,\n",
       "         2304, 21267,  1175,  6776,  5115,  1127, 23641,  2304,  8013,\n",
       "         6213,  4452,   448,  1214,   661,   599,     3]])>, 'attention_mask': <tf.Tensor: shape=(10, 70), dtype=int32, numpy=\n",
       "array([[1, 1, 1, 1, 1, 1, 1, 1, 1, 1, 1, 1, 1, 1, 1, 1, 1, 1, 1, 1, 1, 1,\n",
       "        1, 1, 1, 1, 1, 1, 1, 1, 1, 1, 1, 1, 1, 1, 1, 1, 1, 1, 1, 1, 1, 1,\n",
       "        1, 0, 0, 0, 0, 0, 0, 0, 0, 0, 0, 0, 0, 0, 0, 0, 0, 0, 0, 0, 0, 0,\n",
       "        0, 0, 0, 0],\n",
       "       [1, 1, 1, 1, 1, 1, 1, 1, 1, 1, 1, 1, 1, 1, 1, 1, 1, 1, 1, 1, 1, 1,\n",
       "        1, 1, 1, 1, 1, 1, 1, 1, 1, 1, 1, 1, 1, 1, 1, 1, 1, 1, 1, 1, 1, 1,\n",
       "        1, 1, 1, 1, 1, 1, 1, 1, 1, 1, 1, 1, 1, 1, 1, 1, 1, 1, 0, 0, 0, 0,\n",
       "        0, 0, 0, 0],\n",
       "       [1, 1, 1, 1, 1, 1, 1, 1, 1, 1, 1, 1, 1, 1, 1, 1, 1, 1, 1, 1, 1, 1,\n",
       "        1, 1, 1, 1, 1, 1, 1, 1, 1, 1, 1, 1, 1, 1, 1, 0, 0, 0, 0, 0, 0, 0,\n",
       "        0, 0, 0, 0, 0, 0, 0, 0, 0, 0, 0, 0, 0, 0, 0, 0, 0, 0, 0, 0, 0, 0,\n",
       "        0, 0, 0, 0],\n",
       "       [1, 1, 1, 1, 1, 1, 1, 1, 1, 1, 1, 1, 1, 1, 1, 1, 1, 1, 1, 1, 1, 1,\n",
       "        1, 1, 1, 1, 1, 1, 1, 1, 1, 1, 1, 1, 1, 1, 1, 1, 1, 1, 1, 1, 1, 1,\n",
       "        1, 1, 1, 1, 1, 1, 1, 1, 1, 1, 1, 1, 1, 1, 1, 1, 1, 1, 1, 1, 1, 1,\n",
       "        1, 1, 1, 1],\n",
       "       [1, 1, 1, 1, 1, 1, 1, 1, 1, 1, 1, 1, 1, 1, 1, 1, 1, 1, 1, 1, 1, 1,\n",
       "        1, 1, 1, 1, 1, 1, 1, 1, 1, 1, 1, 1, 1, 1, 1, 1, 1, 1, 1, 1, 1, 1,\n",
       "        1, 1, 1, 1, 1, 1, 1, 1, 1, 1, 1, 1, 1, 1, 1, 1, 1, 1, 1, 1, 1, 1,\n",
       "        1, 1, 1, 1],\n",
       "       [1, 1, 1, 1, 1, 1, 1, 1, 1, 1, 1, 1, 1, 1, 1, 1, 1, 1, 1, 1, 1, 1,\n",
       "        1, 1, 1, 1, 1, 1, 1, 1, 1, 1, 1, 1, 1, 1, 1, 1, 1, 1, 1, 1, 1, 1,\n",
       "        1, 1, 1, 1, 1, 1, 1, 1, 1, 1, 1, 1, 1, 1, 1, 1, 1, 1, 1, 1, 1, 1,\n",
       "        1, 1, 1, 1],\n",
       "       [1, 1, 1, 1, 1, 1, 1, 1, 1, 1, 1, 1, 1, 1, 1, 1, 1, 1, 1, 1, 0, 0,\n",
       "        0, 0, 0, 0, 0, 0, 0, 0, 0, 0, 0, 0, 0, 0, 0, 0, 0, 0, 0, 0, 0, 0,\n",
       "        0, 0, 0, 0, 0, 0, 0, 0, 0, 0, 0, 0, 0, 0, 0, 0, 0, 0, 0, 0, 0, 0,\n",
       "        0, 0, 0, 0],\n",
       "       [1, 1, 1, 1, 1, 1, 1, 1, 1, 1, 1, 1, 1, 1, 1, 1, 1, 1, 1, 1, 1, 1,\n",
       "        1, 1, 1, 1, 1, 1, 1, 1, 1, 1, 1, 1, 1, 1, 1, 1, 1, 1, 1, 1, 1, 1,\n",
       "        1, 1, 1, 1, 1, 1, 1, 1, 1, 1, 1, 1, 1, 1, 1, 1, 1, 1, 1, 1, 1, 1,\n",
       "        1, 1, 1, 1],\n",
       "       [1, 1, 1, 1, 1, 1, 1, 1, 1, 1, 1, 1, 1, 1, 1, 1, 1, 1, 1, 1, 1, 1,\n",
       "        1, 1, 1, 1, 1, 1, 1, 1, 1, 1, 1, 1, 1, 1, 1, 1, 1, 1, 1, 1, 1, 1,\n",
       "        1, 1, 1, 1, 1, 1, 1, 1, 1, 1, 1, 1, 1, 1, 1, 1, 1, 1, 1, 1, 1, 1,\n",
       "        1, 1, 1, 1],\n",
       "       [1, 1, 1, 1, 1, 1, 1, 1, 1, 1, 1, 1, 1, 1, 1, 1, 1, 1, 1, 1, 1, 1,\n",
       "        1, 1, 1, 1, 1, 1, 1, 1, 1, 1, 1, 1, 1, 1, 1, 1, 1, 1, 1, 1, 1, 1,\n",
       "        1, 1, 1, 1, 1, 1, 1, 1, 1, 1, 1, 1, 1, 1, 1, 1, 1, 1, 1, 1, 1, 1,\n",
       "        1, 1, 1, 1]])>}"
      ]
     },
     "execution_count": 9,
     "metadata": {},
     "output_type": "execute_result"
    }
   ],
   "source": [
    "cwd = os.getcwd()\n",
    "datapath = os.path.join(cwd, 'dataset')\n",
    "\n",
    "df = pd.read_excel(os.path.join(datapath, 'all_cleaned.xlsx'))\n",
    "df = df[['berita', 'label']]\n",
    "\n",
    "df.drop_duplicates(inplace=True)\n",
    "df.dropna(inplace = True)\n",
    "\n",
    "df_test = df.sample(10)\n",
    "\n",
    "max_len = 70\n",
    "model_name = 'indobenchmark/indobert-base-p1'\n",
    "tokenizer = AutoTokenizer.from_pretrained(model_name)\n",
    "\n",
    "X_train = tokenizer(\n",
    "    text=df_test['berita'].tolist(),\n",
    "    add_special_tokens=True,\n",
    "    max_length=max_len,\n",
    "    truncation=True,\n",
    "    padding=True,\n",
    "    return_tensors='tf',\n",
    "    return_token_type_ids=False,\n",
    "    return_attention_mask=True,\n",
    "    verbose=True\n",
    ")\n",
    "\n",
    "X_train"
   ]
  },
  {
   "cell_type": "code",
   "execution_count": 14,
   "id": "cf4a6ef1",
   "metadata": {},
   "outputs": [],
   "source": [
    "input_ids = tf.TensorSpec.from_tensor(X_train['input_ids'], name = 'input_ids')\n",
    "attention_mask = tf.TensorSpec.from_tensor(X_train['attention_mask'], name = 'attention_mask')"
   ]
  },
  {
   "cell_type": "code",
   "execution_count": 17,
   "id": "45f4bfbf",
   "metadata": {},
   "outputs": [
    {
     "data": {
      "text/plain": [
       "[0, 0, 1, 0, 0, 0, 0, 0, 0, 0]"
      ]
     },
     "execution_count": 17,
     "metadata": {},
     "output_type": "execute_result"
    }
   ],
   "source": [
    "predicted = test_model([X_train['input_ids'], X_train['attention_mask']])\n",
    "y_predicted = [1 if pred >= 0.5 else 0 for pred in predicted]\n",
    "y_predicted"
   ]
  },
  {
   "cell_type": "code",
   "execution_count": 19,
   "id": "5ddb6b48",
   "metadata": {},
   "outputs": [
    {
     "data": {
      "text/plain": [
       "10494    0\n",
       "13442    0\n",
       "23845    1\n",
       "20227    0\n",
       "2490     0\n",
       "2876     0\n",
       "13431    0\n",
       "17380    0\n",
       "20566    0\n",
       "2228     0\n",
       "Name: label, dtype: int64"
      ]
     },
     "execution_count": 19,
     "metadata": {},
     "output_type": "execute_result"
    }
   ],
   "source": [
    "df_test['label']"
   ]
  }
 ],
 "metadata": {
  "kernelspec": {
   "display_name": "Python 3 (ipykernel)",
   "language": "python",
   "name": "python3"
  },
  "language_info": {
   "codemirror_mode": {
    "name": "ipython",
    "version": 3
   },
   "file_extension": ".py",
   "mimetype": "text/x-python",
   "name": "python",
   "nbconvert_exporter": "python",
   "pygments_lexer": "ipython3",
   "version": "3.9.17"
  }
 },
 "nbformat": 4,
 "nbformat_minor": 5
}
