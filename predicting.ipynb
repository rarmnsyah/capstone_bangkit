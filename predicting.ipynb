{
 "cells": [
  {
   "cell_type": "code",
   "execution_count": 1,
   "id": "864b5b52",
   "metadata": {},
   "outputs": [],
   "source": [
    "import pandas as pd\n",
    "import numpy as np\n",
    "import tensorflow as tf\n",
    "import os\n",
    "import matplotlib.pyplot as plt\n",
    "\n",
    "from transformers import AutoTokenizer, TFBertModel\n",
    "from sklearn.metrics import ConfusionMatrixDisplay\n",
    "from sklearn.model_selection import train_test_split\n",
    "from tensorflow.keras.optimizers import Adam\n",
    "from tensorflow.keras.callbacks import EarlyStopping\n",
    "from imblearn.under_sampling import RandomUnderSampler\n",
    "from tensorflow.keras.initializers import TruncatedNormal\n",
    "from tensorflow.keras.losses import BinaryCrossentropy\n",
    "from tensorflow.keras.utils import to_categorical\n",
    "from tensorflow.keras.layers import Input, Dense"
   ]
  },
  {
   "cell_type": "code",
   "execution_count": 2,
   "id": "3802b05e",
   "metadata": {},
   "outputs": [
    {
     "data": {
      "text/plain": [
       "'C:\\\\Users\\\\LENOVO\\\\GitHub\\\\capstone_bangkit'"
      ]
     },
     "execution_count": 2,
     "metadata": {},
     "output_type": "execute_result"
    }
   ],
   "source": [
    "cwd = os.getcwd()\n",
    "cwd"
   ]
  },
  {
   "cell_type": "code",
   "execution_count": 3,
   "id": "321b511e",
   "metadata": {},
   "outputs": [],
   "source": [
    "# test_model = tf.saved_model.load('model/model_2023-11-15')"
   ]
  },
  {
   "cell_type": "code",
   "execution_count": 4,
   "id": "52224dc2",
   "metadata": {
    "scrolled": false
   },
   "outputs": [],
   "source": [
    "test_model = tf.keras.models.load_model('model/model_2023-11-15', custom_objects={\"TFBertModel\": TFBertModel})"
   ]
  },
  {
   "cell_type": "code",
   "execution_count": 5,
   "id": "96f26050",
   "metadata": {},
   "outputs": [
    {
     "ename": "AttributeError",
     "evalue": "'_UserObject' object has no attribute 'summary'",
     "output_type": "error",
     "traceback": [
      "\u001b[1;31m---------------------------------------------------------------------------\u001b[0m",
      "\u001b[1;31mAttributeError\u001b[0m                            Traceback (most recent call last)",
      "\u001b[1;32m~\\AppData\\Local\\Temp\\ipykernel_10572\\2565717887.py\u001b[0m in \u001b[0;36m<module>\u001b[1;34m\u001b[0m\n\u001b[1;32m----> 1\u001b[1;33m \u001b[0mtest_model\u001b[0m\u001b[1;33m.\u001b[0m\u001b[0msummary\u001b[0m\u001b[1;33m(\u001b[0m\u001b[1;33m)\u001b[0m\u001b[1;33m\u001b[0m\u001b[1;33m\u001b[0m\u001b[0m\n\u001b[0m",
      "\u001b[1;31mAttributeError\u001b[0m: '_UserObject' object has no attribute 'summary'"
     ]
    }
   ],
   "source": [
    "test_model.summary()"
   ]
  },
  {
   "cell_type": "code",
   "execution_count": 6,
   "id": "34901e4f",
   "metadata": {},
   "outputs": [
    {
     "data": {
      "text/plain": [
       "<tensorflow.python.saved_model.load.Loader._recreate_base_user_object.<locals>._UserObject at 0x251e53228e0>"
      ]
     },
     "execution_count": 6,
     "metadata": {},
     "output_type": "execute_result"
    }
   ],
   "source": [
    "test_model"
   ]
  },
  {
   "cell_type": "code",
   "execution_count": 7,
   "id": "7df8ca05",
   "metadata": {},
   "outputs": [
    {
     "ename": "AttributeError",
     "evalue": "'_UserObject' object has no attribute 'summary'",
     "output_type": "error",
     "traceback": [
      "\u001b[1;31m---------------------------------------------------------------------------\u001b[0m",
      "\u001b[1;31mAttributeError\u001b[0m                            Traceback (most recent call last)",
      "\u001b[1;32m~\\AppData\\Local\\Temp\\ipykernel_10572\\2565717887.py\u001b[0m in \u001b[0;36m<module>\u001b[1;34m\u001b[0m\n\u001b[1;32m----> 1\u001b[1;33m \u001b[0mtest_model\u001b[0m\u001b[1;33m.\u001b[0m\u001b[0msummary\u001b[0m\u001b[1;33m(\u001b[0m\u001b[1;33m)\u001b[0m\u001b[1;33m\u001b[0m\u001b[1;33m\u001b[0m\u001b[0m\n\u001b[0m",
      "\u001b[1;31mAttributeError\u001b[0m: '_UserObject' object has no attribute 'summary'"
     ]
    }
   ],
   "source": [
    "test_model.summary()"
   ]
  },
  {
   "cell_type": "code",
   "execution_count": 8,
   "id": "91eeea00",
   "metadata": {},
   "outputs": [
    {
     "data": {
      "text/plain": [
       "['archive', 'cnn_content_2023-11-11.csv']"
      ]
     },
     "execution_count": 8,
     "metadata": {},
     "output_type": "execute_result"
    }
   ],
   "source": [
    "test = os.path.join(cwd, 'content')\n",
    "os.listdir(test)"
   ]
  },
  {
   "cell_type": "code",
   "execution_count": 9,
   "id": "6b50b343",
   "metadata": {},
   "outputs": [
    {
     "data": {
      "text/html": [
       "<div>\n",
       "<style scoped>\n",
       "    .dataframe tbody tr th:only-of-type {\n",
       "        vertical-align: middle;\n",
       "    }\n",
       "\n",
       "    .dataframe tbody tr th {\n",
       "        vertical-align: top;\n",
       "    }\n",
       "\n",
       "    .dataframe thead th {\n",
       "        text-align: right;\n",
       "    }\n",
       "</style>\n",
       "<table border=\"1\" class=\"dataframe\">\n",
       "  <thead>\n",
       "    <tr style=\"text-align: right;\">\n",
       "      <th></th>\n",
       "      <th>berita</th>\n",
       "      <th>judul</th>\n",
       "      <th>sumber</th>\n",
       "      <th>tanggal</th>\n",
       "      <th>jenis</th>\n",
       "    </tr>\n",
       "  </thead>\n",
       "  <tbody>\n",
       "    <tr>\n",
       "      <th>0</th>\n",
       "      <td>Majelis Kehormatan Mahkamah Konstitusi (MKMK) ...</td>\n",
       "      <td>MKMK Perintahkan Saldi Isra Gelar Pemilihan Pe...</td>\n",
       "      <td>CNN Indonesia</td>\n",
       "      <td>Selasa, 07 Nov 2023 18:27 WIB</td>\n",
       "      <td>nasional</td>\n",
       "    </tr>\n",
       "    <tr>\n",
       "      <th>1</th>\n",
       "      <td>Majelis Kehormatan Mahkamah Konstitusi (MKMK) ...</td>\n",
       "      <td>Putusan MKMK: Anwar Usman Langgar Etik Berat, ...</td>\n",
       "      <td>CNN Indonesia</td>\n",
       "      <td>Selasa, 07 Nov 2023 18:20 WIB</td>\n",
       "      <td>nasional</td>\n",
       "    </tr>\n",
       "    <tr>\n",
       "      <th>2</th>\n",
       "      <td>Mahfud lekat dengan inisial MD yang tersemat d...</td>\n",
       "      <td>Asal Usul MD di Buntut Nama Mahfud</td>\n",
       "      <td>CNN Indonesia</td>\n",
       "      <td>Kamis, 02 Nov 2023 16:17 WIB</td>\n",
       "      <td>nasional</td>\n",
       "    </tr>\n",
       "    <tr>\n",
       "      <th>3</th>\n",
       "      <td>Perebutan tiket atau yang populer dengan istil...</td>\n",
       "      <td>Mereka yang Tersingkir di War Tiket Cawapres 2024</td>\n",
       "      <td>CNN Indonesia</td>\n",
       "      <td>Jumat, 27 Okt 2023 10:12 WIB</td>\n",
       "      <td>nasional</td>\n",
       "    </tr>\n",
       "    <tr>\n",
       "      <th>4</th>\n",
       "      <td>Riuh Pemilu 2024 tak cuma seputar capres-cawap...</td>\n",
       "      <td>Pertarungan Caleg di Dapil Neraka Jakarta II</td>\n",
       "      <td>CNN Indonesia</td>\n",
       "      <td>Rabu, 11 Okt 2023 07:15 WIB</td>\n",
       "      <td>nasional</td>\n",
       "    </tr>\n",
       "    <tr>\n",
       "      <th>5</th>\n",
       "      <td>Menteri Kesehatan (Menkes) Budi Gunadi Sadikin...</td>\n",
       "      <td>Menkes Susun UU Baru: Pengguna Napza yang Saki...</td>\n",
       "      <td>CNN Indonesia</td>\n",
       "      <td>Selasa, 07 Nov 2023 18:03 WIB</td>\n",
       "      <td>nasional</td>\n",
       "    </tr>\n",
       "    <tr>\n",
       "      <th>6</th>\n",
       "      <td>Bakal calon presiden Koalisi Perubahan Anies B...</td>\n",
       "      <td>Anies Respons Tim Prabowo-Gibran Gaet Khofifah...</td>\n",
       "      <td>CNN Indonesia</td>\n",
       "      <td>Selasa, 07 Nov 2023 17:54 WIB</td>\n",
       "      <td>nasional</td>\n",
       "    </tr>\n",
       "    <tr>\n",
       "      <th>7</th>\n",
       "      <td>Menteri Pertahanan Prabowo Subianto menyebut a...</td>\n",
       "      <td>Prabowo Sebut Ada Menteri Neoliberal di Kabine...</td>\n",
       "      <td>CNN Indonesia</td>\n",
       "      <td>Selasa, 07 Nov 2023 17:45 WIB</td>\n",
       "      <td>nasional</td>\n",
       "    </tr>\n",
       "    <tr>\n",
       "      <th>8</th>\n",
       "      <td>Sembilan hakim Mahkamah Konstitusi (MK) dikena...</td>\n",
       "      <td>9 Hakim MK Kena Sanksi Teguran Lisan Buntut RP...</td>\n",
       "      <td>CNN Indonesia</td>\n",
       "      <td>Selasa, 07 Nov 2023 17:40 WIB</td>\n",
       "      <td>nasional</td>\n",
       "    </tr>\n",
       "    <tr>\n",
       "      <th>9</th>\n",
       "      <td>Undang-undang Nomor 7 Tahun 2017 tentang Pemil...</td>\n",
       "      <td>Pemilu: Pemda Dilarang Bertindak yang Merugika...</td>\n",
       "      <td>CNN Indonesia</td>\n",
       "      <td>Senin, 06 Nov 2023 10:42 WIB</td>\n",
       "      <td>nasional</td>\n",
       "    </tr>\n",
       "    <tr>\n",
       "      <th>10</th>\n",
       "      <td>Undang-undang Nomor 7 Tahun 2017 tentang Pemil...</td>\n",
       "      <td>Hakim MK hingga Komisaris BUMN Dilarang Ikut K...</td>\n",
       "      <td>CNN Indonesia</td>\n",
       "      <td>Senin, 30 Okt 2023 07:15 WIB</td>\n",
       "      <td>nasional</td>\n",
       "    </tr>\n",
       "    <tr>\n",
       "      <th>11</th>\n",
       "      <td>Seseorang yang mengajak orang lain agar tidak ...</td>\n",
       "      <td>UU Pemilu: Ajak Orang Lain Golput Bisa Disanks...</td>\n",
       "      <td>CNN Indonesia</td>\n",
       "      <td>Selasa, 24 Okt 2023 06:36 WIB</td>\n",
       "      <td>nasional</td>\n",
       "    </tr>\n",
       "    <tr>\n",
       "      <th>12</th>\n",
       "      <td>Majelis Kehormatan Mahkamah Konstitusi (MKMK) ...</td>\n",
       "      <td>Putusan MKMK: Arief Hidayat Langgar Etik Renda...</td>\n",
       "      <td>CNN Indonesia</td>\n",
       "      <td>Selasa, 07 Nov 2023 17:38 WIB</td>\n",
       "      <td>nasional</td>\n",
       "    </tr>\n",
       "    <tr>\n",
       "      <th>13</th>\n",
       "      <td>Ikatan Dokter Indonesia (IDI) menyatakan kasus...</td>\n",
       "      <td>IDI: Kasus Cacar Monyet di RI Bertambah Jadi 35</td>\n",
       "      <td>CNN Indonesia</td>\n",
       "      <td>Selasa, 07 Nov 2023 17:29 WIB</td>\n",
       "      <td>nasional</td>\n",
       "    </tr>\n",
       "    <tr>\n",
       "      <th>14</th>\n",
       "      <td>Kapolri Jenderal Listyo Sigit Prabowo memberik...</td>\n",
       "      <td>Kapolri Beri Kenaikan Pangkat Luar Biasa ke Pe...</td>\n",
       "      <td>CNN Indonesia</td>\n",
       "      <td>Selasa, 07 Nov 2023 17:25 WIB</td>\n",
       "      <td>nasional</td>\n",
       "    </tr>\n",
       "    <tr>\n",
       "      <th>15</th>\n",
       "      <td>Majelis Kehormatan Mahkamah Konstitusi (MKMK) ...</td>\n",
       "      <td>Putusan MKMK: Saldi Isra Tidak Langgar Etik so...</td>\n",
       "      <td>CNN Indonesia</td>\n",
       "      <td>Selasa, 07 Nov 2023 17:09 WIB</td>\n",
       "      <td>nasional</td>\n",
       "    </tr>\n",
       "    <tr>\n",
       "      <th>16</th>\n",
       "      <td>Majelis Kehormatan Mahkamah Konstitusi (MKMK) ...</td>\n",
       "      <td>Putusan MKMK: 9 Hakim MK Langgar Etik Bocor In...</td>\n",
       "      <td>CNN Indonesia</td>\n",
       "      <td>Selasa, 07 Nov 2023 16:45 WIB</td>\n",
       "      <td>nasional</td>\n",
       "    </tr>\n",
       "    <tr>\n",
       "      <th>17</th>\n",
       "      <td>Komisaris PT Pertamina (Persero) Basuki Tjahaj...</td>\n",
       "      <td>Ahok Buka Suara Usai Diperiksa KPK 6 Jam di Ka...</td>\n",
       "      <td>CNN Indonesia</td>\n",
       "      <td>Selasa, 07 Nov 2023 16:37 WIB</td>\n",
       "      <td>nasional</td>\n",
       "    </tr>\n",
       "    <tr>\n",
       "      <th>18</th>\n",
       "      <td>Koalisi Indonesia Maju (KIM) resmi mengumumkan...</td>\n",
       "      <td>Menakar Kekuatan Struktur Gemuk Bertabur Elite...</td>\n",
       "      <td>CNN Indonesia</td>\n",
       "      <td>Selasa, 07 Nov 2023 09:38 WIB</td>\n",
       "      <td>nasional</td>\n",
       "    </tr>\n",
       "    <tr>\n",
       "      <th>19</th>\n",
       "      <td>Majelis Kehormatan Mahkamah Konstitusi (MKMK) ...</td>\n",
       "      <td>Apakah Putusan Etik Anwar Cs Bisa Gugurkan Put...</td>\n",
       "      <td>CNN Indonesia</td>\n",
       "      <td>Senin, 06 Nov 2023 10:20 WIB</td>\n",
       "      <td>nasional</td>\n",
       "    </tr>\n",
       "  </tbody>\n",
       "</table>\n",
       "</div>"
      ],
      "text/plain": [
       "                                               berita  \\\n",
       "0   Majelis Kehormatan Mahkamah Konstitusi (MKMK) ...   \n",
       "1   Majelis Kehormatan Mahkamah Konstitusi (MKMK) ...   \n",
       "2   Mahfud lekat dengan inisial MD yang tersemat d...   \n",
       "3   Perebutan tiket atau yang populer dengan istil...   \n",
       "4   Riuh Pemilu 2024 tak cuma seputar capres-cawap...   \n",
       "5   Menteri Kesehatan (Menkes) Budi Gunadi Sadikin...   \n",
       "6   Bakal calon presiden Koalisi Perubahan Anies B...   \n",
       "7   Menteri Pertahanan Prabowo Subianto menyebut a...   \n",
       "8   Sembilan hakim Mahkamah Konstitusi (MK) dikena...   \n",
       "9   Undang-undang Nomor 7 Tahun 2017 tentang Pemil...   \n",
       "10  Undang-undang Nomor 7 Tahun 2017 tentang Pemil...   \n",
       "11  Seseorang yang mengajak orang lain agar tidak ...   \n",
       "12  Majelis Kehormatan Mahkamah Konstitusi (MKMK) ...   \n",
       "13  Ikatan Dokter Indonesia (IDI) menyatakan kasus...   \n",
       "14  Kapolri Jenderal Listyo Sigit Prabowo memberik...   \n",
       "15  Majelis Kehormatan Mahkamah Konstitusi (MKMK) ...   \n",
       "16  Majelis Kehormatan Mahkamah Konstitusi (MKMK) ...   \n",
       "17  Komisaris PT Pertamina (Persero) Basuki Tjahaj...   \n",
       "18  Koalisi Indonesia Maju (KIM) resmi mengumumkan...   \n",
       "19  Majelis Kehormatan Mahkamah Konstitusi (MKMK) ...   \n",
       "\n",
       "                                                judul         sumber  \\\n",
       "0   MKMK Perintahkan Saldi Isra Gelar Pemilihan Pe...  CNN Indonesia   \n",
       "1   Putusan MKMK: Anwar Usman Langgar Etik Berat, ...  CNN Indonesia   \n",
       "2                  Asal Usul MD di Buntut Nama Mahfud  CNN Indonesia   \n",
       "3   Mereka yang Tersingkir di War Tiket Cawapres 2024  CNN Indonesia   \n",
       "4        Pertarungan Caleg di Dapil Neraka Jakarta II  CNN Indonesia   \n",
       "5   Menkes Susun UU Baru: Pengguna Napza yang Saki...  CNN Indonesia   \n",
       "6   Anies Respons Tim Prabowo-Gibran Gaet Khofifah...  CNN Indonesia   \n",
       "7   Prabowo Sebut Ada Menteri Neoliberal di Kabine...  CNN Indonesia   \n",
       "8   9 Hakim MK Kena Sanksi Teguran Lisan Buntut RP...  CNN Indonesia   \n",
       "9   Pemilu: Pemda Dilarang Bertindak yang Merugika...  CNN Indonesia   \n",
       "10  Hakim MK hingga Komisaris BUMN Dilarang Ikut K...  CNN Indonesia   \n",
       "11  UU Pemilu: Ajak Orang Lain Golput Bisa Disanks...  CNN Indonesia   \n",
       "12  Putusan MKMK: Arief Hidayat Langgar Etik Renda...  CNN Indonesia   \n",
       "13    IDI: Kasus Cacar Monyet di RI Bertambah Jadi 35  CNN Indonesia   \n",
       "14  Kapolri Beri Kenaikan Pangkat Luar Biasa ke Pe...  CNN Indonesia   \n",
       "15  Putusan MKMK: Saldi Isra Tidak Langgar Etik so...  CNN Indonesia   \n",
       "16  Putusan MKMK: 9 Hakim MK Langgar Etik Bocor In...  CNN Indonesia   \n",
       "17  Ahok Buka Suara Usai Diperiksa KPK 6 Jam di Ka...  CNN Indonesia   \n",
       "18  Menakar Kekuatan Struktur Gemuk Bertabur Elite...  CNN Indonesia   \n",
       "19  Apakah Putusan Etik Anwar Cs Bisa Gugurkan Put...  CNN Indonesia   \n",
       "\n",
       "                            tanggal     jenis  \n",
       "0    Selasa, 07 Nov 2023 18:27 WIB   nasional  \n",
       "1    Selasa, 07 Nov 2023 18:20 WIB   nasional  \n",
       "2     Kamis, 02 Nov 2023 16:17 WIB   nasional  \n",
       "3     Jumat, 27 Okt 2023 10:12 WIB   nasional  \n",
       "4      Rabu, 11 Okt 2023 07:15 WIB   nasional  \n",
       "5    Selasa, 07 Nov 2023 18:03 WIB   nasional  \n",
       "6    Selasa, 07 Nov 2023 17:54 WIB   nasional  \n",
       "7    Selasa, 07 Nov 2023 17:45 WIB   nasional  \n",
       "8    Selasa, 07 Nov 2023 17:40 WIB   nasional  \n",
       "9     Senin, 06 Nov 2023 10:42 WIB   nasional  \n",
       "10    Senin, 30 Okt 2023 07:15 WIB   nasional  \n",
       "11   Selasa, 24 Okt 2023 06:36 WIB   nasional  \n",
       "12   Selasa, 07 Nov 2023 17:38 WIB   nasional  \n",
       "13   Selasa, 07 Nov 2023 17:29 WIB   nasional  \n",
       "14   Selasa, 07 Nov 2023 17:25 WIB   nasional  \n",
       "15   Selasa, 07 Nov 2023 17:09 WIB   nasional  \n",
       "16   Selasa, 07 Nov 2023 16:45 WIB   nasional  \n",
       "17   Selasa, 07 Nov 2023 16:37 WIB   nasional  \n",
       "18   Selasa, 07 Nov 2023 09:38 WIB   nasional  \n",
       "19    Senin, 06 Nov 2023 10:20 WIB   nasional  "
      ]
     },
     "execution_count": 9,
     "metadata": {},
     "output_type": "execute_result"
    }
   ],
   "source": [
    "real_df = pd.read_csv(os.path.join(test, 'cnn_content_2023-11-11.csv'))\n",
    "real_df"
   ]
  },
  {
   "cell_type": "code",
   "execution_count": 10,
   "id": "985574bf",
   "metadata": {},
   "outputs": [],
   "source": [
    "df = real_df[['berita']]"
   ]
  },
  {
   "cell_type": "code",
   "execution_count": 11,
   "id": "fe6949ac",
   "metadata": {},
   "outputs": [
    {
     "data": {
      "text/html": [
       "<div>\n",
       "<style scoped>\n",
       "    .dataframe tbody tr th:only-of-type {\n",
       "        vertical-align: middle;\n",
       "    }\n",
       "\n",
       "    .dataframe tbody tr th {\n",
       "        vertical-align: top;\n",
       "    }\n",
       "\n",
       "    .dataframe thead th {\n",
       "        text-align: right;\n",
       "    }\n",
       "</style>\n",
       "<table border=\"1\" class=\"dataframe\">\n",
       "  <thead>\n",
       "    <tr style=\"text-align: right;\">\n",
       "      <th></th>\n",
       "      <th>berita</th>\n",
       "    </tr>\n",
       "  </thead>\n",
       "  <tbody>\n",
       "    <tr>\n",
       "      <th>0</th>\n",
       "      <td>Majelis Kehormatan Mahkamah Konstitusi (MKMK) ...</td>\n",
       "    </tr>\n",
       "    <tr>\n",
       "      <th>1</th>\n",
       "      <td>Majelis Kehormatan Mahkamah Konstitusi (MKMK) ...</td>\n",
       "    </tr>\n",
       "    <tr>\n",
       "      <th>2</th>\n",
       "      <td>Mahfud lekat dengan inisial MD yang tersemat d...</td>\n",
       "    </tr>\n",
       "    <tr>\n",
       "      <th>3</th>\n",
       "      <td>Perebutan tiket atau yang populer dengan istil...</td>\n",
       "    </tr>\n",
       "    <tr>\n",
       "      <th>4</th>\n",
       "      <td>Riuh Pemilu 2024 tak cuma seputar capres-cawap...</td>\n",
       "    </tr>\n",
       "    <tr>\n",
       "      <th>5</th>\n",
       "      <td>Menteri Kesehatan (Menkes) Budi Gunadi Sadikin...</td>\n",
       "    </tr>\n",
       "    <tr>\n",
       "      <th>6</th>\n",
       "      <td>Bakal calon presiden Koalisi Perubahan Anies B...</td>\n",
       "    </tr>\n",
       "    <tr>\n",
       "      <th>7</th>\n",
       "      <td>Menteri Pertahanan Prabowo Subianto menyebut a...</td>\n",
       "    </tr>\n",
       "    <tr>\n",
       "      <th>8</th>\n",
       "      <td>Sembilan hakim Mahkamah Konstitusi (MK) dikena...</td>\n",
       "    </tr>\n",
       "    <tr>\n",
       "      <th>9</th>\n",
       "      <td>Undang-undang Nomor 7 Tahun 2017 tentang Pemil...</td>\n",
       "    </tr>\n",
       "    <tr>\n",
       "      <th>10</th>\n",
       "      <td>Undang-undang Nomor 7 Tahun 2017 tentang Pemil...</td>\n",
       "    </tr>\n",
       "    <tr>\n",
       "      <th>11</th>\n",
       "      <td>Seseorang yang mengajak orang lain agar tidak ...</td>\n",
       "    </tr>\n",
       "    <tr>\n",
       "      <th>12</th>\n",
       "      <td>Majelis Kehormatan Mahkamah Konstitusi (MKMK) ...</td>\n",
       "    </tr>\n",
       "    <tr>\n",
       "      <th>13</th>\n",
       "      <td>Ikatan Dokter Indonesia (IDI) menyatakan kasus...</td>\n",
       "    </tr>\n",
       "    <tr>\n",
       "      <th>14</th>\n",
       "      <td>Kapolri Jenderal Listyo Sigit Prabowo memberik...</td>\n",
       "    </tr>\n",
       "    <tr>\n",
       "      <th>15</th>\n",
       "      <td>Majelis Kehormatan Mahkamah Konstitusi (MKMK) ...</td>\n",
       "    </tr>\n",
       "    <tr>\n",
       "      <th>16</th>\n",
       "      <td>Majelis Kehormatan Mahkamah Konstitusi (MKMK) ...</td>\n",
       "    </tr>\n",
       "    <tr>\n",
       "      <th>17</th>\n",
       "      <td>Komisaris PT Pertamina (Persero) Basuki Tjahaj...</td>\n",
       "    </tr>\n",
       "    <tr>\n",
       "      <th>18</th>\n",
       "      <td>Koalisi Indonesia Maju (KIM) resmi mengumumkan...</td>\n",
       "    </tr>\n",
       "    <tr>\n",
       "      <th>19</th>\n",
       "      <td>Majelis Kehormatan Mahkamah Konstitusi (MKMK) ...</td>\n",
       "    </tr>\n",
       "    <tr>\n",
       "      <th>20</th>\n",
       "      <td>lewat di tl aku, dan aku kaget. Aku kira RS in...</td>\n",
       "    </tr>\n",
       "    <tr>\n",
       "      <th>21</th>\n",
       "      <td>Jog dalam kota kecepatan 80km/jam dan nerobos ...</td>\n",
       "    </tr>\n",
       "    <tr>\n",
       "      <th>22</th>\n",
       "      <td>Peta hubungan diplomatik Israel dengan negara-...</td>\n",
       "    </tr>\n",
       "    <tr>\n",
       "      <th>23</th>\n",
       "      <td>Pernah penasaran ga sih kenapa Nabi &amp; Rasul it...</td>\n",
       "    </tr>\n",
       "    <tr>\n",
       "      <th>24</th>\n",
       "      <td>Ada perbedaan pada momen kelahiran anak kedua ...</td>\n",
       "    </tr>\n",
       "  </tbody>\n",
       "</table>\n",
       "</div>"
      ],
      "text/plain": [
       "                                               berita\n",
       "0   Majelis Kehormatan Mahkamah Konstitusi (MKMK) ...\n",
       "1   Majelis Kehormatan Mahkamah Konstitusi (MKMK) ...\n",
       "2   Mahfud lekat dengan inisial MD yang tersemat d...\n",
       "3   Perebutan tiket atau yang populer dengan istil...\n",
       "4   Riuh Pemilu 2024 tak cuma seputar capres-cawap...\n",
       "5   Menteri Kesehatan (Menkes) Budi Gunadi Sadikin...\n",
       "6   Bakal calon presiden Koalisi Perubahan Anies B...\n",
       "7   Menteri Pertahanan Prabowo Subianto menyebut a...\n",
       "8   Sembilan hakim Mahkamah Konstitusi (MK) dikena...\n",
       "9   Undang-undang Nomor 7 Tahun 2017 tentang Pemil...\n",
       "10  Undang-undang Nomor 7 Tahun 2017 tentang Pemil...\n",
       "11  Seseorang yang mengajak orang lain agar tidak ...\n",
       "12  Majelis Kehormatan Mahkamah Konstitusi (MKMK) ...\n",
       "13  Ikatan Dokter Indonesia (IDI) menyatakan kasus...\n",
       "14  Kapolri Jenderal Listyo Sigit Prabowo memberik...\n",
       "15  Majelis Kehormatan Mahkamah Konstitusi (MKMK) ...\n",
       "16  Majelis Kehormatan Mahkamah Konstitusi (MKMK) ...\n",
       "17  Komisaris PT Pertamina (Persero) Basuki Tjahaj...\n",
       "18  Koalisi Indonesia Maju (KIM) resmi mengumumkan...\n",
       "19  Majelis Kehormatan Mahkamah Konstitusi (MKMK) ...\n",
       "20  lewat di tl aku, dan aku kaget. Aku kira RS in...\n",
       "21  Jog dalam kota kecepatan 80km/jam dan nerobos ...\n",
       "22  Peta hubungan diplomatik Israel dengan negara-...\n",
       "23  Pernah penasaran ga sih kenapa Nabi & Rasul it...\n",
       "24  Ada perbedaan pada momen kelahiran anak kedua ..."
      ]
     },
     "execution_count": 11,
     "metadata": {},
     "output_type": "execute_result"
    }
   ],
   "source": [
    "test_twt = {\n",
    "    'berita' : [\"lewat di tl aku, dan aku kaget. Aku kira RS ini dibangunnya sama pemerintah kita ternyata pembangunannya dari uang donasi masyarakat kita toh aku nangis banget pas liat videonya juga\", \"Jog dalam kota kecepatan 80km/jam dan nerobos lampu merah. Dimf bawah ini juga ada cctv kalau ojol berhenti dipinggir anda tabrak, giliran diminta ganti rugi merasa diperas. Playing victim sekali ya wkwkwk\", \"Peta hubungan diplomatik Israel dengan negara-negara dunia. Hanya ada satu negara dengan perekonomian raksasa ber-GDP di atas $1 triliun yang belum pernah menjalin relasi sama Israel. Yep, Indonesia.\", \"Pernah penasaran ga sih kenapa Nabi & Rasul itu diutusnya di Arab, Jordan, & Mesir padahal dunia ini luas? Gambar ini sedikit banyak menjelaskan\", \"Ada perbedaan pada momen kelahiran anak kedua pasangan Atta Halilintar dan Aurel Hermansyah. Pasalnya, semua orangtua atau nenek dari Ameena dan putri keduanya turut hadir. Tentunya hal ini memberikan kebahagiaan bagi Atta dan Aurel. Apalagi mengingat saat momen Ameena lahir, tak seramai kelahiran anak keduanya ini. Saat ditemui di RSIA Bunda, Jakarta Pusat, Senin (13/11) Atta Halilintar merasa momen kelahiran adik Ameena seperti mimpi yang menjadi kenyataan baginya. “Ini udah kayak mimpi jadi nyata buat saya sama Aurel karena semua orangtua bisa hadir. Kemarin (anak pertama) lahiran kan pas Covid ya jadi nggak semua bisa hadir,” ungkap Atta Halilintar. 1. Didampingi Orang-Orang Tersayang Diketahui Dalam foto yang dibagikan di akun media sosial Atta Halilintar, ayah dan ibunya tampak hadir di rumah sakit. Begitu juga dengan orangtua Aurel, Anang Hermansyah dan Ashanty serta Krisdayanti yang tak ingin ketinggalan momen tersebut. Atta pun mengatakan, orangtua dan mertuanya hadir di rumah sakit menanti detik-detik kelahiran anak keduanya. Bahkan mereka juga rela berangkat dini hari ke rumah sakit. 2. Berkumpul Sejak Subuh “Semua mendoakan, semua lengkap semuanya udah ada dari pagi ngumpul di RSIA Bunda mengantar ke rumah sakit dari jam 03.00 WIB terus salat subuh bareng juga,” ujarnya. Ia menilai doa dari orangtuanya dan mertuanya menjadi kekuatan bagi Aurel Hermansyah. “Jadi menurutku doa dari semua jadi menguatkan juga ya. Semua sudah nggak sabar menyambut cucu keduanya,” tukasnya.\"] \n",
    "}\n",
    "\n",
    "df_test_twt = pd.DataFrame(test_twt)\n",
    "df_test_twt\n",
    "\n",
    "df = pd.concat([real_df[['berita']], df_test_twt], ignore_index=True)\n",
    "df"
   ]
  },
  {
   "cell_type": "code",
   "execution_count": 12,
   "id": "34b05028",
   "metadata": {},
   "outputs": [
    {
     "data": {
      "text/plain": [
       "{'input_ids': <tf.Tensor: shape=(25, 70), dtype=int32, numpy=\n",
       "array([[    2,  6810,  9293, ...,   680, 30471,     3],\n",
       "       [    2,  6810,  9293, ...,  4887,  7343,     3],\n",
       "       [    2, 20469, 26243, ...,   126,  1328,     3],\n",
       "       ...,\n",
       "       [    2,  2577,  1314, ...,     0,     0,     0],\n",
       "       [    2,   746,  5728, ...,     0,     0,     0],\n",
       "       [    2,   176,  2217, ...,   102,  6455,     3]])>, 'attention_mask': <tf.Tensor: shape=(25, 70), dtype=int32, numpy=\n",
       "array([[1, 1, 1, ..., 1, 1, 1],\n",
       "       [1, 1, 1, ..., 1, 1, 1],\n",
       "       [1, 1, 1, ..., 1, 1, 1],\n",
       "       ...,\n",
       "       [1, 1, 1, ..., 0, 0, 0],\n",
       "       [1, 1, 1, ..., 0, 0, 0],\n",
       "       [1, 1, 1, ..., 1, 1, 1]])>}"
      ]
     },
     "execution_count": 12,
     "metadata": {},
     "output_type": "execute_result"
    }
   ],
   "source": [
    "# datapath = os.path.join(cwd, 'dataset')\n",
    "\n",
    "# df = pd.read_excel(os.path.join(datapath, 'all_cleaned.xlsx'))\n",
    "# df = df[['berita', 'label']]\n",
    "\n",
    "df.drop_duplicates(inplace=True)\n",
    "df.dropna(inplace = True)\n",
    "\n",
    "df_test = df\n",
    "\n",
    "max_len = 70\n",
    "model_name = 'indobenchmark/indobert-base-p1'\n",
    "tokenizer = AutoTokenizer.from_pretrained(model_name)\n",
    "\n",
    "X_train = tokenizer(\n",
    "    text=df_test['berita'].tolist(),\n",
    "    add_special_tokens=True,\n",
    "    max_length=max_len,\n",
    "    truncation=True,\n",
    "    padding=True,\n",
    "    return_tensors='tf',\n",
    "    return_token_type_ids=False,\n",
    "    return_attention_mask=True,\n",
    "    verbose=True\n",
    ")\n",
    "\n",
    "X_train"
   ]
  },
  {
   "cell_type": "code",
   "execution_count": 13,
   "id": "eeca9d0f",
   "metadata": {},
   "outputs": [
    {
     "data": {
      "text/plain": [
       "Encoding(num_tokens=70, attributes=[ids, type_ids, tokens, offsets, attention_mask, special_tokens_mask, overflowing])"
      ]
     },
     "execution_count": 13,
     "metadata": {},
     "output_type": "execute_result"
    }
   ],
   "source": [
    "X_train[20]"
   ]
  },
  {
   "cell_type": "code",
   "execution_count": 14,
   "id": "bf6b1eec",
   "metadata": {},
   "outputs": [
    {
     "data": {
      "text/plain": [
       "['lewat',\n",
       " 'di',\n",
       " 'tl',\n",
       " 'aku,',\n",
       " 'dan',\n",
       " 'aku',\n",
       " 'kaget.',\n",
       " 'Aku',\n",
       " 'kira',\n",
       " 'RS',\n",
       " 'ini',\n",
       " 'dibangunnya',\n",
       " 'sama',\n",
       " 'pemerintah',\n",
       " 'kita',\n",
       " 'ternyata',\n",
       " 'pembangunannya',\n",
       " 'dari',\n",
       " 'uang',\n",
       " 'donasi',\n",
       " 'masyarakat',\n",
       " 'kita',\n",
       " 'toh',\n",
       " 'aku',\n",
       " 'nangis',\n",
       " 'banget',\n",
       " 'pas',\n",
       " 'liat',\n",
       " 'videonya',\n",
       " 'juga']"
      ]
     },
     "execution_count": 14,
     "metadata": {},
     "output_type": "execute_result"
    }
   ],
   "source": [
    "df.iloc[20]['berita'].split()"
   ]
  },
  {
   "cell_type": "code",
   "execution_count": 15,
   "id": "04110506",
   "metadata": {},
   "outputs": [
    {
     "data": {
      "text/plain": [
       "<tf.Tensor: shape=(70,), dtype=int32, numpy=\n",
       "array([    2,  2145,    26,  9480,   304, 30468,    41,   304,  7950,\n",
       "       30470,   304,  5157,  3935,    92,  3887,    57,   500,   877,\n",
       "         219,  1369, 24734,    98,   988, 21781,   552,   219,  8027,\n",
       "         304, 15089,  2174,   280,  4961, 21370,   186,     3,     0,\n",
       "           0,     0,     0,     0,     0,     0,     0,     0,     0,\n",
       "           0,     0,     0,     0,     0,     0,     0,     0,     0,\n",
       "           0,     0,     0,     0,     0,     0,     0,     0,     0,\n",
       "           0,     0,     0,     0,     0,     0,     0])>"
      ]
     },
     "execution_count": 15,
     "metadata": {},
     "output_type": "execute_result"
    }
   ],
   "source": [
    "X_train['input_ids'][20]"
   ]
  },
  {
   "cell_type": "code",
   "execution_count": 16,
   "id": "c2f6868c",
   "metadata": {},
   "outputs": [
    {
     "data": {
      "text/plain": [
       "<tf.Tensor: shape=(70,), dtype=int32, numpy=\n",
       "array([1, 1, 1, 1, 1, 1, 1, 1, 1, 1, 1, 1, 1, 1, 1, 1, 1, 1, 1, 1, 1, 1,\n",
       "       1, 1, 1, 1, 1, 1, 1, 1, 1, 1, 1, 1, 1, 0, 0, 0, 0, 0, 0, 0, 0, 0,\n",
       "       0, 0, 0, 0, 0, 0, 0, 0, 0, 0, 0, 0, 0, 0, 0, 0, 0, 0, 0, 0, 0, 0,\n",
       "       0, 0, 0, 0])>"
      ]
     },
     "execution_count": 16,
     "metadata": {},
     "output_type": "execute_result"
    }
   ],
   "source": [
    "X_train['attention_mask'][20]"
   ]
  },
  {
   "cell_type": "code",
   "execution_count": 17,
   "id": "cf4a6ef1",
   "metadata": {},
   "outputs": [],
   "source": [
    "input_ids = tf.TensorSpec.from_tensor(X_train['input_ids'], name = 'input_ids')\n",
    "attention_mask = tf.TensorSpec.from_tensor(X_train['attention_mask'], name = 'attention_mask')"
   ]
  },
  {
   "cell_type": "code",
   "execution_count": 18,
   "id": "d9a86ec0",
   "metadata": {},
   "outputs": [
    {
     "data": {
      "text/plain": [
       "'Kapolri Jenderal Listyo Sigit Prabowo memberikan penghargaan Kenaikan Pangkat Luar Biasa (KPLB) kepada 47 personel Satgas Damai Cartenz. Penghargaan KPLB tersebut diberikan langsung oleh Kapolri secara simbolis kepada tiga perwakilan Satgas Damai Cartenz yakni Ipda Erlang Surya Agustian, Bripka Suhardi, dan Bharatu Muhrijan Tangahu di Hotel Borobudur, Jakarta, Selasa (7/11).    Kepala Biro Psikologi Sumber Daya Manusia (SDM) Polri Brigjen Kristiyono mengatakan penghargaan diberikan Listyo terhadap seluruh anggota yang bertugas melawan Kelompok Kriminal Bersenjata (KKB) di wilayah Papua. \"Itu bentuk apresiasi dari pimpinan terhadap kinerja anggota yang telah memberikan tenaga dan pikirannya untuk melakukan kegiatan pengamanan di wilayah Papua,\" kata Kristiyono usai Rapat Koordinasi Pembinaan (Rakorbin) SDM Polri di Hotel Borobudur. Kenaikan pangkat luar biasa itu sebagai penghargaan atas keberhasilan Satgas Damai Cartenz ketika menggerebek markas KKB pimpinan Ananias Ati Mimin di wilayah Pegunungan Bintang, pada 29 September. Dalam operasi tersebut, Satgas Damai Cartenz berhasil menembak mati lima anggota KKB pimpinan Ananias Ati Mimin dan menyita total empat senjata api organik dan 399 butir amunisi.  Terpisah, Kepala Operasi Damai Cartenz Kombes Faizal Ramadhani mengaku bangga atas pemberian penghargaan yang diberikan oleh Kapolri tersebut. Ia menegaskan keberhasilan operasi tersebut tidak terlepas dari peran stakeholder terkait lainnya seperti TNI, pemerintah daerah, dan masyarakat setempat. \"Keberhasilan ini merupakan keberhasilan kita bersama dalam upaya penegakkan hukum terhadap KKB serta upaya mewujudkan situasi aman dan tentram di tanah Papua,\" jelasnya. Selain memberikan penghargaan KPLB, Listyo juga memberikan promosi jabatan terhadap empat personel Satgas Damai Cartenz lainnya serta pemberian pin emas Kapolri kepada 52 personel.'"
      ]
     },
     "execution_count": 18,
     "metadata": {},
     "output_type": "execute_result"
    }
   ],
   "source": [
    "df.berita[14]"
   ]
  },
  {
   "cell_type": "code",
   "execution_count": 19,
   "id": "45f4bfbf",
   "metadata": {},
   "outputs": [
    {
     "data": {
      "text/plain": [
       "([0, 0, 1, 0, 0, 0, 0, 0, 0, 0, 0, 0, 0, 1, 1, 0, 0, 1, 0, 0, 1, 1, 1, 1, 1],\n",
       " <tf.Tensor: shape=(25, 1), dtype=float32, numpy=\n",
       " array([[0.21018264],\n",
       "        [0.06515755],\n",
       "        [0.81459844],\n",
       "        [0.20085591],\n",
       "        [0.08414769],\n",
       "        [0.12640078],\n",
       "        [0.01411121],\n",
       "        [0.06522382],\n",
       "        [0.37205437],\n",
       "        [0.44566485],\n",
       "        [0.05212738],\n",
       "        [0.49168324],\n",
       "        [0.3052911 ],\n",
       "        [0.82749903],\n",
       "        [0.5306682 ],\n",
       "        [0.30376476],\n",
       "        [0.05958658],\n",
       "        [0.5941604 ],\n",
       "        [0.01425847],\n",
       "        [0.19136627],\n",
       "        [0.989747  ],\n",
       "        [0.9941998 ],\n",
       "        [0.88260114],\n",
       "        [0.9957684 ],\n",
       "        [0.6108307 ]], dtype=float32)>)"
      ]
     },
     "execution_count": 19,
     "metadata": {},
     "output_type": "execute_result"
    }
   ],
   "source": [
    "predicted = test_model([X_train['input_ids'], X_train['attention_mask']])\n",
    "y_predicted = [1 if pred >= 0.5 else 0 for pred in predicted]\n",
    "y_predicted, predicted"
   ]
  }
 ],
 "metadata": {
  "kernelspec": {
   "display_name": "Python 3 (ipykernel)",
   "language": "python",
   "name": "python3"
  },
  "language_info": {
   "codemirror_mode": {
    "name": "ipython",
    "version": 3
   },
   "file_extension": ".py",
   "mimetype": "text/x-python",
   "name": "python",
   "nbconvert_exporter": "python",
   "pygments_lexer": "ipython3",
   "version": "3.9.17"
  }
 },
 "nbformat": 4,
 "nbformat_minor": 5
}
