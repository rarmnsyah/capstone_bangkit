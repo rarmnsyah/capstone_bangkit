{
 "cells": [
  {
   "cell_type": "code",
   "execution_count": 2,
   "id": "864b5b52",
   "metadata": {},
   "outputs": [],
   "source": [
    "import pandas as pd\n",
    "import numpy as np\n",
    "import tensorflow as tf\n",
    "import os\n",
    "import matplotlib.pyplot as plt\n",
    "\n",
    "from transformers import AutoTokenizer, TFBertModel\n",
    "from sklearn.metrics import ConfusionMatrixDisplay\n",
    "from sklearn.model_selection import train_test_split\n",
    "from tensorflow.keras.optimizers import Adam\n",
    "from tensorflow.keras.callbacks import EarlyStopping\n",
    "from imblearn.under_sampling import RandomUnderSampler\n",
    "from tensorflow.keras.initializers import TruncatedNormal\n",
    "from tensorflow.keras.losses import BinaryCrossentropy\n",
    "from tensorflow.keras.utils import to_categorical\n",
    "from tensorflow.keras.layers import Input, Dense"
   ]
  },
  {
   "cell_type": "code",
   "execution_count": 3,
   "id": "3802b05e",
   "metadata": {},
   "outputs": [
    {
     "data": {
      "text/plain": [
       "'c:\\\\Users\\\\LENOVO\\\\GitHub\\\\capstone_bangkit'"
      ]
     },
     "execution_count": 3,
     "metadata": {},
     "output_type": "execute_result"
    }
   ],
   "source": [
    "cwd = os.getcwd()\n",
    "cwd"
   ]
  },
  {
   "cell_type": "code",
   "execution_count": 4,
   "id": "321b511e",
   "metadata": {},
   "outputs": [],
   "source": [
    "test_model = tf.saved_model.load('model_3_2023-11-08')"
   ]
  },
  {
   "cell_type": "code",
   "execution_count": 5,
   "id": "34901e4f",
   "metadata": {},
   "outputs": [
    {
     "data": {
      "text/plain": [
       "<tensorflow.python.saved_model.load.Loader._recreate_base_user_object.<locals>._UserObject at 0x21ab483ca00>"
      ]
     },
     "execution_count": 5,
     "metadata": {},
     "output_type": "execute_result"
    }
   ],
   "source": [
    "test_model"
   ]
  },
  {
   "cell_type": "code",
   "execution_count": 6,
   "metadata": {},
   "outputs": [
    {
     "data": {
      "text/plain": [
       "['cnn_content_2023-11-11.csv']"
      ]
     },
     "execution_count": 6,
     "metadata": {},
     "output_type": "execute_result"
    }
   ],
   "source": [
    "test = os.path.join(cwd, 'content')\n",
    "os.listdir(test)"
   ]
  },
  {
   "cell_type": "code",
   "execution_count": 7,
   "metadata": {},
   "outputs": [
    {
     "data": {
      "text/html": [
       "<div>\n",
       "<style scoped>\n",
       "    .dataframe tbody tr th:only-of-type {\n",
       "        vertical-align: middle;\n",
       "    }\n",
       "\n",
       "    .dataframe tbody tr th {\n",
       "        vertical-align: top;\n",
       "    }\n",
       "\n",
       "    .dataframe thead th {\n",
       "        text-align: right;\n",
       "    }\n",
       "</style>\n",
       "<table border=\"1\" class=\"dataframe\">\n",
       "  <thead>\n",
       "    <tr style=\"text-align: right;\">\n",
       "      <th></th>\n",
       "      <th>berita</th>\n",
       "      <th>judul</th>\n",
       "      <th>sumber</th>\n",
       "      <th>tanggal</th>\n",
       "      <th>jenis</th>\n",
       "    </tr>\n",
       "  </thead>\n",
       "  <tbody>\n",
       "    <tr>\n",
       "      <th>0</th>\n",
       "      <td>Majelis Kehormatan Mahkamah Konstitusi (MKMK) ...</td>\n",
       "      <td>MKMK Perintahkan Saldi Isra Gelar Pemilihan Pe...</td>\n",
       "      <td>CNN Indonesia</td>\n",
       "      <td>Selasa, 07 Nov 2023 18:27 WIB</td>\n",
       "      <td>nasional</td>\n",
       "    </tr>\n",
       "    <tr>\n",
       "      <th>1</th>\n",
       "      <td>Majelis Kehormatan Mahkamah Konstitusi (MKMK) ...</td>\n",
       "      <td>Putusan MKMK: Anwar Usman Langgar Etik Berat, ...</td>\n",
       "      <td>CNN Indonesia</td>\n",
       "      <td>Selasa, 07 Nov 2023 18:20 WIB</td>\n",
       "      <td>nasional</td>\n",
       "    </tr>\n",
       "    <tr>\n",
       "      <th>2</th>\n",
       "      <td>Mahfud lekat dengan inisial MD yang tersemat d...</td>\n",
       "      <td>Asal Usul MD di Buntut Nama Mahfud</td>\n",
       "      <td>CNN Indonesia</td>\n",
       "      <td>Kamis, 02 Nov 2023 16:17 WIB</td>\n",
       "      <td>nasional</td>\n",
       "    </tr>\n",
       "    <tr>\n",
       "      <th>3</th>\n",
       "      <td>Perebutan tiket atau yang populer dengan istil...</td>\n",
       "      <td>Mereka yang Tersingkir di War Tiket Cawapres 2024</td>\n",
       "      <td>CNN Indonesia</td>\n",
       "      <td>Jumat, 27 Okt 2023 10:12 WIB</td>\n",
       "      <td>nasional</td>\n",
       "    </tr>\n",
       "    <tr>\n",
       "      <th>4</th>\n",
       "      <td>Riuh Pemilu 2024 tak cuma seputar capres-cawap...</td>\n",
       "      <td>Pertarungan Caleg di Dapil Neraka Jakarta II</td>\n",
       "      <td>CNN Indonesia</td>\n",
       "      <td>Rabu, 11 Okt 2023 07:15 WIB</td>\n",
       "      <td>nasional</td>\n",
       "    </tr>\n",
       "    <tr>\n",
       "      <th>5</th>\n",
       "      <td>Menteri Kesehatan (Menkes) Budi Gunadi Sadikin...</td>\n",
       "      <td>Menkes Susun UU Baru: Pengguna Napza yang Saki...</td>\n",
       "      <td>CNN Indonesia</td>\n",
       "      <td>Selasa, 07 Nov 2023 18:03 WIB</td>\n",
       "      <td>nasional</td>\n",
       "    </tr>\n",
       "    <tr>\n",
       "      <th>6</th>\n",
       "      <td>Bakal calon presiden Koalisi Perubahan Anies B...</td>\n",
       "      <td>Anies Respons Tim Prabowo-Gibran Gaet Khofifah...</td>\n",
       "      <td>CNN Indonesia</td>\n",
       "      <td>Selasa, 07 Nov 2023 17:54 WIB</td>\n",
       "      <td>nasional</td>\n",
       "    </tr>\n",
       "    <tr>\n",
       "      <th>7</th>\n",
       "      <td>Menteri Pertahanan Prabowo Subianto menyebut a...</td>\n",
       "      <td>Prabowo Sebut Ada Menteri Neoliberal di Kabine...</td>\n",
       "      <td>CNN Indonesia</td>\n",
       "      <td>Selasa, 07 Nov 2023 17:45 WIB</td>\n",
       "      <td>nasional</td>\n",
       "    </tr>\n",
       "    <tr>\n",
       "      <th>8</th>\n",
       "      <td>Sembilan hakim Mahkamah Konstitusi (MK) dikena...</td>\n",
       "      <td>9 Hakim MK Kena Sanksi Teguran Lisan Buntut RP...</td>\n",
       "      <td>CNN Indonesia</td>\n",
       "      <td>Selasa, 07 Nov 2023 17:40 WIB</td>\n",
       "      <td>nasional</td>\n",
       "    </tr>\n",
       "    <tr>\n",
       "      <th>9</th>\n",
       "      <td>Undang-undang Nomor 7 Tahun 2017 tentang Pemil...</td>\n",
       "      <td>Pemilu: Pemda Dilarang Bertindak yang Merugika...</td>\n",
       "      <td>CNN Indonesia</td>\n",
       "      <td>Senin, 06 Nov 2023 10:42 WIB</td>\n",
       "      <td>nasional</td>\n",
       "    </tr>\n",
       "    <tr>\n",
       "      <th>10</th>\n",
       "      <td>Undang-undang Nomor 7 Tahun 2017 tentang Pemil...</td>\n",
       "      <td>Hakim MK hingga Komisaris BUMN Dilarang Ikut K...</td>\n",
       "      <td>CNN Indonesia</td>\n",
       "      <td>Senin, 30 Okt 2023 07:15 WIB</td>\n",
       "      <td>nasional</td>\n",
       "    </tr>\n",
       "    <tr>\n",
       "      <th>11</th>\n",
       "      <td>Seseorang yang mengajak orang lain agar tidak ...</td>\n",
       "      <td>UU Pemilu: Ajak Orang Lain Golput Bisa Disanks...</td>\n",
       "      <td>CNN Indonesia</td>\n",
       "      <td>Selasa, 24 Okt 2023 06:36 WIB</td>\n",
       "      <td>nasional</td>\n",
       "    </tr>\n",
       "    <tr>\n",
       "      <th>12</th>\n",
       "      <td>Majelis Kehormatan Mahkamah Konstitusi (MKMK) ...</td>\n",
       "      <td>Putusan MKMK: Arief Hidayat Langgar Etik Renda...</td>\n",
       "      <td>CNN Indonesia</td>\n",
       "      <td>Selasa, 07 Nov 2023 17:38 WIB</td>\n",
       "      <td>nasional</td>\n",
       "    </tr>\n",
       "    <tr>\n",
       "      <th>13</th>\n",
       "      <td>Ikatan Dokter Indonesia (IDI) menyatakan kasus...</td>\n",
       "      <td>IDI: Kasus Cacar Monyet di RI Bertambah Jadi 35</td>\n",
       "      <td>CNN Indonesia</td>\n",
       "      <td>Selasa, 07 Nov 2023 17:29 WIB</td>\n",
       "      <td>nasional</td>\n",
       "    </tr>\n",
       "    <tr>\n",
       "      <th>14</th>\n",
       "      <td>Kapolri Jenderal Listyo Sigit Prabowo memberik...</td>\n",
       "      <td>Kapolri Beri Kenaikan Pangkat Luar Biasa ke Pe...</td>\n",
       "      <td>CNN Indonesia</td>\n",
       "      <td>Selasa, 07 Nov 2023 17:25 WIB</td>\n",
       "      <td>nasional</td>\n",
       "    </tr>\n",
       "    <tr>\n",
       "      <th>15</th>\n",
       "      <td>Majelis Kehormatan Mahkamah Konstitusi (MKMK) ...</td>\n",
       "      <td>Putusan MKMK: Saldi Isra Tidak Langgar Etik so...</td>\n",
       "      <td>CNN Indonesia</td>\n",
       "      <td>Selasa, 07 Nov 2023 17:09 WIB</td>\n",
       "      <td>nasional</td>\n",
       "    </tr>\n",
       "    <tr>\n",
       "      <th>16</th>\n",
       "      <td>Majelis Kehormatan Mahkamah Konstitusi (MKMK) ...</td>\n",
       "      <td>Putusan MKMK: 9 Hakim MK Langgar Etik Bocor In...</td>\n",
       "      <td>CNN Indonesia</td>\n",
       "      <td>Selasa, 07 Nov 2023 16:45 WIB</td>\n",
       "      <td>nasional</td>\n",
       "    </tr>\n",
       "    <tr>\n",
       "      <th>17</th>\n",
       "      <td>Komisaris PT Pertamina (Persero) Basuki Tjahaj...</td>\n",
       "      <td>Ahok Buka Suara Usai Diperiksa KPK 6 Jam di Ka...</td>\n",
       "      <td>CNN Indonesia</td>\n",
       "      <td>Selasa, 07 Nov 2023 16:37 WIB</td>\n",
       "      <td>nasional</td>\n",
       "    </tr>\n",
       "    <tr>\n",
       "      <th>18</th>\n",
       "      <td>Koalisi Indonesia Maju (KIM) resmi mengumumkan...</td>\n",
       "      <td>Menakar Kekuatan Struktur Gemuk Bertabur Elite...</td>\n",
       "      <td>CNN Indonesia</td>\n",
       "      <td>Selasa, 07 Nov 2023 09:38 WIB</td>\n",
       "      <td>nasional</td>\n",
       "    </tr>\n",
       "    <tr>\n",
       "      <th>19</th>\n",
       "      <td>Majelis Kehormatan Mahkamah Konstitusi (MKMK) ...</td>\n",
       "      <td>Apakah Putusan Etik Anwar Cs Bisa Gugurkan Put...</td>\n",
       "      <td>CNN Indonesia</td>\n",
       "      <td>Senin, 06 Nov 2023 10:20 WIB</td>\n",
       "      <td>nasional</td>\n",
       "    </tr>\n",
       "  </tbody>\n",
       "</table>\n",
       "</div>"
      ],
      "text/plain": [
       "                                               berita  \\\n",
       "0   Majelis Kehormatan Mahkamah Konstitusi (MKMK) ...   \n",
       "1   Majelis Kehormatan Mahkamah Konstitusi (MKMK) ...   \n",
       "2   Mahfud lekat dengan inisial MD yang tersemat d...   \n",
       "3   Perebutan tiket atau yang populer dengan istil...   \n",
       "4   Riuh Pemilu 2024 tak cuma seputar capres-cawap...   \n",
       "5   Menteri Kesehatan (Menkes) Budi Gunadi Sadikin...   \n",
       "6   Bakal calon presiden Koalisi Perubahan Anies B...   \n",
       "7   Menteri Pertahanan Prabowo Subianto menyebut a...   \n",
       "8   Sembilan hakim Mahkamah Konstitusi (MK) dikena...   \n",
       "9   Undang-undang Nomor 7 Tahun 2017 tentang Pemil...   \n",
       "10  Undang-undang Nomor 7 Tahun 2017 tentang Pemil...   \n",
       "11  Seseorang yang mengajak orang lain agar tidak ...   \n",
       "12  Majelis Kehormatan Mahkamah Konstitusi (MKMK) ...   \n",
       "13  Ikatan Dokter Indonesia (IDI) menyatakan kasus...   \n",
       "14  Kapolri Jenderal Listyo Sigit Prabowo memberik...   \n",
       "15  Majelis Kehormatan Mahkamah Konstitusi (MKMK) ...   \n",
       "16  Majelis Kehormatan Mahkamah Konstitusi (MKMK) ...   \n",
       "17  Komisaris PT Pertamina (Persero) Basuki Tjahaj...   \n",
       "18  Koalisi Indonesia Maju (KIM) resmi mengumumkan...   \n",
       "19  Majelis Kehormatan Mahkamah Konstitusi (MKMK) ...   \n",
       "\n",
       "                                                judul         sumber  \\\n",
       "0   MKMK Perintahkan Saldi Isra Gelar Pemilihan Pe...  CNN Indonesia   \n",
       "1   Putusan MKMK: Anwar Usman Langgar Etik Berat, ...  CNN Indonesia   \n",
       "2                  Asal Usul MD di Buntut Nama Mahfud  CNN Indonesia   \n",
       "3   Mereka yang Tersingkir di War Tiket Cawapres 2024  CNN Indonesia   \n",
       "4        Pertarungan Caleg di Dapil Neraka Jakarta II  CNN Indonesia   \n",
       "5   Menkes Susun UU Baru: Pengguna Napza yang Saki...  CNN Indonesia   \n",
       "6   Anies Respons Tim Prabowo-Gibran Gaet Khofifah...  CNN Indonesia   \n",
       "7   Prabowo Sebut Ada Menteri Neoliberal di Kabine...  CNN Indonesia   \n",
       "8   9 Hakim MK Kena Sanksi Teguran Lisan Buntut RP...  CNN Indonesia   \n",
       "9   Pemilu: Pemda Dilarang Bertindak yang Merugika...  CNN Indonesia   \n",
       "10  Hakim MK hingga Komisaris BUMN Dilarang Ikut K...  CNN Indonesia   \n",
       "11  UU Pemilu: Ajak Orang Lain Golput Bisa Disanks...  CNN Indonesia   \n",
       "12  Putusan MKMK: Arief Hidayat Langgar Etik Renda...  CNN Indonesia   \n",
       "13    IDI: Kasus Cacar Monyet di RI Bertambah Jadi 35  CNN Indonesia   \n",
       "14  Kapolri Beri Kenaikan Pangkat Luar Biasa ke Pe...  CNN Indonesia   \n",
       "15  Putusan MKMK: Saldi Isra Tidak Langgar Etik so...  CNN Indonesia   \n",
       "16  Putusan MKMK: 9 Hakim MK Langgar Etik Bocor In...  CNN Indonesia   \n",
       "17  Ahok Buka Suara Usai Diperiksa KPK 6 Jam di Ka...  CNN Indonesia   \n",
       "18  Menakar Kekuatan Struktur Gemuk Bertabur Elite...  CNN Indonesia   \n",
       "19  Apakah Putusan Etik Anwar Cs Bisa Gugurkan Put...  CNN Indonesia   \n",
       "\n",
       "                            tanggal     jenis  \n",
       "0    Selasa, 07 Nov 2023 18:27 WIB   nasional  \n",
       "1    Selasa, 07 Nov 2023 18:20 WIB   nasional  \n",
       "2     Kamis, 02 Nov 2023 16:17 WIB   nasional  \n",
       "3     Jumat, 27 Okt 2023 10:12 WIB   nasional  \n",
       "4      Rabu, 11 Okt 2023 07:15 WIB   nasional  \n",
       "5    Selasa, 07 Nov 2023 18:03 WIB   nasional  \n",
       "6    Selasa, 07 Nov 2023 17:54 WIB   nasional  \n",
       "7    Selasa, 07 Nov 2023 17:45 WIB   nasional  \n",
       "8    Selasa, 07 Nov 2023 17:40 WIB   nasional  \n",
       "9     Senin, 06 Nov 2023 10:42 WIB   nasional  \n",
       "10    Senin, 30 Okt 2023 07:15 WIB   nasional  \n",
       "11   Selasa, 24 Okt 2023 06:36 WIB   nasional  \n",
       "12   Selasa, 07 Nov 2023 17:38 WIB   nasional  \n",
       "13   Selasa, 07 Nov 2023 17:29 WIB   nasional  \n",
       "14   Selasa, 07 Nov 2023 17:25 WIB   nasional  \n",
       "15   Selasa, 07 Nov 2023 17:09 WIB   nasional  \n",
       "16   Selasa, 07 Nov 2023 16:45 WIB   nasional  \n",
       "17   Selasa, 07 Nov 2023 16:37 WIB   nasional  \n",
       "18   Selasa, 07 Nov 2023 09:38 WIB   nasional  \n",
       "19    Senin, 06 Nov 2023 10:20 WIB   nasional  "
      ]
     },
     "execution_count": 7,
     "metadata": {},
     "output_type": "execute_result"
    }
   ],
   "source": [
    "real_df = pd.read_csv(os.path.join(test, 'cnn_content_2023-11-11.csv'))\n",
    "real_df"
   ]
  },
  {
   "cell_type": "code",
   "execution_count": 8,
   "metadata": {},
   "outputs": [],
   "source": [
    "df = real_df[['berita']]"
   ]
  },
  {
   "cell_type": "code",
   "execution_count": 26,
   "metadata": {},
   "outputs": [
    {
     "data": {
      "text/html": [
       "<div>\n",
       "<style scoped>\n",
       "    .dataframe tbody tr th:only-of-type {\n",
       "        vertical-align: middle;\n",
       "    }\n",
       "\n",
       "    .dataframe tbody tr th {\n",
       "        vertical-align: top;\n",
       "    }\n",
       "\n",
       "    .dataframe thead th {\n",
       "        text-align: right;\n",
       "    }\n",
       "</style>\n",
       "<table border=\"1\" class=\"dataframe\">\n",
       "  <thead>\n",
       "    <tr style=\"text-align: right;\">\n",
       "      <th></th>\n",
       "      <th>berita</th>\n",
       "    </tr>\n",
       "  </thead>\n",
       "  <tbody>\n",
       "    <tr>\n",
       "      <th>0</th>\n",
       "      <td>Majelis Kehormatan Mahkamah Konstitusi (MKMK) ...</td>\n",
       "    </tr>\n",
       "    <tr>\n",
       "      <th>1</th>\n",
       "      <td>Majelis Kehormatan Mahkamah Konstitusi (MKMK) ...</td>\n",
       "    </tr>\n",
       "    <tr>\n",
       "      <th>2</th>\n",
       "      <td>Mahfud lekat dengan inisial MD yang tersemat d...</td>\n",
       "    </tr>\n",
       "    <tr>\n",
       "      <th>3</th>\n",
       "      <td>Perebutan tiket atau yang populer dengan istil...</td>\n",
       "    </tr>\n",
       "    <tr>\n",
       "      <th>4</th>\n",
       "      <td>Riuh Pemilu 2024 tak cuma seputar capres-cawap...</td>\n",
       "    </tr>\n",
       "    <tr>\n",
       "      <th>5</th>\n",
       "      <td>Menteri Kesehatan (Menkes) Budi Gunadi Sadikin...</td>\n",
       "    </tr>\n",
       "    <tr>\n",
       "      <th>6</th>\n",
       "      <td>Bakal calon presiden Koalisi Perubahan Anies B...</td>\n",
       "    </tr>\n",
       "    <tr>\n",
       "      <th>7</th>\n",
       "      <td>Menteri Pertahanan Prabowo Subianto menyebut a...</td>\n",
       "    </tr>\n",
       "    <tr>\n",
       "      <th>8</th>\n",
       "      <td>Sembilan hakim Mahkamah Konstitusi (MK) dikena...</td>\n",
       "    </tr>\n",
       "    <tr>\n",
       "      <th>9</th>\n",
       "      <td>Undang-undang Nomor 7 Tahun 2017 tentang Pemil...</td>\n",
       "    </tr>\n",
       "    <tr>\n",
       "      <th>10</th>\n",
       "      <td>Undang-undang Nomor 7 Tahun 2017 tentang Pemil...</td>\n",
       "    </tr>\n",
       "    <tr>\n",
       "      <th>11</th>\n",
       "      <td>Seseorang yang mengajak orang lain agar tidak ...</td>\n",
       "    </tr>\n",
       "    <tr>\n",
       "      <th>12</th>\n",
       "      <td>Majelis Kehormatan Mahkamah Konstitusi (MKMK) ...</td>\n",
       "    </tr>\n",
       "    <tr>\n",
       "      <th>13</th>\n",
       "      <td>Ikatan Dokter Indonesia (IDI) menyatakan kasus...</td>\n",
       "    </tr>\n",
       "    <tr>\n",
       "      <th>14</th>\n",
       "      <td>Kapolri Jenderal Listyo Sigit Prabowo memberik...</td>\n",
       "    </tr>\n",
       "    <tr>\n",
       "      <th>15</th>\n",
       "      <td>Majelis Kehormatan Mahkamah Konstitusi (MKMK) ...</td>\n",
       "    </tr>\n",
       "    <tr>\n",
       "      <th>16</th>\n",
       "      <td>Majelis Kehormatan Mahkamah Konstitusi (MKMK) ...</td>\n",
       "    </tr>\n",
       "    <tr>\n",
       "      <th>17</th>\n",
       "      <td>Komisaris PT Pertamina (Persero) Basuki Tjahaj...</td>\n",
       "    </tr>\n",
       "    <tr>\n",
       "      <th>18</th>\n",
       "      <td>Koalisi Indonesia Maju (KIM) resmi mengumumkan...</td>\n",
       "    </tr>\n",
       "    <tr>\n",
       "      <th>19</th>\n",
       "      <td>Majelis Kehormatan Mahkamah Konstitusi (MKMK) ...</td>\n",
       "    </tr>\n",
       "    <tr>\n",
       "      <th>20</th>\n",
       "      <td>lewat di tl aku, dan aku kaget. Aku kira RS in...</td>\n",
       "    </tr>\n",
       "    <tr>\n",
       "      <th>21</th>\n",
       "      <td>Jog dalam kota kecepatan 80km/jam dan nerobos ...</td>\n",
       "    </tr>\n",
       "    <tr>\n",
       "      <th>22</th>\n",
       "      <td>Peta hubungan diplomatik Israel dengan negara-...</td>\n",
       "    </tr>\n",
       "  </tbody>\n",
       "</table>\n",
       "</div>"
      ],
      "text/plain": [
       "                                               berita\n",
       "0   Majelis Kehormatan Mahkamah Konstitusi (MKMK) ...\n",
       "1   Majelis Kehormatan Mahkamah Konstitusi (MKMK) ...\n",
       "2   Mahfud lekat dengan inisial MD yang tersemat d...\n",
       "3   Perebutan tiket atau yang populer dengan istil...\n",
       "4   Riuh Pemilu 2024 tak cuma seputar capres-cawap...\n",
       "5   Menteri Kesehatan (Menkes) Budi Gunadi Sadikin...\n",
       "6   Bakal calon presiden Koalisi Perubahan Anies B...\n",
       "7   Menteri Pertahanan Prabowo Subianto menyebut a...\n",
       "8   Sembilan hakim Mahkamah Konstitusi (MK) dikena...\n",
       "9   Undang-undang Nomor 7 Tahun 2017 tentang Pemil...\n",
       "10  Undang-undang Nomor 7 Tahun 2017 tentang Pemil...\n",
       "11  Seseorang yang mengajak orang lain agar tidak ...\n",
       "12  Majelis Kehormatan Mahkamah Konstitusi (MKMK) ...\n",
       "13  Ikatan Dokter Indonesia (IDI) menyatakan kasus...\n",
       "14  Kapolri Jenderal Listyo Sigit Prabowo memberik...\n",
       "15  Majelis Kehormatan Mahkamah Konstitusi (MKMK) ...\n",
       "16  Majelis Kehormatan Mahkamah Konstitusi (MKMK) ...\n",
       "17  Komisaris PT Pertamina (Persero) Basuki Tjahaj...\n",
       "18  Koalisi Indonesia Maju (KIM) resmi mengumumkan...\n",
       "19  Majelis Kehormatan Mahkamah Konstitusi (MKMK) ...\n",
       "20  lewat di tl aku, dan aku kaget. Aku kira RS in...\n",
       "21  Jog dalam kota kecepatan 80km/jam dan nerobos ...\n",
       "22  Peta hubungan diplomatik Israel dengan negara-..."
      ]
     },
     "execution_count": 26,
     "metadata": {},
     "output_type": "execute_result"
    }
   ],
   "source": [
    "test_twt = {\n",
    "    'berita' : [\"lewat di tl aku, dan aku kaget. Aku kira RS ini dibangunnya sama pemerintah kita ternyata pembangunannya dari uang donasi masyarakat kita toh aku nangis banget pas liat videonya juga\", \"Jog dalam kota kecepatan 80km/jam dan nerobos lampu merah. Dimf bawah ini juga ada cctv kalau ojol berhenti dipinggir anda tabrak, giliran diminta ganti rugi merasa diperas. Playing victim sekali ya wkwkwk\", \"Peta hubungan diplomatik Israel dengan negara-negara dunia. Hanya ada satu negara dengan perekonomian raksasa ber-GDP di atas $1 triliun yang belum pernah menjalin relasi sama Israel. Yep, Indonesia.\"] \n",
    "}\n",
    "\n",
    "df_test_twt = pd.DataFrame(test_twt)\n",
    "df_test_twt\n",
    "\n",
    "df = pd.concat([real_df[['berita']], df_test_twt], ignore_index=True)\n",
    "df"
   ]
  },
  {
   "cell_type": "code",
   "execution_count": 27,
   "id": "34b05028",
   "metadata": {},
   "outputs": [
    {
     "data": {
      "text/plain": [
       "{'input_ids': <tf.Tensor: shape=(23, 70), dtype=int32, numpy=\n",
       "array([[    2,  6810,  9293, ...,   680, 30471,     3],\n",
       "       [    2,  6810,  9293, ...,  4887,  7343,     3],\n",
       "       [    2, 20469, 26243, ...,   126,  1328,     3],\n",
       "       ...,\n",
       "       [    2,  2145,    26, ...,     0,     0,     0],\n",
       "       [    2,  3681,   112, ...,     0,     0,     0],\n",
       "       [    2,  2577,  1314, ...,     0,     0,     0]])>, 'attention_mask': <tf.Tensor: shape=(23, 70), dtype=int32, numpy=\n",
       "array([[1, 1, 1, ..., 1, 1, 1],\n",
       "       [1, 1, 1, ..., 1, 1, 1],\n",
       "       [1, 1, 1, ..., 1, 1, 1],\n",
       "       ...,\n",
       "       [1, 1, 1, ..., 0, 0, 0],\n",
       "       [1, 1, 1, ..., 0, 0, 0],\n",
       "       [1, 1, 1, ..., 0, 0, 0]])>}"
      ]
     },
     "execution_count": 27,
     "metadata": {},
     "output_type": "execute_result"
    }
   ],
   "source": [
    "# datapath = os.path.join(cwd, 'dataset')\n",
    "\n",
    "# df = pd.read_excel(os.path.join(datapath, 'all_cleaned.xlsx'))\n",
    "# df = df[['berita', 'label']]\n",
    "\n",
    "df.drop_duplicates(inplace=True)\n",
    "df.dropna(inplace = True)\n",
    "\n",
    "df_test = df\n",
    "\n",
    "max_len = 70\n",
    "model_name = 'indobenchmark/indobert-base-p1'\n",
    "tokenizer = AutoTokenizer.from_pretrained(model_name)\n",
    "\n",
    "X_train = tokenizer(\n",
    "    text=df_test['berita'].tolist(),\n",
    "    add_special_tokens=True,\n",
    "    max_length=max_len,\n",
    "    truncation=True,\n",
    "    padding=True,\n",
    "    return_tensors='tf',\n",
    "    return_token_type_ids=False,\n",
    "    return_attention_mask=True,\n",
    "    verbose=True\n",
    ")\n",
    "\n",
    "X_train"
   ]
  },
  {
   "cell_type": "code",
   "execution_count": 33,
   "metadata": {},
   "outputs": [
    {
     "data": {
      "text/plain": [
       "Encoding(num_tokens=70, attributes=[ids, type_ids, tokens, offsets, attention_mask, special_tokens_mask, overflowing])"
      ]
     },
     "execution_count": 33,
     "metadata": {},
     "output_type": "execute_result"
    }
   ],
   "source": [
    "X_train[20]"
   ]
  },
  {
   "cell_type": "code",
   "execution_count": 45,
   "metadata": {},
   "outputs": [
    {
     "data": {
      "text/plain": [
       "['lewat',\n",
       " 'di',\n",
       " 'tl',\n",
       " 'aku,',\n",
       " 'dan',\n",
       " 'aku',\n",
       " 'kaget.',\n",
       " 'Aku',\n",
       " 'kira',\n",
       " 'RS',\n",
       " 'ini',\n",
       " 'dibangunnya',\n",
       " 'sama',\n",
       " 'pemerintah',\n",
       " 'kita',\n",
       " 'ternyata',\n",
       " 'pembangunannya',\n",
       " 'dari',\n",
       " 'uang',\n",
       " 'donasi',\n",
       " 'masyarakat',\n",
       " 'kita',\n",
       " 'toh',\n",
       " 'aku',\n",
       " 'nangis',\n",
       " 'banget',\n",
       " 'pas',\n",
       " 'liat',\n",
       " 'videonya',\n",
       " 'juga']"
      ]
     },
     "execution_count": 45,
     "metadata": {},
     "output_type": "execute_result"
    }
   ],
   "source": [
    "df.iloc[20]['berita'].split()"
   ]
  },
  {
   "cell_type": "code",
   "execution_count": 43,
   "metadata": {},
   "outputs": [
    {
     "data": {
      "text/plain": [
       "<tf.Tensor: shape=(70,), dtype=int32, numpy=\n",
       "array([    2,  2145,    26,  9480,   304, 30468,    41,   304,  7950,\n",
       "       30470,   304,  5157,  3935,    92,  3887,    57,   500,   877,\n",
       "         219,  1369, 24734,    98,   988, 21781,   552,   219,  8027,\n",
       "         304, 15089,  2174,   280,  4961, 21370,   186,     3,     0,\n",
       "           0,     0,     0,     0,     0,     0,     0,     0,     0,\n",
       "           0,     0,     0,     0,     0,     0,     0,     0,     0,\n",
       "           0,     0,     0,     0,     0,     0,     0,     0,     0,\n",
       "           0,     0,     0,     0,     0,     0,     0])>"
      ]
     },
     "execution_count": 43,
     "metadata": {},
     "output_type": "execute_result"
    }
   ],
   "source": [
    "X_train['input_ids'][20]"
   ]
  },
  {
   "cell_type": "code",
   "execution_count": 38,
   "metadata": {},
   "outputs": [
    {
     "data": {
      "text/plain": [
       "<tf.Tensor: shape=(70,), dtype=int32, numpy=\n",
       "array([1, 1, 1, 1, 1, 1, 1, 1, 1, 1, 1, 1, 1, 1, 1, 1, 1, 1, 1, 1, 1, 1,\n",
       "       1, 1, 1, 1, 1, 1, 1, 1, 1, 1, 1, 1, 1, 0, 0, 0, 0, 0, 0, 0, 0, 0,\n",
       "       0, 0, 0, 0, 0, 0, 0, 0, 0, 0, 0, 0, 0, 0, 0, 0, 0, 0, 0, 0, 0, 0,\n",
       "       0, 0, 0, 0])>"
      ]
     },
     "execution_count": 38,
     "metadata": {},
     "output_type": "execute_result"
    }
   ],
   "source": [
    "X_train['attention_mask'][20]"
   ]
  },
  {
   "cell_type": "code",
   "execution_count": 28,
   "id": "cf4a6ef1",
   "metadata": {},
   "outputs": [],
   "source": [
    "input_ids = tf.TensorSpec.from_tensor(X_train['input_ids'], name = 'input_ids')\n",
    "attention_mask = tf.TensorSpec.from_tensor(X_train['attention_mask'], name = 'attention_mask')"
   ]
  },
  {
   "cell_type": "code",
   "execution_count": 29,
   "id": "45f4bfbf",
   "metadata": {},
   "outputs": [
    {
     "data": {
      "text/plain": [
       "([0, 0, 0, 0, 0, 0, 0, 0, 0, 0, 0, 0, 0, 0, 0, 0, 0, 0, 0, 0, 1, 1, 0],\n",
       " <tf.Tensor: shape=(23, 1), dtype=float32, numpy=\n",
       " array([[0.01038714],\n",
       "        [0.00535888],\n",
       "        [0.11358348],\n",
       "        [0.04632161],\n",
       "        [0.00635119],\n",
       "        [0.02014987],\n",
       "        [0.00183882],\n",
       "        [0.05581692],\n",
       "        [0.05219695],\n",
       "        [0.21371216],\n",
       "        [0.02636046],\n",
       "        [0.1612767 ],\n",
       "        [0.01700469],\n",
       "        [0.26391745],\n",
       "        [0.02105645],\n",
       "        [0.00555589],\n",
       "        [0.01810883],\n",
       "        [0.03165722],\n",
       "        [0.00152159],\n",
       "        [0.01148606],\n",
       "        [0.9994536 ],\n",
       "        [0.99762005],\n",
       "        [0.41494957]], dtype=float32)>)"
      ]
     },
     "execution_count": 29,
     "metadata": {},
     "output_type": "execute_result"
    }
   ],
   "source": [
    "predicted = test_model([X_train['input_ids'], X_train['attention_mask']])\n",
    "y_predicted = [1 if pred >= 0.5 else 0 for pred in predicted]\n",
    "y_predicted, predicted"
   ]
  },
  {
   "cell_type": "code",
   "execution_count": null,
   "id": "5ddb6b48",
   "metadata": {},
   "outputs": [
    {
     "ename": "KeyError",
     "evalue": "'label'",
     "output_type": "error",
     "traceback": [
      "\u001b[1;31m---------------------------------------------------------------------------\u001b[0m",
      "\u001b[1;31mKeyError\u001b[0m                                  Traceback (most recent call last)",
      "\u001b[1;32mc:\\Users\\LENOVO\\anaconda3\\lib\\site-packages\\pandas\\core\\indexes\\base.py\u001b[0m in \u001b[0;36mget_loc\u001b[1;34m(self, key)\u001b[0m\n\u001b[0;32m   3652\u001b[0m         \u001b[1;32mtry\u001b[0m\u001b[1;33m:\u001b[0m\u001b[1;33m\u001b[0m\u001b[1;33m\u001b[0m\u001b[0m\n\u001b[1;32m-> 3653\u001b[1;33m             \u001b[1;32mreturn\u001b[0m \u001b[0mself\u001b[0m\u001b[1;33m.\u001b[0m\u001b[0m_engine\u001b[0m\u001b[1;33m.\u001b[0m\u001b[0mget_loc\u001b[0m\u001b[1;33m(\u001b[0m\u001b[0mcasted_key\u001b[0m\u001b[1;33m)\u001b[0m\u001b[1;33m\u001b[0m\u001b[1;33m\u001b[0m\u001b[0m\n\u001b[0m\u001b[0;32m   3654\u001b[0m         \u001b[1;32mexcept\u001b[0m \u001b[0mKeyError\u001b[0m \u001b[1;32mas\u001b[0m \u001b[0merr\u001b[0m\u001b[1;33m:\u001b[0m\u001b[1;33m\u001b[0m\u001b[1;33m\u001b[0m\u001b[0m\n",
      "\u001b[1;32mc:\\Users\\LENOVO\\anaconda3\\lib\\site-packages\\pandas\\_libs\\index.pyx\u001b[0m in \u001b[0;36mpandas._libs.index.IndexEngine.get_loc\u001b[1;34m()\u001b[0m\n",
      "\u001b[1;32mc:\\Users\\LENOVO\\anaconda3\\lib\\site-packages\\pandas\\_libs\\index.pyx\u001b[0m in \u001b[0;36mpandas._libs.index.IndexEngine.get_loc\u001b[1;34m()\u001b[0m\n",
      "\u001b[1;32mpandas\\_libs\\hashtable_class_helper.pxi\u001b[0m in \u001b[0;36mpandas._libs.hashtable.PyObjectHashTable.get_item\u001b[1;34m()\u001b[0m\n",
      "\u001b[1;32mpandas\\_libs\\hashtable_class_helper.pxi\u001b[0m in \u001b[0;36mpandas._libs.hashtable.PyObjectHashTable.get_item\u001b[1;34m()\u001b[0m\n",
      "\u001b[1;31mKeyError\u001b[0m: 'label'",
      "\nThe above exception was the direct cause of the following exception:\n",
      "\u001b[1;31mKeyError\u001b[0m                                  Traceback (most recent call last)",
      "\u001b[1;32m~\\AppData\\Local\\Temp\\ipykernel_15444\\3679399699.py\u001b[0m in \u001b[0;36m<module>\u001b[1;34m\u001b[0m\n\u001b[1;32m----> 1\u001b[1;33m \u001b[0mdf_test\u001b[0m\u001b[1;33m[\u001b[0m\u001b[1;34m'label'\u001b[0m\u001b[1;33m]\u001b[0m\u001b[1;33m\u001b[0m\u001b[1;33m\u001b[0m\u001b[0m\n\u001b[0m",
      "\u001b[1;32mc:\\Users\\LENOVO\\anaconda3\\lib\\site-packages\\pandas\\core\\frame.py\u001b[0m in \u001b[0;36m__getitem__\u001b[1;34m(self, key)\u001b[0m\n\u001b[0;32m   3759\u001b[0m             \u001b[1;32mif\u001b[0m \u001b[0mself\u001b[0m\u001b[1;33m.\u001b[0m\u001b[0mcolumns\u001b[0m\u001b[1;33m.\u001b[0m\u001b[0mnlevels\u001b[0m \u001b[1;33m>\u001b[0m \u001b[1;36m1\u001b[0m\u001b[1;33m:\u001b[0m\u001b[1;33m\u001b[0m\u001b[1;33m\u001b[0m\u001b[0m\n\u001b[0;32m   3760\u001b[0m                 \u001b[1;32mreturn\u001b[0m \u001b[0mself\u001b[0m\u001b[1;33m.\u001b[0m\u001b[0m_getitem_multilevel\u001b[0m\u001b[1;33m(\u001b[0m\u001b[0mkey\u001b[0m\u001b[1;33m)\u001b[0m\u001b[1;33m\u001b[0m\u001b[1;33m\u001b[0m\u001b[0m\n\u001b[1;32m-> 3761\u001b[1;33m             \u001b[0mindexer\u001b[0m \u001b[1;33m=\u001b[0m \u001b[0mself\u001b[0m\u001b[1;33m.\u001b[0m\u001b[0mcolumns\u001b[0m\u001b[1;33m.\u001b[0m\u001b[0mget_loc\u001b[0m\u001b[1;33m(\u001b[0m\u001b[0mkey\u001b[0m\u001b[1;33m)\u001b[0m\u001b[1;33m\u001b[0m\u001b[1;33m\u001b[0m\u001b[0m\n\u001b[0m\u001b[0;32m   3762\u001b[0m             \u001b[1;32mif\u001b[0m \u001b[0mis_integer\u001b[0m\u001b[1;33m(\u001b[0m\u001b[0mindexer\u001b[0m\u001b[1;33m)\u001b[0m\u001b[1;33m:\u001b[0m\u001b[1;33m\u001b[0m\u001b[1;33m\u001b[0m\u001b[0m\n\u001b[0;32m   3763\u001b[0m                 \u001b[0mindexer\u001b[0m \u001b[1;33m=\u001b[0m \u001b[1;33m[\u001b[0m\u001b[0mindexer\u001b[0m\u001b[1;33m]\u001b[0m\u001b[1;33m\u001b[0m\u001b[1;33m\u001b[0m\u001b[0m\n",
      "\u001b[1;32mc:\\Users\\LENOVO\\anaconda3\\lib\\site-packages\\pandas\\core\\indexes\\base.py\u001b[0m in \u001b[0;36mget_loc\u001b[1;34m(self, key)\u001b[0m\n\u001b[0;32m   3653\u001b[0m             \u001b[1;32mreturn\u001b[0m \u001b[0mself\u001b[0m\u001b[1;33m.\u001b[0m\u001b[0m_engine\u001b[0m\u001b[1;33m.\u001b[0m\u001b[0mget_loc\u001b[0m\u001b[1;33m(\u001b[0m\u001b[0mcasted_key\u001b[0m\u001b[1;33m)\u001b[0m\u001b[1;33m\u001b[0m\u001b[1;33m\u001b[0m\u001b[0m\n\u001b[0;32m   3654\u001b[0m         \u001b[1;32mexcept\u001b[0m \u001b[0mKeyError\u001b[0m \u001b[1;32mas\u001b[0m \u001b[0merr\u001b[0m\u001b[1;33m:\u001b[0m\u001b[1;33m\u001b[0m\u001b[1;33m\u001b[0m\u001b[0m\n\u001b[1;32m-> 3655\u001b[1;33m             \u001b[1;32mraise\u001b[0m \u001b[0mKeyError\u001b[0m\u001b[1;33m(\u001b[0m\u001b[0mkey\u001b[0m\u001b[1;33m)\u001b[0m \u001b[1;32mfrom\u001b[0m \u001b[0merr\u001b[0m\u001b[1;33m\u001b[0m\u001b[1;33m\u001b[0m\u001b[0m\n\u001b[0m\u001b[0;32m   3656\u001b[0m         \u001b[1;32mexcept\u001b[0m \u001b[0mTypeError\u001b[0m\u001b[1;33m:\u001b[0m\u001b[1;33m\u001b[0m\u001b[1;33m\u001b[0m\u001b[0m\n\u001b[0;32m   3657\u001b[0m             \u001b[1;31m# If we have a listlike key, _check_indexing_error will raise\u001b[0m\u001b[1;33m\u001b[0m\u001b[1;33m\u001b[0m\u001b[0m\n",
      "\u001b[1;31mKeyError\u001b[0m: 'label'"
     ]
    }
   ],
   "source": [
    "df_test['label']"
   ]
  }
 ],
 "metadata": {
  "kernelspec": {
   "display_name": "Python 3 (ipykernel)",
   "language": "python",
   "name": "python3"
  },
  "language_info": {
   "codemirror_mode": {
    "name": "ipython",
    "version": 3
   },
   "file_extension": ".py",
   "mimetype": "text/x-python",
   "name": "python",
   "nbconvert_exporter": "python",
   "pygments_lexer": "ipython3",
   "version": "3.9.17"
  }
 },
 "nbformat": 4,
 "nbformat_minor": 5
}
