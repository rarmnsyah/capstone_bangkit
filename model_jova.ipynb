{
  "cells": [
    {
      "cell_type": "markdown",
      "metadata": {
        "id": "zGPTGD5e-GTn"
      },
      "source": [
        "**Model Pengkategorisasian Secara Otomatis**"
      ]
    },
    {
      "cell_type": "code",
      "execution_count": 3378,
      "metadata": {
        "colab": {
          "base_uri": "https://localhost:8080/",
          "height": 371
        },
        "id": "47ZzjTy0jWS0",
        "outputId": "33d2640d-974e-4716-dcc0-85bc5116a741"
      },
      "outputs": [],
      "source": [
        "import pandas as pd\n",
        "import numpy as np\n",
        "from sklearn.model_selection import train_test_split\n",
        "from sklearn.feature_extraction.text import TfidfVectorizer\n",
        "from sklearn.metrics import accuracy_score,f1_score,recall_score,precision_score,classification_report\n",
        "import joblib\n",
        "import warnings\n",
        "warnings.filterwarnings('ignore')"
      ]
    },
    {
      "cell_type": "markdown",
      "metadata": {
        "id": "AeLt3g02Kn7U"
      },
      "source": [
        "**Persiapkan Dataset**"
      ]
    },
    {
      "cell_type": "code",
      "execution_count": 3379,
      "metadata": {
        "id": "3_M5MMH29-_a"
      },
      "outputs": [],
      "source": [
        "data = pd.read_csv(r'C:\\Users\\jovan\\OneDrive\\Documents\\Vs Code\\Python VSCODE\\Bangkit\\Capstone\\Data\\dataset_final.csv')\n",
        "# Memilih kolom tertentu dari dataframe\n",
        "df = data[['nama', 'kategori']]\n",
        "\n",
        "# Kolom 'Lainnya'\n",
        "df['Lainnya'] = pd.DataFrame(df['kategori']).apply(lambda row: 1 if 'Lainnya' in row.values else 0, axis=1)\n",
        "\n",
        "# Kolom 'Makanan dan Minuman'\n",
        "df['Makanan dan Minuman'] = pd.DataFrame(df['kategori']).apply(lambda row: 1 if 'Makanan dan Minuman' in row.values else 0, axis=1)\n",
        "\n",
        "# Kolom 'Belanja'\n",
        "df['Belanja'] = pd.DataFrame(df['kategori']).apply(lambda row: 1 if 'Belanja' in row.values else 0, axis=1)\n",
        "\n",
        "# Kolom 'Hiburan'\n",
        "df['Hiburan'] = pd.DataFrame(df['kategori']).apply(lambda row: 1 if 'Hiburan' in row.values else 0, axis=1)"
      ]
    },
    {
      "cell_type": "code",
      "execution_count": 3380,
      "metadata": {},
      "outputs": [
        {
          "data": {
            "text/html": [
              "<div>\n",
              "<style scoped>\n",
              "    .dataframe tbody tr th:only-of-type {\n",
              "        vertical-align: middle;\n",
              "    }\n",
              "\n",
              "    .dataframe tbody tr th {\n",
              "        vertical-align: top;\n",
              "    }\n",
              "\n",
              "    .dataframe thead th {\n",
              "        text-align: right;\n",
              "    }\n",
              "</style>\n",
              "<table border=\"1\" class=\"dataframe\">\n",
              "  <thead>\n",
              "    <tr style=\"text-align: right;\">\n",
              "      <th></th>\n",
              "      <th>nama</th>\n",
              "      <th>kategori</th>\n",
              "      <th>Lainnya</th>\n",
              "      <th>Makanan dan Minuman</th>\n",
              "      <th>Belanja</th>\n",
              "      <th>Hiburan</th>\n",
              "    </tr>\n",
              "  </thead>\n",
              "  <tbody>\n",
              "    <tr>\n",
              "      <th>0</th>\n",
              "      <td>Bensin</td>\n",
              "      <td>Lainnya</td>\n",
              "      <td>1</td>\n",
              "      <td>0</td>\n",
              "      <td>0</td>\n",
              "      <td>0</td>\n",
              "    </tr>\n",
              "    <tr>\n",
              "      <th>1</th>\n",
              "      <td>Bayar Listrik</td>\n",
              "      <td>Lainnya</td>\n",
              "      <td>1</td>\n",
              "      <td>0</td>\n",
              "      <td>0</td>\n",
              "      <td>0</td>\n",
              "    </tr>\n",
              "    <tr>\n",
              "      <th>2</th>\n",
              "      <td>Bayar Air</td>\n",
              "      <td>Lainnya</td>\n",
              "      <td>1</td>\n",
              "      <td>0</td>\n",
              "      <td>0</td>\n",
              "      <td>0</td>\n",
              "    </tr>\n",
              "    <tr>\n",
              "      <th>3</th>\n",
              "      <td>Pajak Motor</td>\n",
              "      <td>Lainnya</td>\n",
              "      <td>1</td>\n",
              "      <td>0</td>\n",
              "      <td>0</td>\n",
              "      <td>0</td>\n",
              "    </tr>\n",
              "    <tr>\n",
              "      <th>4</th>\n",
              "      <td>Pajak Mobil</td>\n",
              "      <td>Lainnya</td>\n",
              "      <td>1</td>\n",
              "      <td>0</td>\n",
              "      <td>0</td>\n",
              "      <td>0</td>\n",
              "    </tr>\n",
              "    <tr>\n",
              "      <th>...</th>\n",
              "      <td>...</td>\n",
              "      <td>...</td>\n",
              "      <td>...</td>\n",
              "      <td>...</td>\n",
              "      <td>...</td>\n",
              "      <td>...</td>\n",
              "    </tr>\n",
              "    <tr>\n",
              "      <th>6006</th>\n",
              "      <td>Penghapus</td>\n",
              "      <td>Belanja</td>\n",
              "      <td>0</td>\n",
              "      <td>0</td>\n",
              "      <td>1</td>\n",
              "      <td>0</td>\n",
              "    </tr>\n",
              "    <tr>\n",
              "      <th>6007</th>\n",
              "      <td>Penggaris</td>\n",
              "      <td>Belanja</td>\n",
              "      <td>0</td>\n",
              "      <td>0</td>\n",
              "      <td>1</td>\n",
              "      <td>0</td>\n",
              "    </tr>\n",
              "    <tr>\n",
              "      <th>6008</th>\n",
              "      <td>Rautan Pensil</td>\n",
              "      <td>Belanja</td>\n",
              "      <td>0</td>\n",
              "      <td>0</td>\n",
              "      <td>1</td>\n",
              "      <td>0</td>\n",
              "    </tr>\n",
              "    <tr>\n",
              "      <th>6009</th>\n",
              "      <td>Pensil Warna</td>\n",
              "      <td>Belanja</td>\n",
              "      <td>0</td>\n",
              "      <td>0</td>\n",
              "      <td>1</td>\n",
              "      <td>0</td>\n",
              "    </tr>\n",
              "    <tr>\n",
              "      <th>6010</th>\n",
              "      <td>Pemutih</td>\n",
              "      <td>Belanja</td>\n",
              "      <td>0</td>\n",
              "      <td>0</td>\n",
              "      <td>1</td>\n",
              "      <td>0</td>\n",
              "    </tr>\n",
              "  </tbody>\n",
              "</table>\n",
              "<p>6011 rows × 6 columns</p>\n",
              "</div>"
            ],
            "text/plain": [
              "               nama kategori  Lainnya  Makanan dan Minuman  Belanja  Hiburan\n",
              "0            Bensin  Lainnya        1                    0        0        0\n",
              "1     Bayar Listrik  Lainnya        1                    0        0        0\n",
              "2         Bayar Air  Lainnya        1                    0        0        0\n",
              "3       Pajak Motor  Lainnya        1                    0        0        0\n",
              "4       Pajak Mobil  Lainnya        1                    0        0        0\n",
              "...             ...      ...      ...                  ...      ...      ...\n",
              "6006      Penghapus  Belanja        0                    0        1        0\n",
              "6007      Penggaris  Belanja        0                    0        1        0\n",
              "6008  Rautan Pensil  Belanja        0                    0        1        0\n",
              "6009   Pensil Warna  Belanja        0                    0        1        0\n",
              "6010        Pemutih  Belanja        0                    0        1        0\n",
              "\n",
              "[6011 rows x 6 columns]"
            ]
          },
          "execution_count": 3380,
          "metadata": {},
          "output_type": "execute_result"
        }
      ],
      "source": [
        "df"
      ]
    },
    {
      "cell_type": "markdown",
      "metadata": {
        "id": "-rUw5_CLP-GD"
      },
      "source": [
        "**Split Dataset**"
      ]
    },
    {
      "cell_type": "code",
      "execution_count": 3381,
      "metadata": {
        "id": "2W_CjA88QlcC"
      },
      "outputs": [],
      "source": [
        "from iterstrat.ml_stratifiers import MultilabelStratifiedShuffleSplit\n",
        "from sklearn.utils import _safe_indexing\n",
        "from sklearn.utils.validation import _num_samples\n",
        "from sklearn.model_selection._split import _validate_shuffle_split"
      ]
    },
    {
      "cell_type": "code",
      "execution_count": 3382,
      "metadata": {
        "id": "Wa5z9LahQ1Qe"
      },
      "outputs": [],
      "source": [
        "def multilabel_train_test_split(*arrays, test_size=None, train_size=None, random_state=None, shuffle=True, stratify=None):\n",
        "    if stratify is None:\n",
        "        return train_test_split(*arrays, test_size=test_size, train_size=train_size, random_state=random_state, stratify=None, shuffle=shuffle)\n",
        "\n",
        "    n_samples = _num_samples(arrays[0])\n",
        "    n_train, n_test = _validate_shuffle_split(n_samples, test_size, train_size, default_test_size=0.25)\n",
        "\n",
        "    cv = MultilabelStratifiedShuffleSplit(test_size=n_test, train_size=n_train, random_state=123)\n",
        "    train, test = next(cv.split(X=arrays[0], y=stratify))\n",
        "\n",
        "    return [(_safe_indexing(a, train), _safe_indexing(a, test)) for a in arrays]\n"
      ]
    },
    {
      "cell_type": "code",
      "execution_count": 3383,
      "metadata": {
        "id": "A6unLrf5QLwT"
      },
      "outputs": [
        {
          "name": "stdout",
          "output_type": "stream",
          "text": [
            "Empty DataFrame\n",
            "Columns: [nama, kategori, Lainnya, Makanan dan Minuman, Belanja, Hiburan]\n",
            "Index: []\n"
          ]
        }
      ],
      "source": [
        "df = df.drop_duplicates()\n",
        "\n",
        "print(df[df.index.duplicated()])\n"
      ]
    },
    {
      "cell_type": "code",
      "execution_count": 3384,
      "metadata": {
        "id": "voKFUhsrQOI7"
      },
      "outputs": [],
      "source": [
        "X = df['nama']\n",
        "Y = df.drop(columns=['nama','kategori'])\n",
        "X_train,X_test,Y_train,Y_test = multilabel_train_test_split(np.array(X), np.array(Y),test_size=0.2)"
      ]
    },
    {
      "cell_type": "markdown",
      "metadata": {
        "id": "iw-ecAWzQPWg"
      },
      "source": [
        "**Vectorized Dataset**"
      ]
    },
    {
      "cell_type": "code",
      "execution_count": 3385,
      "metadata": {
        "id": "xTGhqIhiQPIE"
      },
      "outputs": [],
      "source": [
        "# Create vectorizer\n",
        "tfidf_vectorizer = TfidfVectorizer(ngram_range=(1,2))\n",
        "\n",
        "# Vectorizer X_train\n",
        "X_train_values = tfidf_vectorizer.fit_transform(X_train)\n",
        "\n",
        "# Vectorizer X_test\n",
        "X_test_values = tfidf_vectorizer.transform(X_test)\n"
      ]
    },
    {
      "cell_type": "code",
      "execution_count": 3386,
      "metadata": {},
      "outputs": [
        {
          "data": {
            "text/plain": [
              "['tfidfvectorizer.pkl']"
            ]
          },
          "execution_count": 3386,
          "metadata": {},
          "output_type": "execute_result"
        }
      ],
      "source": [
        "joblib.dump(tfidf_vectorizer,'tfidfvectorizer.pkl')"
      ]
    },
    {
      "cell_type": "code",
      "execution_count": 3387,
      "metadata": {
        "id": "rDtvwqFsQUNs"
      },
      "outputs": [],
      "source": [
        "from sklearn.svm import LinearSVC\n",
        "from sklearn.multioutput import MultiOutputClassifier\n",
        "from sklearn.multiclass import OneVsRestClassifier\n"
      ]
    },
    {
      "cell_type": "markdown",
      "metadata": {
        "id": "azJDcq2LQfGD"
      },
      "source": [
        "**SVC**"
      ]
    },
    {
      "cell_type": "code",
      "execution_count": 3388,
      "metadata": {
        "id": "YMFHBQLVQeRJ"
      },
      "outputs": [
        {
          "data": {
            "text/html": [
              "<style>#sk-container-id-125 {color: black;}#sk-container-id-125 pre{padding: 0;}#sk-container-id-125 div.sk-toggleable {background-color: white;}#sk-container-id-125 label.sk-toggleable__label {cursor: pointer;display: block;width: 100%;margin-bottom: 0;padding: 0.3em;box-sizing: border-box;text-align: center;}#sk-container-id-125 label.sk-toggleable__label-arrow:before {content: \"▸\";float: left;margin-right: 0.25em;color: #696969;}#sk-container-id-125 label.sk-toggleable__label-arrow:hover:before {color: black;}#sk-container-id-125 div.sk-estimator:hover label.sk-toggleable__label-arrow:before {color: black;}#sk-container-id-125 div.sk-toggleable__content {max-height: 0;max-width: 0;overflow: hidden;text-align: left;background-color: #f0f8ff;}#sk-container-id-125 div.sk-toggleable__content pre {margin: 0.2em;color: black;border-radius: 0.25em;background-color: #f0f8ff;}#sk-container-id-125 input.sk-toggleable__control:checked~div.sk-toggleable__content {max-height: 200px;max-width: 100%;overflow: auto;}#sk-container-id-125 input.sk-toggleable__control:checked~label.sk-toggleable__label-arrow:before {content: \"▾\";}#sk-container-id-125 div.sk-estimator input.sk-toggleable__control:checked~label.sk-toggleable__label {background-color: #d4ebff;}#sk-container-id-125 div.sk-label input.sk-toggleable__control:checked~label.sk-toggleable__label {background-color: #d4ebff;}#sk-container-id-125 input.sk-hidden--visually {border: 0;clip: rect(1px 1px 1px 1px);clip: rect(1px, 1px, 1px, 1px);height: 1px;margin: -1px;overflow: hidden;padding: 0;position: absolute;width: 1px;}#sk-container-id-125 div.sk-estimator {font-family: monospace;background-color: #f0f8ff;border: 1px dotted black;border-radius: 0.25em;box-sizing: border-box;margin-bottom: 0.5em;}#sk-container-id-125 div.sk-estimator:hover {background-color: #d4ebff;}#sk-container-id-125 div.sk-parallel-item::after {content: \"\";width: 100%;border-bottom: 1px solid gray;flex-grow: 1;}#sk-container-id-125 div.sk-label:hover label.sk-toggleable__label {background-color: #d4ebff;}#sk-container-id-125 div.sk-serial::before {content: \"\";position: absolute;border-left: 1px solid gray;box-sizing: border-box;top: 0;bottom: 0;left: 50%;z-index: 0;}#sk-container-id-125 div.sk-serial {display: flex;flex-direction: column;align-items: center;background-color: white;padding-right: 0.2em;padding-left: 0.2em;position: relative;}#sk-container-id-125 div.sk-item {position: relative;z-index: 1;}#sk-container-id-125 div.sk-parallel {display: flex;align-items: stretch;justify-content: center;background-color: white;position: relative;}#sk-container-id-125 div.sk-item::before, #sk-container-id-125 div.sk-parallel-item::before {content: \"\";position: absolute;border-left: 1px solid gray;box-sizing: border-box;top: 0;bottom: 0;left: 50%;z-index: -1;}#sk-container-id-125 div.sk-parallel-item {display: flex;flex-direction: column;z-index: 1;position: relative;background-color: white;}#sk-container-id-125 div.sk-parallel-item:first-child::after {align-self: flex-end;width: 50%;}#sk-container-id-125 div.sk-parallel-item:last-child::after {align-self: flex-start;width: 50%;}#sk-container-id-125 div.sk-parallel-item:only-child::after {width: 0;}#sk-container-id-125 div.sk-dashed-wrapped {border: 1px dashed gray;margin: 0 0.4em 0.5em 0.4em;box-sizing: border-box;padding-bottom: 0.4em;background-color: white;}#sk-container-id-125 div.sk-label label {font-family: monospace;font-weight: bold;display: inline-block;line-height: 1.2em;}#sk-container-id-125 div.sk-label-container {text-align: center;}#sk-container-id-125 div.sk-container {/* jupyter's `normalize.less` sets `[hidden] { display: none; }` but bootstrap.min.css set `[hidden] { display: none !important; }` so we also need the `!important` here to be able to override the default hidden behavior on the sphinx rendered scikit-learn.org. See: https://github.com/scikit-learn/scikit-learn/issues/21755 */display: inline-block !important;position: relative;}#sk-container-id-125 div.sk-text-repr-fallback {display: none;}</style><div id=\"sk-container-id-125\" class=\"sk-top-container\"><div class=\"sk-text-repr-fallback\"><pre>MultiOutputClassifier(estimator=LinearSVC(random_state=42))</pre><b>In a Jupyter environment, please rerun this cell to show the HTML representation or trust the notebook. <br />On GitHub, the HTML representation is unable to render, please try loading this page with nbviewer.org.</b></div><div class=\"sk-container\" hidden><div class=\"sk-item sk-dashed-wrapped\"><div class=\"sk-label-container\"><div class=\"sk-label sk-toggleable\"><input class=\"sk-toggleable__control sk-hidden--visually\" id=\"sk-estimator-id-371\" type=\"checkbox\" ><label for=\"sk-estimator-id-371\" class=\"sk-toggleable__label sk-toggleable__label-arrow\">MultiOutputClassifier</label><div class=\"sk-toggleable__content\"><pre>MultiOutputClassifier(estimator=LinearSVC(random_state=42))</pre></div></div></div><div class=\"sk-parallel\"><div class=\"sk-parallel-item\"><div class=\"sk-item\"><div class=\"sk-label-container\"><div class=\"sk-label sk-toggleable\"><input class=\"sk-toggleable__control sk-hidden--visually\" id=\"sk-estimator-id-372\" type=\"checkbox\" ><label for=\"sk-estimator-id-372\" class=\"sk-toggleable__label sk-toggleable__label-arrow\">estimator: LinearSVC</label><div class=\"sk-toggleable__content\"><pre>LinearSVC(random_state=42)</pre></div></div></div><div class=\"sk-serial\"><div class=\"sk-item\"><div class=\"sk-estimator sk-toggleable\"><input class=\"sk-toggleable__control sk-hidden--visually\" id=\"sk-estimator-id-373\" type=\"checkbox\" ><label for=\"sk-estimator-id-373\" class=\"sk-toggleable__label sk-toggleable__label-arrow\">LinearSVC</label><div class=\"sk-toggleable__content\"><pre>LinearSVC(random_state=42)</pre></div></div></div></div></div></div></div></div></div></div>"
            ],
            "text/plain": [
              "MultiOutputClassifier(estimator=LinearSVC(random_state=42))"
            ]
          },
          "execution_count": 3388,
          "metadata": {},
          "output_type": "execute_result"
        }
      ],
      "source": [
        "Model = LinearSVC(random_state=42)\n",
        "ModelSVC = MultiOutputClassifier(Model)\n",
        "ModelSVC.fit(X_train_values, Y_train)"
      ]
    },
    {
      "cell_type": "code",
      "execution_count": 3389,
      "metadata": {
        "id": "JJWfglrYQc_J"
      },
      "outputs": [],
      "source": [
        "predict = ModelSVC.predict(X_test_values)"
      ]
    },
    {
      "cell_type": "code",
      "execution_count": 3390,
      "metadata": {},
      "outputs": [
        {
          "data": {
            "text/plain": [
              "0.892271662763466"
            ]
          },
          "execution_count": 3390,
          "metadata": {},
          "output_type": "execute_result"
        }
      ],
      "source": [
        "accuracy_score(predict,Y_test)"
      ]
    },
    {
      "cell_type": "code",
      "execution_count": 3391,
      "metadata": {
        "id": "ig37BZaWQjT-"
      },
      "outputs": [
        {
          "data": {
            "text/plain": [
              "0.8985849056603774"
            ]
          },
          "execution_count": 3391,
          "metadata": {},
          "output_type": "execute_result"
        }
      ],
      "source": [
        "f1_score(predict,Y_test,average='micro')"
      ]
    },
    {
      "cell_type": "code",
      "execution_count": 3392,
      "metadata": {},
      "outputs": [
        {
          "data": {
            "text/plain": [
              "0.9049881235154394"
            ]
          },
          "execution_count": 3392,
          "metadata": {},
          "output_type": "execute_result"
        }
      ],
      "source": [
        "recall_score(predict,Y_test,average='micro')"
      ]
    },
    {
      "cell_type": "code",
      "execution_count": 3393,
      "metadata": {
        "id": "5bx2oPkbQj2K"
      },
      "outputs": [
        {
          "data": {
            "text/plain": [
              "0.892271662763466"
            ]
          },
          "execution_count": 3393,
          "metadata": {},
          "output_type": "execute_result"
        }
      ],
      "source": [
        "precision_score(predict,Y_test,average='micro')"
      ]
    },
    {
      "cell_type": "code",
      "execution_count": 3394,
      "metadata": {},
      "outputs": [
        {
          "data": {
            "text/plain": [
              "'              precision    recall  f1-score   support\\n\\n           0       0.68      1.00      0.81        27\\n           1       1.00      0.87      0.93       306\\n           2       0.00      0.00      0.00         0\\n           3       0.77      1.00      0.87        88\\n\\n   micro avg       0.89      0.90      0.90       421\\n   macro avg       0.61      0.72      0.65       421\\nweighted avg       0.93      0.90      0.91       421\\n samples avg       0.89      0.89      0.89       421\\n'"
            ]
          },
          "execution_count": 3394,
          "metadata": {},
          "output_type": "execute_result"
        }
      ],
      "source": [
        "classification_report(predict,Y_test)"
      ]
    },
    {
      "cell_type": "code",
      "execution_count": 3395,
      "metadata": {
        "id": "zwu_qpVSQkW-"
      },
      "outputs": [
        {
          "data": {
            "text/plain": [
              "['ModelFinal.pkl']"
            ]
          },
          "execution_count": 3395,
          "metadata": {},
          "output_type": "execute_result"
        }
      ],
      "source": [
        "joblib.dump(ModelSVC,'ModelFinal.pkl')\n"
      ]
    },
    {
      "cell_type": "markdown",
      "metadata": {
        "id": "tkmRwVhcMRq3"
      },
      "source": [
        "**Result**"
      ]
    },
    {
      "cell_type": "code",
      "execution_count": 3396,
      "metadata": {
        "id": "6ajl8U55QlTK"
      },
      "outputs": [
        {
          "data": {
            "text/plain": [
              "['Y_train_columns.pkl']"
            ]
          },
          "execution_count": 3396,
          "metadata": {},
          "output_type": "execute_result"
        }
      ],
      "source": [
        "Y_train_columns = Y.columns\n",
        "\n",
        "\n",
        "joblib.dump(Y_train_columns,'Y_train_columns.pkl')"
      ]
    },
    {
      "cell_type": "code",
      "execution_count": 3412,
      "metadata": {
        "id": "suUh9ldcQqps"
      },
      "outputs": [],
      "source": [
        "import re\n",
        "\n",
        "def modelFunction(nama, tfidf_vectorizer):\n",
        "    m = joblib.load('ModelFinal.pkl')\n",
        "\n",
        "    # Jika input kosong atau tidak sesuai pola\n",
        "    \n",
        "\n",
        "    text_vectorizer = tfidf_vectorizer.transform([nama])\n",
        "    prediction = m.predict(text_vectorizer)\n",
        "\n",
        "    result = []\n",
        "\n",
        "    # Cek apakah hasil prediksi memiliki nilai 1\n",
        "    if 1 in prediction:\n",
        "        for pre in np.where(prediction == 1)[1]:\n",
        "            result.append(Y_train_columns[pre])\n",
        "    elif not nama or not re.match(\"^[a-zA-Z0-9]+$\", nama):\n",
        "        return [\"Lainnya\"]\n",
        "\n",
        "    return result\n"
      ]
    },
    {
      "cell_type": "code",
      "execution_count": 3413,
      "metadata": {
        "id": "cUWgIZVSQrxb"
      },
      "outputs": [
        {
          "data": {
            "text/plain": [
              "['Makanan dan Minuman']"
            ]
          },
          "execution_count": 3413,
          "metadata": {},
          "output_type": "execute_result"
        }
      ],
      "source": [
        "j = modelFunction(\"Siomay Rp.5000\",tfidf_vectorizer)\n",
        "j"
      ]
    },
    {
      "cell_type": "code",
      "execution_count": 3415,
      "metadata": {},
      "outputs": [
        {
          "name": "stdout",
          "output_type": "stream",
          "text": [
            "Hasil Prediksi: ['Lainnya']\n"
          ]
        }
      ],
      "source": [
        "# Minta input dari pengguna untuk teks yang ingin diprediksi\n",
        "input_user = input(\"Masukkan teks yang ingin diprediksi: \")\n",
        "user_input = modelFunction(input_user, tfidf_vectorizer)\n",
        "print(\"Hasil Prediksi:\", user_input)"
      ]
    },
    {
      "cell_type": "code",
      "execution_count": 3400,
      "metadata": {},
      "outputs": [
        {
          "name": "stdout",
          "output_type": "stream",
          "text": [
            "Index(['nama', 'kategori', 'Lainnya', 'Makanan dan Minuman', 'Belanja',\n",
            "       'Hiburan'],\n",
            "      dtype='object')\n",
            "(2134, 6)\n",
            "<bound method NDFrame.head of                nama kategori  Lainnya  Makanan dan Minuman  Belanja  Hiburan\n",
            "0            Bensin  Lainnya        1                    0        0        0\n",
            "1     Bayar Listrik  Lainnya        1                    0        0        0\n",
            "2         Bayar Air  Lainnya        1                    0        0        0\n",
            "3       Pajak Motor  Lainnya        1                    0        0        0\n",
            "4       Pajak Mobil  Lainnya        1                    0        0        0\n",
            "...             ...      ...      ...                  ...      ...      ...\n",
            "6006      Penghapus  Belanja        0                    0        1        0\n",
            "6007      Penggaris  Belanja        0                    0        1        0\n",
            "6008  Rautan Pensil  Belanja        0                    0        1        0\n",
            "6009   Pensil Warna  Belanja        0                    0        1        0\n",
            "6010        Pemutih  Belanja        0                    0        1        0\n",
            "\n",
            "[2134 rows x 6 columns]>\n"
          ]
        }
      ],
      "source": [
        "print(df.columns)\n",
        "print(df.shape)\n",
        "print(df.head)"
      ]
    }
  ],
  "metadata": {
    "colab": {
      "provenance": []
    },
    "kernelspec": {
      "display_name": "Python 3",
      "name": "python3"
    },
    "language_info": {
      "codemirror_mode": {
        "name": "ipython",
        "version": 3
      },
      "file_extension": ".py",
      "mimetype": "text/x-python",
      "name": "python",
      "nbconvert_exporter": "python",
      "pygments_lexer": "ipython3",
      "version": "3.9.2"
    }
  },
  "nbformat": 4,
  "nbformat_minor": 0
}
