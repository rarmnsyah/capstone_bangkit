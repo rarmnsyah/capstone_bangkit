{
 "cells": [
  {
   "cell_type": "code",
   "execution_count": 5,
   "id": "ae7bd962",
   "metadata": {},
   "outputs": [],
   "source": [
    "import pandas as pd\n",
    "import numpy as np\n",
    "import tensorflow as tf\n",
    "import string\n",
    "import os\n",
    "import re\n",
    "import matplotlib.pyplot as plt\n",
    "import seaborn as sns\n",
    "\n",
    "from transformers import AutoTokenizer, TFBertModel, TFAutoModelForSequenceClassification\n",
    "from datasets import Dataset, concatenate_datasets, DatasetDict, load_metric\n",
    "from sklearn.metrics import ConfusionMatrixDisplay\n",
    "from sklearn.model_selection import train_test_split\n",
    "from imblearn.under_sampling import RandomUnderSampler"
   ]
  },
  {
   "cell_type": "code",
   "execution_count": 6,
   "id": "77f48af2",
   "metadata": {},
   "outputs": [
    {
     "data": {
      "text/plain": [
       "['dataset_cnn_summarized.xlsx',\n",
       " 'dataset_kompas_summarized.xlsx',\n",
       " 'dataset_tempo_summarized.xlsx',\n",
       " 'dataset_turnbackhoax_summarized.xlsx']"
      ]
     },
     "execution_count": 6,
     "metadata": {},
     "output_type": "execute_result"
    }
   ],
   "source": [
    "cwd = os.getcwd()\n",
    "datapath = os.path.join(cwd, 'dataset')\n",
    "addition_data_path = os.path.join(datapath, 'archive', 'Summarized')\n",
    "\n",
    "addition_data_ = os.listdir(addition_data_path)\n",
    "addition_data_"
   ]
  },
  {
   "cell_type": "code",
   "execution_count": 7,
   "id": "b0f2ceab",
   "metadata": {},
   "outputs": [
    {
     "data": {
      "text/html": [
       "<div>\n",
       "<style scoped>\n",
       "    .dataframe tbody tr th:only-of-type {\n",
       "        vertical-align: middle;\n",
       "    }\n",
       "\n",
       "    .dataframe tbody tr th {\n",
       "        vertical-align: top;\n",
       "    }\n",
       "\n",
       "    .dataframe thead th {\n",
       "        text-align: right;\n",
       "    }\n",
       "</style>\n",
       "<table border=\"1\" class=\"dataframe\">\n",
       "  <thead>\n",
       "    <tr style=\"text-align: right;\">\n",
       "      <th></th>\n",
       "      <th>index</th>\n",
       "      <th>title</th>\n",
       "      <th>raw timestamp</th>\n",
       "      <th>original</th>\n",
       "      <th>tags</th>\n",
       "      <th>author</th>\n",
       "      <th>url</th>\n",
       "      <th>cleaned</th>\n",
       "      <th>label</th>\n",
       "      <th>timestamp</th>\n",
       "      <th>cleaned token length</th>\n",
       "      <th>summarized</th>\n",
       "    </tr>\n",
       "  </thead>\n",
       "  <tbody>\n",
       "    <tr>\n",
       "      <th>0</th>\n",
       "      <td>0</td>\n",
       "      <td>Anies di Milad BKMT: Pengajian Menghasilkan Ib...</td>\n",
       "      <td>Selasa, 21 Feb 2023 21:22 WIB</td>\n",
       "      <td>Jakarta, CNN Indonesia -- Mantan Gubernur DKI ...</td>\n",
       "      <td>anies baswedan;pengajian;pilpres 2024;badan ko...</td>\n",
       "      <td>CNN Indonesia</td>\n",
       "      <td>https://www.cnnindonesia.com/nasional/20230221...</td>\n",
       "      <td>Anies di Milad BKMT: Pengajian Menghasilkan Ib...</td>\n",
       "      <td>0</td>\n",
       "      <td>2023-02-21 21:22:00</td>\n",
       "      <td>401</td>\n",
       "      <td>Mantan Gubernur DKI Jakarta Anies Baswedan men...</td>\n",
       "    </tr>\n",
       "    <tr>\n",
       "      <th>1</th>\n",
       "      <td>1</td>\n",
       "      <td>Edy Soal Pilgub Sumut: Kalau yang Maju Abal-ab...</td>\n",
       "      <td>Selasa, 21 Feb 2023 20:46 WIB</td>\n",
       "      <td>Medan, CNN Indonesia -- Gubernur Sumatera Utar...</td>\n",
       "      <td>edy rahmayadi;pemilu 2024;pilkada 2024</td>\n",
       "      <td>CNN Indonesia</td>\n",
       "      <td>https://www.cnnindonesia.com/nasional/20230221...</td>\n",
       "      <td>Edy Soal Pilgub Sumut: Kalau yang Maju Abal-ab...</td>\n",
       "      <td>0</td>\n",
       "      <td>2023-02-21 20:46:00</td>\n",
       "      <td>410</td>\n",
       "      <td>Gubernur Sumatera Utara Edy Rahmayadi membuka ...</td>\n",
       "    </tr>\n",
       "    <tr>\n",
       "      <th>2</th>\n",
       "      <td>2</td>\n",
       "      <td>PKB Bakal Daftarkan Menaker Ida Fauziyah Jadi ...</td>\n",
       "      <td>Selasa, 21 Feb 2023 20:33 WIB</td>\n",
       "      <td>Jakarta, CNN Indonesia -- Partai Kebangkitan B...</td>\n",
       "      <td>ida fauziyah;pkb;pemilu 2024;pileg 2024</td>\n",
       "      <td>CNN Indonesia</td>\n",
       "      <td>https://www.cnnindonesia.com/nasional/20230221...</td>\n",
       "      <td>PKB Bakal Daftarkan Menaker Ida Fauziyah Jadi ...</td>\n",
       "      <td>0</td>\n",
       "      <td>2023-02-21 20:33:00</td>\n",
       "      <td>285</td>\n",
       "      <td>PKB bakal mengusung Menteri Ketenagakerjaan Id...</td>\n",
       "    </tr>\n",
       "    <tr>\n",
       "      <th>3</th>\n",
       "      <td>3</td>\n",
       "      <td>Gede Pasek Doakan AHY Jadi Capres atau Cawapres</td>\n",
       "      <td>Selasa, 21 Feb 2023 19:58 WIB</td>\n",
       "      <td>Jakarta, CNN Indonesia -- Ketua Umum Partai Ke...</td>\n",
       "      <td>gede pasek suardika;ahy;pilpres 2024;pemilu 20...</td>\n",
       "      <td>CNN Indonesia</td>\n",
       "      <td>https://www.cnnindonesia.com/nasional/20230221...</td>\n",
       "      <td>Gede Pasek Doakan AHY Jadi Capres atau Cawapre...</td>\n",
       "      <td>0</td>\n",
       "      <td>2023-02-21 19:58:00</td>\n",
       "      <td>279</td>\n",
       "      <td>Ketua Umum Partai Kebangkitan Nusantara (PKN) ...</td>\n",
       "    </tr>\n",
       "    <tr>\n",
       "      <th>4</th>\n",
       "      <td>4</td>\n",
       "      <td>PKN Siapkan Jabatan Khusus Buat Anas Urbaningr...</td>\n",
       "      <td>Selasa, 21 Feb 2023 18:56 WIB</td>\n",
       "      <td>Jakarta, CNN Indonesia -- Dewan Pimpinan Pusat...</td>\n",
       "      <td>anas urbaningrum;pkn;pemilu 2024</td>\n",
       "      <td>CNN Indonesia</td>\n",
       "      <td>https://www.cnnindonesia.com/nasional/20230221...</td>\n",
       "      <td>PKN Siapkan Jabatan Khusus Buat Anas Urbaningr...</td>\n",
       "      <td>0</td>\n",
       "      <td>2023-02-21 18:56:00</td>\n",
       "      <td>305</td>\n",
       "      <td>Dewan Pimpinan Pusat PKN menyiapkan jabatan kh...</td>\n",
       "    </tr>\n",
       "  </tbody>\n",
       "</table>\n",
       "</div>"
      ],
      "text/plain": [
       "   index                                              title  \\\n",
       "0      0  Anies di Milad BKMT: Pengajian Menghasilkan Ib...   \n",
       "1      1  Edy Soal Pilgub Sumut: Kalau yang Maju Abal-ab...   \n",
       "2      2  PKB Bakal Daftarkan Menaker Ida Fauziyah Jadi ...   \n",
       "3      3    Gede Pasek Doakan AHY Jadi Capres atau Cawapres   \n",
       "4      4  PKN Siapkan Jabatan Khusus Buat Anas Urbaningr...   \n",
       "\n",
       "                   raw timestamp  \\\n",
       "0  Selasa, 21 Feb 2023 21:22 WIB   \n",
       "1  Selasa, 21 Feb 2023 20:46 WIB   \n",
       "2  Selasa, 21 Feb 2023 20:33 WIB   \n",
       "3  Selasa, 21 Feb 2023 19:58 WIB   \n",
       "4  Selasa, 21 Feb 2023 18:56 WIB   \n",
       "\n",
       "                                            original  \\\n",
       "0  Jakarta, CNN Indonesia -- Mantan Gubernur DKI ...   \n",
       "1  Medan, CNN Indonesia -- Gubernur Sumatera Utar...   \n",
       "2  Jakarta, CNN Indonesia -- Partai Kebangkitan B...   \n",
       "3  Jakarta, CNN Indonesia -- Ketua Umum Partai Ke...   \n",
       "4  Jakarta, CNN Indonesia -- Dewan Pimpinan Pusat...   \n",
       "\n",
       "                                                tags         author  \\\n",
       "0  anies baswedan;pengajian;pilpres 2024;badan ko...  CNN Indonesia   \n",
       "1             edy rahmayadi;pemilu 2024;pilkada 2024  CNN Indonesia   \n",
       "2            ida fauziyah;pkb;pemilu 2024;pileg 2024  CNN Indonesia   \n",
       "3  gede pasek suardika;ahy;pilpres 2024;pemilu 20...  CNN Indonesia   \n",
       "4                   anas urbaningrum;pkn;pemilu 2024  CNN Indonesia   \n",
       "\n",
       "                                                 url  \\\n",
       "0  https://www.cnnindonesia.com/nasional/20230221...   \n",
       "1  https://www.cnnindonesia.com/nasional/20230221...   \n",
       "2  https://www.cnnindonesia.com/nasional/20230221...   \n",
       "3  https://www.cnnindonesia.com/nasional/20230221...   \n",
       "4  https://www.cnnindonesia.com/nasional/20230221...   \n",
       "\n",
       "                                             cleaned  label  \\\n",
       "0  Anies di Milad BKMT: Pengajian Menghasilkan Ib...      0   \n",
       "1  Edy Soal Pilgub Sumut: Kalau yang Maju Abal-ab...      0   \n",
       "2  PKB Bakal Daftarkan Menaker Ida Fauziyah Jadi ...      0   \n",
       "3  Gede Pasek Doakan AHY Jadi Capres atau Cawapre...      0   \n",
       "4  PKN Siapkan Jabatan Khusus Buat Anas Urbaningr...      0   \n",
       "\n",
       "            timestamp  cleaned token length  \\\n",
       "0 2023-02-21 21:22:00                   401   \n",
       "1 2023-02-21 20:46:00                   410   \n",
       "2 2023-02-21 20:33:00                   285   \n",
       "3 2023-02-21 19:58:00                   279   \n",
       "4 2023-02-21 18:56:00                   305   \n",
       "\n",
       "                                          summarized  \n",
       "0  Mantan Gubernur DKI Jakarta Anies Baswedan men...  \n",
       "1  Gubernur Sumatera Utara Edy Rahmayadi membuka ...  \n",
       "2  PKB bakal mengusung Menteri Ketenagakerjaan Id...  \n",
       "3  Ketua Umum Partai Kebangkitan Nusantara (PKN) ...  \n",
       "4  Dewan Pimpinan Pusat PKN menyiapkan jabatan kh...  "
      ]
     },
     "execution_count": 7,
     "metadata": {},
     "output_type": "execute_result"
    }
   ],
   "source": [
    "addition_data = {\"_\".join(data.split('_')[0:2]) : pd.read_excel(os.path.join(addition_data_path, data)) for data in addition_data_}\n",
    "addition_data['dataset_cnn'].head()"
   ]
  },
  {
   "cell_type": "code",
   "execution_count": 8,
   "id": "875e3cce",
   "metadata": {},
   "outputs": [
    {
     "data": {
      "text/plain": [
       "dict_keys(['dataset_cnn', 'dataset_kompas', 'dataset_tempo', 'dataset_turnbackhoax'])"
      ]
     },
     "execution_count": 8,
     "metadata": {},
     "output_type": "execute_result"
    }
   ],
   "source": [
    "addition_data.keys()"
   ]
  },
  {
   "cell_type": "code",
   "execution_count": 9,
   "id": "e7909088",
   "metadata": {},
   "outputs": [
    {
     "name": "stdout",
     "output_type": "stream",
     "text": [
      "<class 'pandas.core.frame.DataFrame'>\n",
      "RangeIndex: 9630 entries, 0 to 9629\n",
      "Data columns (total 12 columns):\n",
      " #   Column                Non-Null Count  Dtype         \n",
      "---  ------                --------------  -----         \n",
      " 0   index                 9630 non-null   int64         \n",
      " 1   title                 9630 non-null   object        \n",
      " 2   raw timestamp         9630 non-null   object        \n",
      " 3   original              9630 non-null   object        \n",
      " 4   tags                  9627 non-null   object        \n",
      " 5   author                9630 non-null   object        \n",
      " 6   url                   9630 non-null   object        \n",
      " 7   cleaned               9630 non-null   object        \n",
      " 8   label                 9630 non-null   int64         \n",
      " 9   timestamp             9630 non-null   datetime64[ns]\n",
      " 10  cleaned token length  9630 non-null   int64         \n",
      " 11  summarized            9630 non-null   object        \n",
      "dtypes: datetime64[ns](1), int64(3), object(8)\n",
      "memory usage: 902.9+ KB\n"
     ]
    }
   ],
   "source": [
    "addition_data['dataset_cnn'].info()"
   ]
  },
  {
   "cell_type": "code",
   "execution_count": 10,
   "id": "e0884b28",
   "metadata": {},
   "outputs": [
    {
     "name": "stdout",
     "output_type": "stream",
     "text": [
      "<class 'pandas.core.frame.DataFrame'>\n",
      "RangeIndex: 4729 entries, 0 to 4728\n",
      "Data columns (total 12 columns):\n",
      " #   Column                Non-Null Count  Dtype         \n",
      "---  ------                --------------  -----         \n",
      " 0   index                 4729 non-null   int64         \n",
      " 1   title                 4729 non-null   object        \n",
      " 2   raw timestamp         4729 non-null   object        \n",
      " 3   original              4723 non-null   object        \n",
      " 4   tags                  4592 non-null   object        \n",
      " 5   author                4413 non-null   object        \n",
      " 6   url                   4729 non-null   object        \n",
      " 7   cleaned               4723 non-null   object        \n",
      " 8   label                 4729 non-null   int64         \n",
      " 9   timestamp             4729 non-null   datetime64[ns]\n",
      " 10  cleaned token length  4729 non-null   int64         \n",
      " 11  summarized            4547 non-null   object        \n",
      "dtypes: datetime64[ns](1), int64(3), object(8)\n",
      "memory usage: 443.5+ KB\n"
     ]
    }
   ],
   "source": [
    "addition_data['dataset_kompas'].info()"
   ]
  },
  {
   "cell_type": "code",
   "execution_count": 11,
   "id": "c5dd778c",
   "metadata": {},
   "outputs": [
    {
     "name": "stdout",
     "output_type": "stream",
     "text": [
      "<class 'pandas.core.frame.DataFrame'>\n",
      "RangeIndex: 6592 entries, 0 to 6591\n",
      "Data columns (total 12 columns):\n",
      " #   Column                Non-Null Count  Dtype         \n",
      "---  ------                --------------  -----         \n",
      " 0   index                 6592 non-null   int64         \n",
      " 1   title                 6592 non-null   object        \n",
      " 2   raw timestamp         6592 non-null   object        \n",
      " 3   original              6592 non-null   object        \n",
      " 4   tags                  6591 non-null   object        \n",
      " 5   author                6592 non-null   object        \n",
      " 6   url                   6592 non-null   object        \n",
      " 7   cleaned               6592 non-null   object        \n",
      " 8   label                 6592 non-null   int64         \n",
      " 9   timestamp             6592 non-null   datetime64[ns]\n",
      " 10  cleaned token length  6592 non-null   int64         \n",
      " 11  summarized            6592 non-null   object        \n",
      "dtypes: datetime64[ns](1), int64(3), object(8)\n",
      "memory usage: 618.1+ KB\n"
     ]
    }
   ],
   "source": [
    "addition_data['dataset_tempo'].info()"
   ]
  },
  {
   "cell_type": "code",
   "execution_count": 12,
   "id": "2dc9fb02",
   "metadata": {},
   "outputs": [
    {
     "name": "stdout",
     "output_type": "stream",
     "text": [
      "<class 'pandas.core.frame.DataFrame'>\n",
      "RangeIndex: 10381 entries, 0 to 10380\n",
      "Data columns (total 14 columns):\n",
      " #   Column                Non-Null Count  Dtype         \n",
      "---  ------                --------------  -----         \n",
      " 0   index                 10381 non-null  int64         \n",
      " 1   title                 10381 non-null  object        \n",
      " 2   raw timestamp         10381 non-null  object        \n",
      " 3   original              10381 non-null  object        \n",
      " 4   tags                  10381 non-null  object        \n",
      " 5   author                10381 non-null  object        \n",
      " 6   url                   10381 non-null  object        \n",
      " 7   politik               10381 non-null  int64         \n",
      " 8   raw narasi            10381 non-null  object        \n",
      " 9   cleaned               6502 non-null   object        \n",
      " 10  label                 10381 non-null  int64         \n",
      " 11  timestamp             10381 non-null  datetime64[ns]\n",
      " 12  cleaned token length  10381 non-null  int64         \n",
      " 13  summarized            6166 non-null   object        \n",
      "dtypes: datetime64[ns](1), int64(4), object(9)\n",
      "memory usage: 1.1+ MB\n"
     ]
    }
   ],
   "source": [
    "addition_data['dataset_turnbackhoax'].info()"
   ]
  },
  {
   "cell_type": "code",
   "execution_count": 13,
   "id": "ce44f556",
   "metadata": {},
   "outputs": [],
   "source": [
    "def space_to_punct(text):\n",
    "    for punct in string.punctuation:\n",
    "        text = text.replace(punct, f' {punct} ')\n",
    "        \n",
    "    text = re.sub(' +', ' ', text)\n",
    "    return text"
   ]
  },
  {
   "cell_type": "code",
   "execution_count": 14,
   "id": "6ef29387",
   "metadata": {},
   "outputs": [],
   "source": [
    "for data in addition_data:\n",
    "    addition_data[data]['cleaned'] = addition_data[data]['cleaned'][addition_data[data]['cleaned'].isna() == False]\n",
    "    addition_data[data]['cleaned'] = addition_data[data]['cleaned'].astype('str')\n",
    "    addition_data[data]['cleaned'] = addition_data[data]['cleaned'].map(lambda x: space_to_punct(x))"
   ]
  },
  {
   "cell_type": "code",
   "execution_count": 15,
   "id": "3a06e5ee",
   "metadata": {},
   "outputs": [
    {
     "name": "stdout",
     "output_type": "stream",
     "text": [
      "<class 'pandas.core.frame.DataFrame'>\n",
      "RangeIndex: 6592 entries, 0 to 6591\n",
      "Data columns (total 12 columns):\n",
      " #   Column                Non-Null Count  Dtype         \n",
      "---  ------                --------------  -----         \n",
      " 0   index                 6592 non-null   int64         \n",
      " 1   title                 6592 non-null   object        \n",
      " 2   raw timestamp         6592 non-null   object        \n",
      " 3   original              6592 non-null   object        \n",
      " 4   tags                  6591 non-null   object        \n",
      " 5   author                6592 non-null   object        \n",
      " 6   url                   6592 non-null   object        \n",
      " 7   cleaned               6592 non-null   object        \n",
      " 8   label                 6592 non-null   int64         \n",
      " 9   timestamp             6592 non-null   datetime64[ns]\n",
      " 10  cleaned token length  6592 non-null   int64         \n",
      " 11  summarized            6592 non-null   object        \n",
      "dtypes: datetime64[ns](1), int64(3), object(8)\n",
      "memory usage: 618.1+ KB\n"
     ]
    }
   ],
   "source": [
    "addition_data['dataset_tempo'].info()"
   ]
  },
  {
   "cell_type": "code",
   "execution_count": 16,
   "id": "d2a800a0",
   "metadata": {},
   "outputs": [
    {
     "name": "stdout",
     "output_type": "stream",
     "text": [
      "label\n",
      "0    9630\n",
      "Name: count, dtype: int64\n",
      "label\n",
      "0    4729\n",
      "Name: count, dtype: int64\n",
      "label\n",
      "0    6592\n",
      "Name: count, dtype: int64\n",
      "label\n",
      "1    10381\n",
      "Name: count, dtype: int64\n"
     ]
    }
   ],
   "source": [
    "for data in addition_data:\n",
    "    print(addition_data[data]['label'].value_counts())"
   ]
  },
  {
   "cell_type": "code",
   "execution_count": 17,
   "id": "619e2b9e",
   "metadata": {},
   "outputs": [],
   "source": [
    "df_cnn = addition_data['dataset_cnn'][['cleaned', 'label']]\n",
    "df_tempo = addition_data['dataset_tempo'][['cleaned', 'label']]\n",
    "df_kompas = addition_data['dataset_kompas'][['cleaned', 'label']]\n",
    "df_turnbackhoax = addition_data['dataset_turnbackhoax'][['cleaned', 'label']]\n"
   ]
  },
  {
   "cell_type": "code",
   "execution_count": 18,
   "id": "d7258066",
   "metadata": {},
   "outputs": [
    {
     "data": {
      "text/html": [
       "<div>\n",
       "<style scoped>\n",
       "    .dataframe tbody tr th:only-of-type {\n",
       "        vertical-align: middle;\n",
       "    }\n",
       "\n",
       "    .dataframe tbody tr th {\n",
       "        vertical-align: top;\n",
       "    }\n",
       "\n",
       "    .dataframe thead th {\n",
       "        text-align: right;\n",
       "    }\n",
       "</style>\n",
       "<table border=\"1\" class=\"dataframe\">\n",
       "  <thead>\n",
       "    <tr style=\"text-align: right;\">\n",
       "      <th></th>\n",
       "      <th>cleaned</th>\n",
       "      <th>label</th>\n",
       "    </tr>\n",
       "  </thead>\n",
       "  <tbody>\n",
       "    <tr>\n",
       "      <th>0</th>\n",
       "      <td>Anies di Milad BKMT : Pengajian Menghasilkan I...</td>\n",
       "      <td>0</td>\n",
       "    </tr>\n",
       "    <tr>\n",
       "      <th>1</th>\n",
       "      <td>Edy Soal Pilgub Sumut : Kalau yang Maju Abal -...</td>\n",
       "      <td>0</td>\n",
       "    </tr>\n",
       "    <tr>\n",
       "      <th>2</th>\n",
       "      <td>PKB Bakal Daftarkan Menaker Ida Fauziyah Jadi ...</td>\n",
       "      <td>0</td>\n",
       "    </tr>\n",
       "    <tr>\n",
       "      <th>3</th>\n",
       "      <td>Gede Pasek Doakan AHY Jadi Capres atau Cawapre...</td>\n",
       "      <td>0</td>\n",
       "    </tr>\n",
       "    <tr>\n",
       "      <th>4</th>\n",
       "      <td>PKN Siapkan Jabatan Khusus Buat Anas Urbaningr...</td>\n",
       "      <td>0</td>\n",
       "    </tr>\n",
       "    <tr>\n",
       "      <th>...</th>\n",
       "      <td>...</td>\n",
       "      <td>...</td>\n",
       "    </tr>\n",
       "    <tr>\n",
       "      <th>31327</th>\n",
       "      <td>Raja Salman dari arab saudi membawa orang - or...</td>\n",
       "      <td>1</td>\n",
       "    </tr>\n",
       "    <tr>\n",
       "      <th>31328</th>\n",
       "      <td>hehe , selalu bisa tersenyum melihat tingkah l...</td>\n",
       "      <td>1</td>\n",
       "    </tr>\n",
       "    <tr>\n",
       "      <th>31329</th>\n",
       "      <td>Pak Jokowi itu menjadi walikota periode pertam...</td>\n",
       "      <td>1</td>\n",
       "    </tr>\n",
       "    <tr>\n",
       "      <th>31330</th>\n",
       "      <td>Hari ini , Rabu ( 23 / 09 / 2015 ) , nilai tuk...</td>\n",
       "      <td>1</td>\n",
       "    </tr>\n",
       "    <tr>\n",
       "      <th>31331</th>\n",
       "      <td>MARI KITA TOLAK . 25 desember acara pastur di ...</td>\n",
       "      <td>1</td>\n",
       "    </tr>\n",
       "  </tbody>\n",
       "</table>\n",
       "<p>31332 rows × 2 columns</p>\n",
       "</div>"
      ],
      "text/plain": [
       "                                                 cleaned  label\n",
       "0      Anies di Milad BKMT : Pengajian Menghasilkan I...      0\n",
       "1      Edy Soal Pilgub Sumut : Kalau yang Maju Abal -...      0\n",
       "2      PKB Bakal Daftarkan Menaker Ida Fauziyah Jadi ...      0\n",
       "3      Gede Pasek Doakan AHY Jadi Capres atau Cawapre...      0\n",
       "4      PKN Siapkan Jabatan Khusus Buat Anas Urbaningr...      0\n",
       "...                                                  ...    ...\n",
       "31327  Raja Salman dari arab saudi membawa orang - or...      1\n",
       "31328  hehe , selalu bisa tersenyum melihat tingkah l...      1\n",
       "31329  Pak Jokowi itu menjadi walikota periode pertam...      1\n",
       "31330  Hari ini , Rabu ( 23 / 09 / 2015 ) , nilai tuk...      1\n",
       "31331  MARI KITA TOLAK . 25 desember acara pastur di ...      1\n",
       "\n",
       "[31332 rows x 2 columns]"
      ]
     },
     "execution_count": 18,
     "metadata": {},
     "output_type": "execute_result"
    }
   ],
   "source": [
    "df = pd.concat([df_cnn, df_tempo, df_kompas, df_turnbackhoax], ignore_index=True)\n",
    "df"
   ]
  },
  {
   "cell_type": "code",
   "execution_count": 19,
   "id": "29034a5d",
   "metadata": {},
   "outputs": [
    {
     "data": {
      "text/plain": [
       "<Axes: xlabel='label'>"
      ]
     },
     "execution_count": 19,
     "metadata": {},
     "output_type": "execute_result"
    },
    {
     "data": {
      "image/png": "[encoded data removed]",
      "text/plain": [
       "<Figure size 640x480 with 1 Axes>"
      ]
     },
     "metadata": {},
     "output_type": "display_data"
    }
   ],
   "source": [
    "df['label'].value_counts().plot(kind='bar')"
   ]
  },
  {
   "cell_type": "code",
   "execution_count": 20,
   "id": "480c363b",
   "metadata": {},
   "outputs": [
    {
     "data": {
      "text/html": [
       "<div>\n",
       "<style scoped>\n",
       "    .dataframe tbody tr th:only-of-type {\n",
       "        vertical-align: middle;\n",
       "    }\n",
       "\n",
       "    .dataframe tbody tr th {\n",
       "        vertical-align: top;\n",
       "    }\n",
       "\n",
       "    .dataframe thead th {\n",
       "        text-align: right;\n",
       "    }\n",
       "</style>\n",
       "<table border=\"1\" class=\"dataframe\">\n",
       "  <thead>\n",
       "    <tr style=\"text-align: right;\">\n",
       "      <th></th>\n",
       "      <th>cleaned</th>\n",
       "      <th>label</th>\n",
       "    </tr>\n",
       "  </thead>\n",
       "  <tbody>\n",
       "    <tr>\n",
       "      <th>0</th>\n",
       "      <td>gunung agung erupsi pertama kali november letu...</td>\n",
       "      <td>0</td>\n",
       "    </tr>\n",
       "    <tr>\n",
       "      <th>1</th>\n",
       "      <td>jakarta cnn indonesia menteri bumn erick thohi...</td>\n",
       "      <td>0</td>\n",
       "    </tr>\n",
       "    <tr>\n",
       "      <th>2</th>\n",
       "      <td>dosen fakultas dokter hewan ipb yusuf ridwan n...</td>\n",
       "      <td>0</td>\n",
       "    </tr>\n",
       "    <tr>\n",
       "      <th>3</th>\n",
       "      <td>jakarta anggota tni serda n serda da tusuk ora...</td>\n",
       "      <td>0</td>\n",
       "    </tr>\n",
       "    <tr>\n",
       "      <th>4</th>\n",
       "      <td>aku tembak jatuh pesawat ukraina iran tuai gel...</td>\n",
       "      <td>0</td>\n",
       "    </tr>\n",
       "    <tr>\n",
       "      <th>...</th>\n",
       "      <td>...</td>\n",
       "      <td>...</td>\n",
       "    </tr>\n",
       "    <tr>\n",
       "      <th>2193</th>\n",
       "      <td>hoaxvaksin kanker serviks anakanak sd menopaus...</td>\n",
       "      <td>0</td>\n",
       "    </tr>\n",
       "    <tr>\n",
       "      <th>2194</th>\n",
       "      <td>buah akun twitter nama akun gerilyapolitik mem...</td>\n",
       "      <td>0</td>\n",
       "    </tr>\n",
       "    <tr>\n",
       "      <th>2195</th>\n",
       "      <td>buah akun facebookmemposting video dia sebut b...</td>\n",
       "      <td>0</td>\n",
       "    </tr>\n",
       "    <tr>\n",
       "      <th>2196</th>\n",
       "      <td>buah akun facebook memposting status klaim web...</td>\n",
       "      <td>0</td>\n",
       "    </tr>\n",
       "    <tr>\n",
       "      <th>2197</th>\n",
       "      <td>muncul postingan hoax instagram twitter upa fo...</td>\n",
       "      <td>0</td>\n",
       "    </tr>\n",
       "  </tbody>\n",
       "</table>\n",
       "<p>2198 rows × 2 columns</p>\n",
       "</div>"
      ],
      "text/plain": [
       "                                                cleaned  label\n",
       "0     gunung agung erupsi pertama kali november letu...      0\n",
       "1     jakarta cnn indonesia menteri bumn erick thohi...      0\n",
       "2     dosen fakultas dokter hewan ipb yusuf ridwan n...      0\n",
       "3     jakarta anggota tni serda n serda da tusuk ora...      0\n",
       "4     aku tembak jatuh pesawat ukraina iran tuai gel...      0\n",
       "...                                                 ...    ...\n",
       "2193  hoaxvaksin kanker serviks anakanak sd menopaus...      0\n",
       "2194  buah akun twitter nama akun gerilyapolitik mem...      0\n",
       "2195  buah akun facebookmemposting video dia sebut b...      0\n",
       "2196  buah akun facebook memposting status klaim web...      0\n",
       "2197  muncul postingan hoax instagram twitter upa fo...      0\n",
       "\n",
       "[2198 rows x 2 columns]"
      ]
     },
     "execution_count": 20,
     "metadata": {},
     "output_type": "execute_result"
    }
   ],
   "source": [
    "old_df = pd.read_csv(os.path.join(datapath, 'df_processed.csv'))[['berita', 'label']]\n",
    "old_df.berita = old_df.berita.apply(lambda x : \" \".join(eval(x)))\n",
    "old_df.rename(columns = {\n",
    "    'berita' : 'cleaned'\n",
    "}, inplace = True)\n",
    "old_df"
   ]
  },
  {
   "cell_type": "code",
   "execution_count": 21,
   "id": "b64f364d",
   "metadata": {},
   "outputs": [
    {
     "data": {
      "text/html": [
       "<div>\n",
       "<style scoped>\n",
       "    .dataframe tbody tr th:only-of-type {\n",
       "        vertical-align: middle;\n",
       "    }\n",
       "\n",
       "    .dataframe tbody tr th {\n",
       "        vertical-align: top;\n",
       "    }\n",
       "\n",
       "    .dataframe thead th {\n",
       "        text-align: right;\n",
       "    }\n",
       "</style>\n",
       "<table border=\"1\" class=\"dataframe\">\n",
       "  <thead>\n",
       "    <tr style=\"text-align: right;\">\n",
       "      <th></th>\n",
       "      <th>cleaned</th>\n",
       "      <th>label</th>\n",
       "    </tr>\n",
       "  </thead>\n",
       "  <tbody>\n",
       "    <tr>\n",
       "      <th>0</th>\n",
       "      <td>Anies di Milad BKMT : Pengajian Menghasilkan I...</td>\n",
       "      <td>0</td>\n",
       "    </tr>\n",
       "    <tr>\n",
       "      <th>1</th>\n",
       "      <td>Edy Soal Pilgub Sumut : Kalau yang Maju Abal -...</td>\n",
       "      <td>0</td>\n",
       "    </tr>\n",
       "    <tr>\n",
       "      <th>2</th>\n",
       "      <td>PKB Bakal Daftarkan Menaker Ida Fauziyah Jadi ...</td>\n",
       "      <td>0</td>\n",
       "    </tr>\n",
       "    <tr>\n",
       "      <th>3</th>\n",
       "      <td>Gede Pasek Doakan AHY Jadi Capres atau Cawapre...</td>\n",
       "      <td>0</td>\n",
       "    </tr>\n",
       "    <tr>\n",
       "      <th>4</th>\n",
       "      <td>PKN Siapkan Jabatan Khusus Buat Anas Urbaningr...</td>\n",
       "      <td>0</td>\n",
       "    </tr>\n",
       "    <tr>\n",
       "      <th>...</th>\n",
       "      <td>...</td>\n",
       "      <td>...</td>\n",
       "    </tr>\n",
       "    <tr>\n",
       "      <th>33525</th>\n",
       "      <td>hoaxvaksin kanker serviks anakanak sd menopaus...</td>\n",
       "      <td>0</td>\n",
       "    </tr>\n",
       "    <tr>\n",
       "      <th>33526</th>\n",
       "      <td>buah akun twitter nama akun gerilyapolitik mem...</td>\n",
       "      <td>0</td>\n",
       "    </tr>\n",
       "    <tr>\n",
       "      <th>33527</th>\n",
       "      <td>buah akun facebookmemposting video dia sebut b...</td>\n",
       "      <td>0</td>\n",
       "    </tr>\n",
       "    <tr>\n",
       "      <th>33528</th>\n",
       "      <td>buah akun facebook memposting status klaim web...</td>\n",
       "      <td>0</td>\n",
       "    </tr>\n",
       "    <tr>\n",
       "      <th>33529</th>\n",
       "      <td>muncul postingan hoax instagram twitter upa fo...</td>\n",
       "      <td>0</td>\n",
       "    </tr>\n",
       "  </tbody>\n",
       "</table>\n",
       "<p>33530 rows × 2 columns</p>\n",
       "</div>"
      ],
      "text/plain": [
       "                                                 cleaned  label\n",
       "0      Anies di Milad BKMT : Pengajian Menghasilkan I...      0\n",
       "1      Edy Soal Pilgub Sumut : Kalau yang Maju Abal -...      0\n",
       "2      PKB Bakal Daftarkan Menaker Ida Fauziyah Jadi ...      0\n",
       "3      Gede Pasek Doakan AHY Jadi Capres atau Cawapre...      0\n",
       "4      PKN Siapkan Jabatan Khusus Buat Anas Urbaningr...      0\n",
       "...                                                  ...    ...\n",
       "33525  hoaxvaksin kanker serviks anakanak sd menopaus...      0\n",
       "33526  buah akun twitter nama akun gerilyapolitik mem...      0\n",
       "33527  buah akun facebookmemposting video dia sebut b...      0\n",
       "33528  buah akun facebook memposting status klaim web...      0\n",
       "33529  muncul postingan hoax instagram twitter upa fo...      0\n",
       "\n",
       "[33530 rows x 2 columns]"
      ]
     },
     "execution_count": 21,
     "metadata": {},
     "output_type": "execute_result"
    }
   ],
   "source": [
    "df = pd.concat([df, old_df], ignore_index = True)\n",
    "df"
   ]
  },
  {
   "cell_type": "code",
   "execution_count": 22,
   "id": "ff6e1058",
   "metadata": {},
   "outputs": [
    {
     "data": {
      "text/plain": [
       "label\n",
       "0    11278\n",
       "1    11278\n",
       "Name: count, dtype: int64"
      ]
     },
     "execution_count": 22,
     "metadata": {},
     "output_type": "execute_result"
    }
   ],
   "source": [
    "X = df[['cleaned']]\n",
    "y = df['label']\n",
    "rus = RandomUnderSampler(random_state=1, replacement=True)# fit predictor and target variable\n",
    "X_new, y_new = rus.fit_resample(X,y)\n",
    "y_new.value_counts()"
   ]
  },
  {
   "cell_type": "code",
   "execution_count": 23,
   "id": "66475baf",
   "metadata": {},
   "outputs": [
    {
     "data": {
      "text/html": [
       "<div>\n",
       "<style scoped>\n",
       "    .dataframe tbody tr th:only-of-type {\n",
       "        vertical-align: middle;\n",
       "    }\n",
       "\n",
       "    .dataframe tbody tr th {\n",
       "        vertical-align: top;\n",
       "    }\n",
       "\n",
       "    .dataframe thead th {\n",
       "        text-align: right;\n",
       "    }\n",
       "</style>\n",
       "<table border=\"1\" class=\"dataframe\">\n",
       "  <thead>\n",
       "    <tr style=\"text-align: right;\">\n",
       "      <th></th>\n",
       "      <th>cleaned</th>\n",
       "    </tr>\n",
       "  </thead>\n",
       "  <tbody>\n",
       "    <tr>\n",
       "      <th>235</th>\n",
       "      <td>PSI Sebut Banding Pemecatan Viani Limardi Dito...</td>\n",
       "    </tr>\n",
       "    <tr>\n",
       "      <th>12172</th>\n",
       "      <td>Ditawarkan Koalisi dengan Gerindra , PKS Bilan...</td>\n",
       "    </tr>\n",
       "    <tr>\n",
       "      <th>5192</th>\n",
       "      <td>DPR - Pemerintah - KPU Sepakat Honor Petugas T...</td>\n",
       "    </tr>\n",
       "    <tr>\n",
       "      <th>17289</th>\n",
       "      <td>Puan : Tahun Politik Datang Lebih Awal , Jadi ...</td>\n",
       "    </tr>\n",
       "    <tr>\n",
       "      <th>10955</th>\n",
       "      <td>Dana Pemilu 2024 Capai Rp 110 , 4 Triliun , Jo...</td>\n",
       "    </tr>\n",
       "    <tr>\n",
       "      <th>...</th>\n",
       "      <td>...</td>\n",
       "    </tr>\n",
       "    <tr>\n",
       "      <th>32842</th>\n",
       "      <td>postingan isi jelas sekaligus klarifikasi buat...</td>\n",
       "    </tr>\n",
       "    <tr>\n",
       "      <th>32843</th>\n",
       "      <td>mardani kata foto pegang kaos warna hitam tuli...</td>\n",
       "    </tr>\n",
       "    <tr>\n",
       "      <th>32844</th>\n",
       "      <td>foto tribunnewscom debunk isi buah nyata klari...</td>\n",
       "    </tr>\n",
       "    <tr>\n",
       "      <th>32845</th>\n",
       "      <td>foto twitter jbillinson debunk isi bantah lege...</td>\n",
       "    </tr>\n",
       "    <tr>\n",
       "      <th>32846</th>\n",
       "      <td>debunk isi klarifikasi atas keliru tayang hasi...</td>\n",
       "    </tr>\n",
       "  </tbody>\n",
       "</table>\n",
       "<p>22556 rows × 1 columns</p>\n",
       "</div>"
      ],
      "text/plain": [
       "                                                 cleaned\n",
       "235    PSI Sebut Banding Pemecatan Viani Limardi Dito...\n",
       "12172  Ditawarkan Koalisi dengan Gerindra , PKS Bilan...\n",
       "5192   DPR - Pemerintah - KPU Sepakat Honor Petugas T...\n",
       "17289  Puan : Tahun Politik Datang Lebih Awal , Jadi ...\n",
       "10955  Dana Pemilu 2024 Capai Rp 110 , 4 Triliun , Jo...\n",
       "...                                                  ...\n",
       "32842  postingan isi jelas sekaligus klarifikasi buat...\n",
       "32843  mardani kata foto pegang kaos warna hitam tuli...\n",
       "32844  foto tribunnewscom debunk isi buah nyata klari...\n",
       "32845  foto twitter jbillinson debunk isi bantah lege...\n",
       "32846  debunk isi klarifikasi atas keliru tayang hasi...\n",
       "\n",
       "[22556 rows x 1 columns]"
      ]
     },
     "execution_count": 23,
     "metadata": {},
     "output_type": "execute_result"
    }
   ],
   "source": [
    "X_new"
   ]
  },
  {
   "cell_type": "code",
   "execution_count": 24,
   "id": "1afe27da",
   "metadata": {},
   "outputs": [
    {
     "data": {
      "text/plain": [
       "235      0\n",
       "12172    0\n",
       "5192     0\n",
       "17289    0\n",
       "10955    0\n",
       "        ..\n",
       "32842    1\n",
       "32843    1\n",
       "32844    1\n",
       "32845    1\n",
       "32846    1\n",
       "Name: label, Length: 22556, dtype: int64"
      ]
     },
     "execution_count": 24,
     "metadata": {},
     "output_type": "execute_result"
    }
   ],
   "source": [
    "y_new"
   ]
  },
  {
   "cell_type": "code",
   "execution_count": 25,
   "id": "e82b1468",
   "metadata": {},
   "outputs": [
    {
     "data": {
      "text/html": [
       "<div>\n",
       "<style scoped>\n",
       "    .dataframe tbody tr th:only-of-type {\n",
       "        vertical-align: middle;\n",
       "    }\n",
       "\n",
       "    .dataframe tbody tr th {\n",
       "        vertical-align: top;\n",
       "    }\n",
       "\n",
       "    .dataframe thead th {\n",
       "        text-align: right;\n",
       "    }\n",
       "</style>\n",
       "<table border=\"1\" class=\"dataframe\">\n",
       "  <thead>\n",
       "    <tr style=\"text-align: right;\">\n",
       "      <th></th>\n",
       "      <th>cleaned</th>\n",
       "      <th>label</th>\n",
       "    </tr>\n",
       "  </thead>\n",
       "  <tbody>\n",
       "    <tr>\n",
       "      <th>235</th>\n",
       "      <td>PSI Sebut Banding Pemecatan Viani Limardi Dito...</td>\n",
       "      <td>0</td>\n",
       "    </tr>\n",
       "    <tr>\n",
       "      <th>12172</th>\n",
       "      <td>Ditawarkan Koalisi dengan Gerindra , PKS Bilan...</td>\n",
       "      <td>0</td>\n",
       "    </tr>\n",
       "    <tr>\n",
       "      <th>5192</th>\n",
       "      <td>DPR - Pemerintah - KPU Sepakat Honor Petugas T...</td>\n",
       "      <td>0</td>\n",
       "    </tr>\n",
       "    <tr>\n",
       "      <th>17289</th>\n",
       "      <td>Puan : Tahun Politik Datang Lebih Awal , Jadi ...</td>\n",
       "      <td>0</td>\n",
       "    </tr>\n",
       "    <tr>\n",
       "      <th>10955</th>\n",
       "      <td>Dana Pemilu 2024 Capai Rp 110 , 4 Triliun , Jo...</td>\n",
       "      <td>0</td>\n",
       "    </tr>\n",
       "    <tr>\n",
       "      <th>...</th>\n",
       "      <td>...</td>\n",
       "      <td>...</td>\n",
       "    </tr>\n",
       "    <tr>\n",
       "      <th>32842</th>\n",
       "      <td>postingan isi jelas sekaligus klarifikasi buat...</td>\n",
       "      <td>1</td>\n",
       "    </tr>\n",
       "    <tr>\n",
       "      <th>32843</th>\n",
       "      <td>mardani kata foto pegang kaos warna hitam tuli...</td>\n",
       "      <td>1</td>\n",
       "    </tr>\n",
       "    <tr>\n",
       "      <th>32844</th>\n",
       "      <td>foto tribunnewscom debunk isi buah nyata klari...</td>\n",
       "      <td>1</td>\n",
       "    </tr>\n",
       "    <tr>\n",
       "      <th>32845</th>\n",
       "      <td>foto twitter jbillinson debunk isi bantah lege...</td>\n",
       "      <td>1</td>\n",
       "    </tr>\n",
       "    <tr>\n",
       "      <th>32846</th>\n",
       "      <td>debunk isi klarifikasi atas keliru tayang hasi...</td>\n",
       "      <td>1</td>\n",
       "    </tr>\n",
       "  </tbody>\n",
       "</table>\n",
       "<p>22556 rows × 2 columns</p>\n",
       "</div>"
      ],
      "text/plain": [
       "                                                 cleaned  label\n",
       "235    PSI Sebut Banding Pemecatan Viani Limardi Dito...      0\n",
       "12172  Ditawarkan Koalisi dengan Gerindra , PKS Bilan...      0\n",
       "5192   DPR - Pemerintah - KPU Sepakat Honor Petugas T...      0\n",
       "17289  Puan : Tahun Politik Datang Lebih Awal , Jadi ...      0\n",
       "10955  Dana Pemilu 2024 Capai Rp 110 , 4 Triliun , Jo...      0\n",
       "...                                                  ...    ...\n",
       "32842  postingan isi jelas sekaligus klarifikasi buat...      1\n",
       "32843  mardani kata foto pegang kaos warna hitam tuli...      1\n",
       "32844  foto tribunnewscom debunk isi buah nyata klari...      1\n",
       "32845  foto twitter jbillinson debunk isi bantah lege...      1\n",
       "32846  debunk isi klarifikasi atas keliru tayang hasi...      1\n",
       "\n",
       "[22556 rows x 2 columns]"
      ]
     },
     "execution_count": 25,
     "metadata": {},
     "output_type": "execute_result"
    }
   ],
   "source": [
    "df_new = X_new\n",
    "df_new['label'] = y_new\n",
    "df_new"
   ]
  },
  {
   "cell_type": "code",
   "execution_count": 27,
   "id": "1601a356",
   "metadata": {},
   "outputs": [],
   "source": [
    "df_true = df_new[df_new['label'] == 0]\n",
    "df_false = df_new[df_new['label'] == 1]"
   ]
  },
  {
   "cell_type": "code",
   "execution_count": 28,
   "id": "b4c859cc",
   "metadata": {},
   "outputs": [],
   "source": [
    "dataset_train_test_true = Dataset.from_pandas(df_true).train_test_split(seed=1, test_size=0.2)\n",
    "\n",
    "dataset_train_test_false = Dataset.from_pandas(df_false).train_test_split(seed=1, test_size=0.2)\n",
    "\n",
    "dataset_test_eval_true = dataset_train_test_true['test'].train_test_split(seed=1, test_size=0.5)\n",
    "\n",
    "dataset_test_eval_false = dataset_train_test_false['test'].train_test_split(seed=1, test_size=0.5)"
   ]
  },
  {
   "cell_type": "code",
   "execution_count": 29,
   "id": "61857d7b",
   "metadata": {},
   "outputs": [],
   "source": [
    "ds_train = concatenate_datasets([\n",
    "    dataset_train_test_true['train'], \n",
    "    dataset_train_test_false['train']\n",
    "])\n",
    "ds_eval = concatenate_datasets([\n",
    "    dataset_test_eval_true['train'], \n",
    "    dataset_test_eval_false['train'] \n",
    "])\n",
    "ds_test = concatenate_datasets([\n",
    "    dataset_test_eval_true['test'], \n",
    "    dataset_test_eval_false['test'] \n",
    "])"
   ]
  },
  {
   "cell_type": "code",
   "execution_count": 32,
   "id": "0832aac0",
   "metadata": {},
   "outputs": [
    {
     "name": "stderr",
     "output_type": "stream",
     "text": [
      "All model checkpoint layers were used when initializing TFBertForSequenceClassification.\n",
      "\n",
      "Some layers of TFBertForSequenceClassification were not initialized from the model checkpoint at indobenchmark/indobert-base-p1 and are newly initialized: ['classifier']\n",
      "You should probably TRAIN this model on a down-stream task to be able to use it for predictions and inference.\n"
     ]
    }
   ],
   "source": [
    "model_name = 'indobenchmark/indobert-base-p1'\n",
    "\n",
    "tokenizer = AutoTokenizer.from_pretrained(model_name)\n",
    "model = TFAutoModelForSequenceClassification.from_pretrained(model_name, num_labels = 2)\n",
    "\n",
    "max_len = 70"
   ]
  },
  {
   "cell_type": "code",
   "execution_count": 33,
   "id": "d0743d1a",
   "metadata": {},
   "outputs": [
    {
     "name": "stdout",
     "output_type": "stream",
     "text": [
      "Model: \"tf_bert_for_sequence_classification\"\n",
      "_________________________________________________________________\n",
      " Layer (type)                Output Shape              Param #   \n",
      "=================================================================\n",
      " bert (TFBertMainLayer)      multiple                  124441344 \n",
      "                                                                 \n",
      " dropout_37 (Dropout)        multiple                  0         \n",
      "                                                                 \n",
      " classifier (Dense)          multiple                  1538      \n",
      "                                                                 \n",
      "=================================================================\n",
      "Total params: 124442882 (474.71 MB)\n",
      "Trainable params: 124442882 (474.71 MB)\n",
      "Non-trainable params: 0 (0.00 Byte)\n",
      "_________________________________________________________________\n"
     ]
    }
   ],
   "source": [
    "model.summary()"
   ]
  },
  {
   "cell_type": "code",
   "execution_count": 34,
   "id": "e7636890",
   "metadata": {},
   "outputs": [
    {
     "data": {
      "application/vnd.jupyter.widget-view+json": {
       "model_id": "6e8ac673170d4acb9797ed39f127ef2f",
       "version_major": 2,
       "version_minor": 0
      },
      "text/plain": [
       "Map:   0%|          | 0/18044 [00:00<?, ? examples/s]"
      ]
     },
     "metadata": {},
     "output_type": "display_data"
    },
    {
     "data": {
      "application/vnd.jupyter.widget-view+json": {
       "model_id": "4dbbb3c1b34e489b8e0d708689bb32d8",
       "version_major": 2,
       "version_minor": 0
      },
      "text/plain": [
       "Map:   0%|          | 0/2256 [00:00<?, ? examples/s]"
      ]
     },
     "metadata": {},
     "output_type": "display_data"
    },
    {
     "data": {
      "application/vnd.jupyter.widget-view+json": {
       "model_id": "e14677f4225546edab2acbc3a51e58a9",
       "version_major": 2,
       "version_minor": 0
      },
      "text/plain": [
       "Map:   0%|          | 0/2256 [00:00<?, ? examples/s]"
      ]
     },
     "metadata": {},
     "output_type": "display_data"
    }
   ],
   "source": [
    "def preprocess_function(examples):\n",
    "    return tokenizer(examples['cleaned'], truncation=True, padding=True, max_length=512)\n",
    "\n",
    "ds_train_ = ds_train.map(preprocess_function)\n",
    "ds_eval_ = ds_eval.map(preprocess_function)\n",
    "ds_test_ = ds_test.map(preprocess_function)"
   ]
  },
  {
   "cell_type": "code",
   "execution_count": 36,
   "id": "a78883e5",
   "metadata": {},
   "outputs": [
    {
     "data": {
      "text/plain": [
       "DatasetDict({\n",
       "    train: Dataset({\n",
       "        features: ['label', '__index_level_0__', 'input_ids', 'token_type_ids', 'attention_mask'],\n",
       "        num_rows: 18044\n",
       "    })\n",
       "    test: Dataset({\n",
       "        features: ['label', '__index_level_0__', 'input_ids', 'token_type_ids', 'attention_mask'],\n",
       "        num_rows: 2256\n",
       "    })\n",
       "    eval: Dataset({\n",
       "        features: ['label', '__index_level_0__', 'input_ids', 'token_type_ids', 'attention_mask'],\n",
       "        num_rows: 2256\n",
       "    })\n",
       "})"
      ]
     },
     "execution_count": 36,
     "metadata": {},
     "output_type": "execute_result"
    }
   ],
   "source": [
    "ds_train_tokenized = ds_train_.remove_columns([\"cleaned\"])\n",
    "ds_eval_tokenized = ds_eval_.remove_columns([\"cleaned\"])\n",
    "ds_test_tokenized = ds_test_.remove_columns([\"cleaned\"])\n",
    "\n",
    "dataset_full = DatasetDict({\n",
    "    'train': ds_train_tokenized,\n",
    "    'test': ds_eval_tokenized,\n",
    "    'eval': ds_test_tokenized})\n",
    "\n",
    "dataset_full"
   ]
  },
  {
   "cell_type": "code",
   "execution_count": 38,
   "id": "97639203",
   "metadata": {},
   "outputs": [],
   "source": [
    "from transformers import DataCollatorWithPadding\n",
    "\n",
    "data_collator = DataCollatorWithPadding(tokenizer=tokenizer, return_tensors=\"tf\")"
   ]
  },
  {
   "cell_type": "code",
   "execution_count": 40,
   "id": "fa723891",
   "metadata": {},
   "outputs": [],
   "source": [
    "from transformers import create_optimizer\n",
    "\n",
    "batch_size = 1\n",
    "num_epochs = 5\n",
    "batches_per_epoch = len(dataset_full['train']) // batch_size\n",
    "total_train_steps = int(batches_per_epoch * num_epochs)\n",
    "optimizer, schedule = create_optimizer(init_lr=2e-5, num_warmup_steps=0, num_train_steps=total_train_steps)"
   ]
  },
  {
   "cell_type": "code",
   "execution_count": 41,
   "id": "7a904f54",
   "metadata": {},
   "outputs": [
    {
     "name": "stderr",
     "output_type": "stream",
     "text": [
      "You're using a BertTokenizerFast tokenizer. Please note that with a fast tokenizer, using the `__call__` method is faster than using a method to encode the text followed by a call to the `pad` method to get a padded encoding.\n"
     ]
    }
   ],
   "source": [
    "tf_train_set = model.prepare_tf_dataset(\n",
    "    dataset_full['train'],\n",
    "    shuffle=True,\n",
    "    batch_size=16,\n",
    "    collate_fn=data_collator,\n",
    ")\n",
    "\n",
    "tf_validation_set = model.prepare_tf_dataset(\n",
    "    dataset_full['eval'],\n",
    "    shuffle=False,\n",
    "    batch_size=16,\n",
    "    collate_fn=data_collator,\n",
    ")"
   ]
  },
  {
   "cell_type": "code",
   "execution_count": 43,
   "id": "c336bd8d",
   "metadata": {},
   "outputs": [],
   "source": [
    "model.compile(optimizer=optimizer)"
   ]
  },
  {
   "cell_type": "code",
   "execution_count": 45,
   "id": "1833d8ca",
   "metadata": {},
   "outputs": [],
   "source": [
    "def compute_metrics(eval_pred):\n",
    "    predictions, labels = eval_pred\n",
    "    predictions = np.argmax(predictions, axis=1)\n",
    "    return accuracy.compute(predictions=predictions, references=labels)"
   ]
  },
  {
   "cell_type": "code",
   "execution_count": 46,
   "id": "fbab4f18",
   "metadata": {},
   "outputs": [],
   "source": [
    "from transformers.keras_callbacks import KerasMetricCallback\n",
    "\n",
    "metric_callback = KerasMetricCallback(metric_fn=compute_metrics, eval_dataset=tf_validation_set)"
   ]
  },
  {
   "cell_type": "code",
   "execution_count": 48,
   "id": "9e4554b1",
   "metadata": {},
   "outputs": [],
   "source": [
    "# from transformers.keras_callbacks import PushToHubCallback\n",
    "\n",
    "# push_to_hub_callback = PushToHubCallback(\n",
    "#     output_dir=\"my_awesome_model\",\n",
    "#     tokenizer=tokenizer,\n",
    "# )"
   ]
  },
  {
   "cell_type": "code",
   "execution_count": 49,
   "id": "720897b0",
   "metadata": {},
   "outputs": [],
   "source": [
    "callbacks = [metric_callback]"
   ]
  },
  {
   "cell_type": "code",
   "execution_count": null,
   "id": "9ba6ce82",
   "metadata": {},
   "outputs": [
    {
     "name": "stdout",
     "output_type": "stream",
     "text": [
      "Epoch 1/3\n"
     ]
    }
   ],
   "source": [
    "trainer = model.fit(x=tf_train_set, validation_data=tf_validation_set, epochs=3, callbacks=callbacks)"
   ]
  },
  {
   "cell_type": "code",
   "execution_count": 42,
   "id": "268794f2",
   "metadata": {},
   "outputs": [],
   "source": [
    "# from tensorflow.keras.optimizers.legacy import Adam\n",
    "# from tensorflow.keras.callbacks import EarlyStopping\n",
    "# from tensorflow.keras.initializers import TruncatedNormal\n",
    "# from tensorflow.keras.losses import CategoricalCrossentropy\n",
    "# from tensorflow.keras.metrics import CategoricalAccuracy\n",
    "# from tensorflow.keras.utils import to_categorical\n",
    "# from tensorflow.keras.layers import Input, Dense\n",
    "\n",
    "# input_ids = Input(shape=(max_len,), dtype=tf.int32, name=\"input_ids\")\n",
    "# input_mask = Input(shape=(max_len,), dtype=tf.int32, name=\"attention_mask\")\n",
    "# # embeddings = dbert_model(input_ids, attention_mask = input_mask)[0]\n",
    "\n",
    "# embeddings = bert(input_ids, attention_mask = input_mask)[0] # 0 = last hidden state, 1 = poller_output\n",
    "# out = tf.keras.layers.GlobalMaxPool1D()(embeddings)\n",
    "# out = Dense(128, activation='relu')(out)\n",
    "# out = tf.keras.layers.Dropout(0.1)(out)\n",
    "# out = Dense(32, activation='relu')(out)\n",
    "\n",
    "# y = Dense(2)(out)\n",
    "\n",
    "# model = tf.keras.Model(inputs=[input_ids, input_mask], outputs=y)\n",
    "# model.layers[2].trainable = True\n",
    "\n",
    "# optimizer = Adam(\n",
    "#     learning_rate=5e-05, # HF recommendation\n",
    "#     epsilon=1e-08,\n",
    "#     decay=0.01,\n",
    "#     clipnorm=1.0\n",
    "# )\n",
    "\n",
    "# loss = CategoricalCrossentropy(from_logits=True)\n",
    "# metric = CategoricalAccuracy('balanced_accuracy')\n",
    "\n",
    "# model.compile(\n",
    "#     optimizer=optimizer,\n",
    "#     loss=loss,\n",
    "#     metrics=metric\n",
    "# )\n",
    "\n",
    "# history = model.fit(\n",
    "#     x = {'input_ids':X_train['input_ids'], 'attention_mask':X_train['attention_mask']},\n",
    "#     y = to_categorical(y_train),\n",
    "#     validation_data = ({'input_ids':X_test['input_ids'], 'attention_mask':X_test['attention_mask']},\n",
    "#                         to_categorical(y_test)),\n",
    "#     epochs=1,\n",
    "#     batch_size=32\n",
    "# )"
   ]
  },
  {
   "cell_type": "code",
   "execution_count": null,
   "id": "368850ea",
   "metadata": {},
   "outputs": [],
   "source": []
  }
 ],
 "metadata": {
  "kernelspec": {
   "display_name": "Python 3 (ipykernel)",
   "language": "python",
   "name": "python3"
  },
  "language_info": {
   "codemirror_mode": {
    "name": "ipython",
    "version": 3
   },
   "file_extension": ".py",
   "mimetype": "text/x-python",
   "name": "python",
   "nbconvert_exporter": "python",
   "pygments_lexer": "ipython3",
   "version": "3.9.17"
  }
 },
 "nbformat": 4,
 "nbformat_minor": 5
}
