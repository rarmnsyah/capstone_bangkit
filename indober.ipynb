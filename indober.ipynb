{
 "cells": [
  {
   "cell_type": "code",
   "execution_count": 85,
   "id": "ae7bd962",
   "metadata": {},
   "outputs": [],
   "source": [
    "import pandas as pd\n",
    "import numpy as np\n",
    "import tensorflow as tf\n",
    "import string\n",
    "import os\n",
    "import re\n",
    "import matplotlib.pyplot as plt\n",
    "import seaborn as sns\n",
    "\n",
    "from transformers import AutoTokenizer, TFBertModel, TFAutoModelForSequenceClassification\n",
    "from datasets import Dataset, concatenate_datasets, DatasetDict, load_metric\n",
    "from sklearn.metrics import ConfusionMatrixDisplay\n",
    "from sklearn.model_selection import train_test_split\n",
    "from imblearn.under_sampling import RandomUnderSampler\n",
    "from Sastrawi.Stemmer.StemmerFactory import StemmerFactory\n",
    "from Sastrawi.StopWordRemover.StopWordRemoverFactory import StopWordRemoverFactory\n",
    "from tensorflow.keras.optimizers import Adam\n",
    "from tensorflow.keras.callbacks import EarlyStopping\n",
    "from tensorflow.keras.initializers import TruncatedNormal\n",
    "from tensorflow.keras.losses import BinaryCrossentropy\n",
    "from tensorflow.keras.utils import to_categorical\n",
    "from tensorflow.keras.layers import Input, Dense\n",
    "\n"
   ]
  },
  {
   "cell_type": "code",
   "execution_count": 2,
   "id": "77f48af2",
   "metadata": {},
   "outputs": [
    {
     "data": {
      "text/plain": [
       "['dataset_cnn_summarized.xlsx',\n",
       " 'dataset_kompas_summarized.xlsx',\n",
       " 'dataset_tempo_summarized.xlsx',\n",
       " 'dataset_turnbackhoax_summarized.xlsx']"
      ]
     },
     "execution_count": 2,
     "metadata": {},
     "output_type": "execute_result"
    }
   ],
   "source": [
    "cwd = os.getcwd()\n",
    "datapath = os.path.join(cwd, 'dataset')\n",
    "addition_data_path = os.path.join(datapath, 'archive', 'Summarized')\n",
    "\n",
    "addition_data_ = os.listdir(addition_data_path)\n",
    "addition_data_"
   ]
  },
  {
   "cell_type": "code",
   "execution_count": 3,
   "id": "b0f2ceab",
   "metadata": {},
   "outputs": [
    {
     "data": {
      "text/html": [
       "<div>\n",
       "<style scoped>\n",
       "    .dataframe tbody tr th:only-of-type {\n",
       "        vertical-align: middle;\n",
       "    }\n",
       "\n",
       "    .dataframe tbody tr th {\n",
       "        vertical-align: top;\n",
       "    }\n",
       "\n",
       "    .dataframe thead th {\n",
       "        text-align: right;\n",
       "    }\n",
       "</style>\n",
       "<table border=\"1\" class=\"dataframe\">\n",
       "  <thead>\n",
       "    <tr style=\"text-align: right;\">\n",
       "      <th></th>\n",
       "      <th>index</th>\n",
       "      <th>title</th>\n",
       "      <th>raw timestamp</th>\n",
       "      <th>original</th>\n",
       "      <th>tags</th>\n",
       "      <th>author</th>\n",
       "      <th>url</th>\n",
       "      <th>cleaned</th>\n",
       "      <th>label</th>\n",
       "      <th>timestamp</th>\n",
       "      <th>cleaned token length</th>\n",
       "      <th>summarized</th>\n",
       "    </tr>\n",
       "  </thead>\n",
       "  <tbody>\n",
       "    <tr>\n",
       "      <th>0</th>\n",
       "      <td>0</td>\n",
       "      <td>Anies di Milad BKMT: Pengajian Menghasilkan Ib...</td>\n",
       "      <td>Selasa, 21 Feb 2023 21:22 WIB</td>\n",
       "      <td>Jakarta, CNN Indonesia -- Mantan Gubernur DKI ...</td>\n",
       "      <td>anies baswedan;pengajian;pilpres 2024;badan ko...</td>\n",
       "      <td>CNN Indonesia</td>\n",
       "      <td>https://www.cnnindonesia.com/nasional/20230221...</td>\n",
       "      <td>Anies di Milad BKMT: Pengajian Menghasilkan Ib...</td>\n",
       "      <td>0</td>\n",
       "      <td>2023-02-21 21:22:00</td>\n",
       "      <td>401</td>\n",
       "      <td>Mantan Gubernur DKI Jakarta Anies Baswedan men...</td>\n",
       "    </tr>\n",
       "    <tr>\n",
       "      <th>1</th>\n",
       "      <td>1</td>\n",
       "      <td>Edy Soal Pilgub Sumut: Kalau yang Maju Abal-ab...</td>\n",
       "      <td>Selasa, 21 Feb 2023 20:46 WIB</td>\n",
       "      <td>Medan, CNN Indonesia -- Gubernur Sumatera Utar...</td>\n",
       "      <td>edy rahmayadi;pemilu 2024;pilkada 2024</td>\n",
       "      <td>CNN Indonesia</td>\n",
       "      <td>https://www.cnnindonesia.com/nasional/20230221...</td>\n",
       "      <td>Edy Soal Pilgub Sumut: Kalau yang Maju Abal-ab...</td>\n",
       "      <td>0</td>\n",
       "      <td>2023-02-21 20:46:00</td>\n",
       "      <td>410</td>\n",
       "      <td>Gubernur Sumatera Utara Edy Rahmayadi membuka ...</td>\n",
       "    </tr>\n",
       "    <tr>\n",
       "      <th>2</th>\n",
       "      <td>2</td>\n",
       "      <td>PKB Bakal Daftarkan Menaker Ida Fauziyah Jadi ...</td>\n",
       "      <td>Selasa, 21 Feb 2023 20:33 WIB</td>\n",
       "      <td>Jakarta, CNN Indonesia -- Partai Kebangkitan B...</td>\n",
       "      <td>ida fauziyah;pkb;pemilu 2024;pileg 2024</td>\n",
       "      <td>CNN Indonesia</td>\n",
       "      <td>https://www.cnnindonesia.com/nasional/20230221...</td>\n",
       "      <td>PKB Bakal Daftarkan Menaker Ida Fauziyah Jadi ...</td>\n",
       "      <td>0</td>\n",
       "      <td>2023-02-21 20:33:00</td>\n",
       "      <td>285</td>\n",
       "      <td>PKB bakal mengusung Menteri Ketenagakerjaan Id...</td>\n",
       "    </tr>\n",
       "    <tr>\n",
       "      <th>3</th>\n",
       "      <td>3</td>\n",
       "      <td>Gede Pasek Doakan AHY Jadi Capres atau Cawapres</td>\n",
       "      <td>Selasa, 21 Feb 2023 19:58 WIB</td>\n",
       "      <td>Jakarta, CNN Indonesia -- Ketua Umum Partai Ke...</td>\n",
       "      <td>gede pasek suardika;ahy;pilpres 2024;pemilu 20...</td>\n",
       "      <td>CNN Indonesia</td>\n",
       "      <td>https://www.cnnindonesia.com/nasional/20230221...</td>\n",
       "      <td>Gede Pasek Doakan AHY Jadi Capres atau Cawapre...</td>\n",
       "      <td>0</td>\n",
       "      <td>2023-02-21 19:58:00</td>\n",
       "      <td>279</td>\n",
       "      <td>Ketua Umum Partai Kebangkitan Nusantara (PKN) ...</td>\n",
       "    </tr>\n",
       "    <tr>\n",
       "      <th>4</th>\n",
       "      <td>4</td>\n",
       "      <td>PKN Siapkan Jabatan Khusus Buat Anas Urbaningr...</td>\n",
       "      <td>Selasa, 21 Feb 2023 18:56 WIB</td>\n",
       "      <td>Jakarta, CNN Indonesia -- Dewan Pimpinan Pusat...</td>\n",
       "      <td>anas urbaningrum;pkn;pemilu 2024</td>\n",
       "      <td>CNN Indonesia</td>\n",
       "      <td>https://www.cnnindonesia.com/nasional/20230221...</td>\n",
       "      <td>PKN Siapkan Jabatan Khusus Buat Anas Urbaningr...</td>\n",
       "      <td>0</td>\n",
       "      <td>2023-02-21 18:56:00</td>\n",
       "      <td>305</td>\n",
       "      <td>Dewan Pimpinan Pusat PKN menyiapkan jabatan kh...</td>\n",
       "    </tr>\n",
       "  </tbody>\n",
       "</table>\n",
       "</div>"
      ],
      "text/plain": [
       "   index                                              title  \\\n",
       "0      0  Anies di Milad BKMT: Pengajian Menghasilkan Ib...   \n",
       "1      1  Edy Soal Pilgub Sumut: Kalau yang Maju Abal-ab...   \n",
       "2      2  PKB Bakal Daftarkan Menaker Ida Fauziyah Jadi ...   \n",
       "3      3    Gede Pasek Doakan AHY Jadi Capres atau Cawapres   \n",
       "4      4  PKN Siapkan Jabatan Khusus Buat Anas Urbaningr...   \n",
       "\n",
       "                   raw timestamp  \\\n",
       "0  Selasa, 21 Feb 2023 21:22 WIB   \n",
       "1  Selasa, 21 Feb 2023 20:46 WIB   \n",
       "2  Selasa, 21 Feb 2023 20:33 WIB   \n",
       "3  Selasa, 21 Feb 2023 19:58 WIB   \n",
       "4  Selasa, 21 Feb 2023 18:56 WIB   \n",
       "\n",
       "                                            original  \\\n",
       "0  Jakarta, CNN Indonesia -- Mantan Gubernur DKI ...   \n",
       "1  Medan, CNN Indonesia -- Gubernur Sumatera Utar...   \n",
       "2  Jakarta, CNN Indonesia -- Partai Kebangkitan B...   \n",
       "3  Jakarta, CNN Indonesia -- Ketua Umum Partai Ke...   \n",
       "4  Jakarta, CNN Indonesia -- Dewan Pimpinan Pusat...   \n",
       "\n",
       "                                                tags         author  \\\n",
       "0  anies baswedan;pengajian;pilpres 2024;badan ko...  CNN Indonesia   \n",
       "1             edy rahmayadi;pemilu 2024;pilkada 2024  CNN Indonesia   \n",
       "2            ida fauziyah;pkb;pemilu 2024;pileg 2024  CNN Indonesia   \n",
       "3  gede pasek suardika;ahy;pilpres 2024;pemilu 20...  CNN Indonesia   \n",
       "4                   anas urbaningrum;pkn;pemilu 2024  CNN Indonesia   \n",
       "\n",
       "                                                 url  \\\n",
       "0  https://www.cnnindonesia.com/nasional/20230221...   \n",
       "1  https://www.cnnindonesia.com/nasional/20230221...   \n",
       "2  https://www.cnnindonesia.com/nasional/20230221...   \n",
       "3  https://www.cnnindonesia.com/nasional/20230221...   \n",
       "4  https://www.cnnindonesia.com/nasional/20230221...   \n",
       "\n",
       "                                             cleaned  label  \\\n",
       "0  Anies di Milad BKMT: Pengajian Menghasilkan Ib...      0   \n",
       "1  Edy Soal Pilgub Sumut: Kalau yang Maju Abal-ab...      0   \n",
       "2  PKB Bakal Daftarkan Menaker Ida Fauziyah Jadi ...      0   \n",
       "3  Gede Pasek Doakan AHY Jadi Capres atau Cawapre...      0   \n",
       "4  PKN Siapkan Jabatan Khusus Buat Anas Urbaningr...      0   \n",
       "\n",
       "            timestamp  cleaned token length  \\\n",
       "0 2023-02-21 21:22:00                   401   \n",
       "1 2023-02-21 20:46:00                   410   \n",
       "2 2023-02-21 20:33:00                   285   \n",
       "3 2023-02-21 19:58:00                   279   \n",
       "4 2023-02-21 18:56:00                   305   \n",
       "\n",
       "                                          summarized  \n",
       "0  Mantan Gubernur DKI Jakarta Anies Baswedan men...  \n",
       "1  Gubernur Sumatera Utara Edy Rahmayadi membuka ...  \n",
       "2  PKB bakal mengusung Menteri Ketenagakerjaan Id...  \n",
       "3  Ketua Umum Partai Kebangkitan Nusantara (PKN) ...  \n",
       "4  Dewan Pimpinan Pusat PKN menyiapkan jabatan kh...  "
      ]
     },
     "execution_count": 3,
     "metadata": {},
     "output_type": "execute_result"
    }
   ],
   "source": [
    "addition_data = {\"_\".join(data.split('_')[0:2]) : pd.read_excel(os.path.join(addition_data_path, data)) for data in addition_data_}\n",
    "addition_data['dataset_cnn'].head()"
   ]
  },
  {
   "cell_type": "code",
   "execution_count": 4,
   "id": "875e3cce",
   "metadata": {},
   "outputs": [
    {
     "data": {
      "text/plain": [
       "dict_keys(['dataset_cnn', 'dataset_kompas', 'dataset_tempo', 'dataset_turnbackhoax'])"
      ]
     },
     "execution_count": 4,
     "metadata": {},
     "output_type": "execute_result"
    }
   ],
   "source": [
    "addition_data.keys()"
   ]
  },
  {
   "cell_type": "code",
   "execution_count": 5,
   "id": "e7909088",
   "metadata": {},
   "outputs": [
    {
     "name": "stdout",
     "output_type": "stream",
     "text": [
      "<class 'pandas.core.frame.DataFrame'>\n",
      "RangeIndex: 9630 entries, 0 to 9629\n",
      "Data columns (total 12 columns):\n",
      " #   Column                Non-Null Count  Dtype         \n",
      "---  ------                --------------  -----         \n",
      " 0   index                 9630 non-null   int64         \n",
      " 1   title                 9630 non-null   object        \n",
      " 2   raw timestamp         9630 non-null   object        \n",
      " 3   original              9630 non-null   object        \n",
      " 4   tags                  9627 non-null   object        \n",
      " 5   author                9630 non-null   object        \n",
      " 6   url                   9630 non-null   object        \n",
      " 7   cleaned               9630 non-null   object        \n",
      " 8   label                 9630 non-null   int64         \n",
      " 9   timestamp             9630 non-null   datetime64[ns]\n",
      " 10  cleaned token length  9630 non-null   int64         \n",
      " 11  summarized            9630 non-null   object        \n",
      "dtypes: datetime64[ns](1), int64(3), object(8)\n",
      "memory usage: 902.9+ KB\n"
     ]
    }
   ],
   "source": [
    "addition_data['dataset_cnn'].info()"
   ]
  },
  {
   "cell_type": "code",
   "execution_count": 6,
   "id": "e0884b28",
   "metadata": {},
   "outputs": [
    {
     "name": "stdout",
     "output_type": "stream",
     "text": [
      "<class 'pandas.core.frame.DataFrame'>\n",
      "RangeIndex: 4729 entries, 0 to 4728\n",
      "Data columns (total 12 columns):\n",
      " #   Column                Non-Null Count  Dtype         \n",
      "---  ------                --------------  -----         \n",
      " 0   index                 4729 non-null   int64         \n",
      " 1   title                 4729 non-null   object        \n",
      " 2   raw timestamp         4729 non-null   object        \n",
      " 3   original              4723 non-null   object        \n",
      " 4   tags                  4592 non-null   object        \n",
      " 5   author                4413 non-null   object        \n",
      " 6   url                   4729 non-null   object        \n",
      " 7   cleaned               4723 non-null   object        \n",
      " 8   label                 4729 non-null   int64         \n",
      " 9   timestamp             4729 non-null   datetime64[ns]\n",
      " 10  cleaned token length  4729 non-null   int64         \n",
      " 11  summarized            4547 non-null   object        \n",
      "dtypes: datetime64[ns](1), int64(3), object(8)\n",
      "memory usage: 443.5+ KB\n"
     ]
    }
   ],
   "source": [
    "addition_data['dataset_kompas'].info()"
   ]
  },
  {
   "cell_type": "code",
   "execution_count": 7,
   "id": "c5dd778c",
   "metadata": {},
   "outputs": [
    {
     "name": "stdout",
     "output_type": "stream",
     "text": [
      "<class 'pandas.core.frame.DataFrame'>\n",
      "RangeIndex: 6592 entries, 0 to 6591\n",
      "Data columns (total 12 columns):\n",
      " #   Column                Non-Null Count  Dtype         \n",
      "---  ------                --------------  -----         \n",
      " 0   index                 6592 non-null   int64         \n",
      " 1   title                 6592 non-null   object        \n",
      " 2   raw timestamp         6592 non-null   object        \n",
      " 3   original              6592 non-null   object        \n",
      " 4   tags                  6591 non-null   object        \n",
      " 5   author                6592 non-null   object        \n",
      " 6   url                   6592 non-null   object        \n",
      " 7   cleaned               6592 non-null   object        \n",
      " 8   label                 6592 non-null   int64         \n",
      " 9   timestamp             6592 non-null   datetime64[ns]\n",
      " 10  cleaned token length  6592 non-null   int64         \n",
      " 11  summarized            6592 non-null   object        \n",
      "dtypes: datetime64[ns](1), int64(3), object(8)\n",
      "memory usage: 618.1+ KB\n"
     ]
    }
   ],
   "source": [
    "addition_data['dataset_tempo'].info()"
   ]
  },
  {
   "cell_type": "code",
   "execution_count": 8,
   "id": "2dc9fb02",
   "metadata": {},
   "outputs": [
    {
     "name": "stdout",
     "output_type": "stream",
     "text": [
      "<class 'pandas.core.frame.DataFrame'>\n",
      "RangeIndex: 10381 entries, 0 to 10380\n",
      "Data columns (total 14 columns):\n",
      " #   Column                Non-Null Count  Dtype         \n",
      "---  ------                --------------  -----         \n",
      " 0   index                 10381 non-null  int64         \n",
      " 1   title                 10381 non-null  object        \n",
      " 2   raw timestamp         10381 non-null  object        \n",
      " 3   original              10381 non-null  object        \n",
      " 4   tags                  10381 non-null  object        \n",
      " 5   author                10381 non-null  object        \n",
      " 6   url                   10381 non-null  object        \n",
      " 7   politik               10381 non-null  int64         \n",
      " 8   raw narasi            10381 non-null  object        \n",
      " 9   cleaned               6502 non-null   object        \n",
      " 10  label                 10381 non-null  int64         \n",
      " 11  timestamp             10381 non-null  datetime64[ns]\n",
      " 12  cleaned token length  10381 non-null  int64         \n",
      " 13  summarized            6166 non-null   object        \n",
      "dtypes: datetime64[ns](1), int64(4), object(9)\n",
      "memory usage: 1.1+ MB\n"
     ]
    }
   ],
   "source": [
    "addition_data['dataset_turnbackhoax'].info()"
   ]
  },
  {
   "cell_type": "code",
   "execution_count": 9,
   "id": "ce44f556",
   "metadata": {},
   "outputs": [],
   "source": [
    "def space_to_punct(text):\n",
    "    for punct in string.punctuation:\n",
    "        text = text.replace(punct, f' {punct} ')\n",
    "        \n",
    "    text = re.sub(' +', ' ', text)\n",
    "    return text"
   ]
  },
  {
   "cell_type": "code",
   "execution_count": 10,
   "id": "6ef29387",
   "metadata": {},
   "outputs": [],
   "source": [
    "for data in addition_data:\n",
    "    addition_data[data]['cleaned'] = addition_data[data]['cleaned'][addition_data[data]['cleaned'].isna() == False]\n",
    "    addition_data[data]['cleaned'] = addition_data[data]['cleaned'].astype('str')\n",
    "    addition_data[data]['cleaned'] = addition_data[data]['cleaned'].map(lambda x: space_to_punct(x))"
   ]
  },
  {
   "cell_type": "code",
   "execution_count": 11,
   "id": "3a06e5ee",
   "metadata": {},
   "outputs": [
    {
     "name": "stdout",
     "output_type": "stream",
     "text": [
      "<class 'pandas.core.frame.DataFrame'>\n",
      "RangeIndex: 6592 entries, 0 to 6591\n",
      "Data columns (total 12 columns):\n",
      " #   Column                Non-Null Count  Dtype         \n",
      "---  ------                --------------  -----         \n",
      " 0   index                 6592 non-null   int64         \n",
      " 1   title                 6592 non-null   object        \n",
      " 2   raw timestamp         6592 non-null   object        \n",
      " 3   original              6592 non-null   object        \n",
      " 4   tags                  6591 non-null   object        \n",
      " 5   author                6592 non-null   object        \n",
      " 6   url                   6592 non-null   object        \n",
      " 7   cleaned               6592 non-null   object        \n",
      " 8   label                 6592 non-null   int64         \n",
      " 9   timestamp             6592 non-null   datetime64[ns]\n",
      " 10  cleaned token length  6592 non-null   int64         \n",
      " 11  summarized            6592 non-null   object        \n",
      "dtypes: datetime64[ns](1), int64(3), object(8)\n",
      "memory usage: 618.1+ KB\n"
     ]
    }
   ],
   "source": [
    "addition_data['dataset_tempo'].info()"
   ]
  },
  {
   "cell_type": "code",
   "execution_count": 12,
   "id": "d2a800a0",
   "metadata": {},
   "outputs": [
    {
     "name": "stdout",
     "output_type": "stream",
     "text": [
      "label\n",
      "0    9630\n",
      "Name: count, dtype: int64\n",
      "label\n",
      "0    4729\n",
      "Name: count, dtype: int64\n",
      "label\n",
      "0    6592\n",
      "Name: count, dtype: int64\n",
      "label\n",
      "1    10381\n",
      "Name: count, dtype: int64\n"
     ]
    }
   ],
   "source": [
    "for data in addition_data:\n",
    "    print(addition_data[data]['label'].value_counts())"
   ]
  },
  {
   "cell_type": "code",
   "execution_count": 13,
   "id": "619e2b9e",
   "metadata": {},
   "outputs": [],
   "source": [
    "df_cnn = addition_data['dataset_cnn'][['cleaned', 'label']]\n",
    "df_tempo = addition_data['dataset_tempo'][['cleaned', 'label']]\n",
    "df_kompas = addition_data['dataset_kompas'][['cleaned', 'label']]\n",
    "df_turnbackhoax = addition_data['dataset_turnbackhoax'][['cleaned', 'label']]\n"
   ]
  },
  {
   "cell_type": "code",
   "execution_count": 14,
   "id": "d7258066",
   "metadata": {},
   "outputs": [
    {
     "data": {
      "text/html": [
       "<div>\n",
       "<style scoped>\n",
       "    .dataframe tbody tr th:only-of-type {\n",
       "        vertical-align: middle;\n",
       "    }\n",
       "\n",
       "    .dataframe tbody tr th {\n",
       "        vertical-align: top;\n",
       "    }\n",
       "\n",
       "    .dataframe thead th {\n",
       "        text-align: right;\n",
       "    }\n",
       "</style>\n",
       "<table border=\"1\" class=\"dataframe\">\n",
       "  <thead>\n",
       "    <tr style=\"text-align: right;\">\n",
       "      <th></th>\n",
       "      <th>cleaned</th>\n",
       "      <th>label</th>\n",
       "    </tr>\n",
       "  </thead>\n",
       "  <tbody>\n",
       "    <tr>\n",
       "      <th>0</th>\n",
       "      <td>Anies di Milad BKMT : Pengajian Menghasilkan I...</td>\n",
       "      <td>0</td>\n",
       "    </tr>\n",
       "    <tr>\n",
       "      <th>1</th>\n",
       "      <td>Edy Soal Pilgub Sumut : Kalau yang Maju Abal -...</td>\n",
       "      <td>0</td>\n",
       "    </tr>\n",
       "    <tr>\n",
       "      <th>2</th>\n",
       "      <td>PKB Bakal Daftarkan Menaker Ida Fauziyah Jadi ...</td>\n",
       "      <td>0</td>\n",
       "    </tr>\n",
       "    <tr>\n",
       "      <th>3</th>\n",
       "      <td>Gede Pasek Doakan AHY Jadi Capres atau Cawapre...</td>\n",
       "      <td>0</td>\n",
       "    </tr>\n",
       "    <tr>\n",
       "      <th>4</th>\n",
       "      <td>PKN Siapkan Jabatan Khusus Buat Anas Urbaningr...</td>\n",
       "      <td>0</td>\n",
       "    </tr>\n",
       "    <tr>\n",
       "      <th>...</th>\n",
       "      <td>...</td>\n",
       "      <td>...</td>\n",
       "    </tr>\n",
       "    <tr>\n",
       "      <th>31327</th>\n",
       "      <td>Raja Salman dari arab saudi membawa orang - or...</td>\n",
       "      <td>1</td>\n",
       "    </tr>\n",
       "    <tr>\n",
       "      <th>31328</th>\n",
       "      <td>hehe , selalu bisa tersenyum melihat tingkah l...</td>\n",
       "      <td>1</td>\n",
       "    </tr>\n",
       "    <tr>\n",
       "      <th>31329</th>\n",
       "      <td>Pak Jokowi itu menjadi walikota periode pertam...</td>\n",
       "      <td>1</td>\n",
       "    </tr>\n",
       "    <tr>\n",
       "      <th>31330</th>\n",
       "      <td>Hari ini , Rabu ( 23 / 09 / 2015 ) , nilai tuk...</td>\n",
       "      <td>1</td>\n",
       "    </tr>\n",
       "    <tr>\n",
       "      <th>31331</th>\n",
       "      <td>MARI KITA TOLAK . 25 desember acara pastur di ...</td>\n",
       "      <td>1</td>\n",
       "    </tr>\n",
       "  </tbody>\n",
       "</table>\n",
       "<p>31332 rows × 2 columns</p>\n",
       "</div>"
      ],
      "text/plain": [
       "                                                 cleaned  label\n",
       "0      Anies di Milad BKMT : Pengajian Menghasilkan I...      0\n",
       "1      Edy Soal Pilgub Sumut : Kalau yang Maju Abal -...      0\n",
       "2      PKB Bakal Daftarkan Menaker Ida Fauziyah Jadi ...      0\n",
       "3      Gede Pasek Doakan AHY Jadi Capres atau Cawapre...      0\n",
       "4      PKN Siapkan Jabatan Khusus Buat Anas Urbaningr...      0\n",
       "...                                                  ...    ...\n",
       "31327  Raja Salman dari arab saudi membawa orang - or...      1\n",
       "31328  hehe , selalu bisa tersenyum melihat tingkah l...      1\n",
       "31329  Pak Jokowi itu menjadi walikota periode pertam...      1\n",
       "31330  Hari ini , Rabu ( 23 / 09 / 2015 ) , nilai tuk...      1\n",
       "31331  MARI KITA TOLAK . 25 desember acara pastur di ...      1\n",
       "\n",
       "[31332 rows x 2 columns]"
      ]
     },
     "execution_count": 14,
     "metadata": {},
     "output_type": "execute_result"
    }
   ],
   "source": [
    "df = pd.concat([df_cnn, df_tempo, df_kompas, df_turnbackhoax], ignore_index=True)\n",
    "df"
   ]
  },
  {
   "cell_type": "code",
   "execution_count": 16,
   "id": "29034a5d",
   "metadata": {},
   "outputs": [
    {
     "data": {
      "text/plain": [
       "<Axes: xlabel='label'>"
      ]
     },
     "execution_count": 16,
     "metadata": {},
     "output_type": "execute_result"
    },
    {
     "data": {
      "image/png": "[encoded data removed]",
      "text/plain": [
       "<Figure size 640x480 with 1 Axes>"
      ]
     },
     "metadata": {},
     "output_type": "display_data"
    }
   ],
   "source": [
    "df['label'].value_counts().plot(kind='bar')"
   ]
  },
  {
   "cell_type": "code",
   "execution_count": 17,
   "id": "480c363b",
   "metadata": {},
   "outputs": [
    {
     "data": {
      "text/html": [
       "<div>\n",
       "<style scoped>\n",
       "    .dataframe tbody tr th:only-of-type {\n",
       "        vertical-align: middle;\n",
       "    }\n",
       "\n",
       "    .dataframe tbody tr th {\n",
       "        vertical-align: top;\n",
       "    }\n",
       "\n",
       "    .dataframe thead th {\n",
       "        text-align: right;\n",
       "    }\n",
       "</style>\n",
       "<table border=\"1\" class=\"dataframe\">\n",
       "  <thead>\n",
       "    <tr style=\"text-align: right;\">\n",
       "      <th></th>\n",
       "      <th>cleaned</th>\n",
       "      <th>label</th>\n",
       "    </tr>\n",
       "  </thead>\n",
       "  <tbody>\n",
       "    <tr>\n",
       "      <th>0</th>\n",
       "      <td>gunung agung erupsi pertama kali november letu...</td>\n",
       "      <td>0</td>\n",
       "    </tr>\n",
       "    <tr>\n",
       "      <th>1</th>\n",
       "      <td>jakarta cnn indonesia menteri bumn erick thohi...</td>\n",
       "      <td>0</td>\n",
       "    </tr>\n",
       "    <tr>\n",
       "      <th>2</th>\n",
       "      <td>dosen fakultas dokter hewan ipb yusuf ridwan n...</td>\n",
       "      <td>0</td>\n",
       "    </tr>\n",
       "    <tr>\n",
       "      <th>3</th>\n",
       "      <td>jakarta anggota tni serda n serda da tusuk ora...</td>\n",
       "      <td>0</td>\n",
       "    </tr>\n",
       "    <tr>\n",
       "      <th>4</th>\n",
       "      <td>aku tembak jatuh pesawat ukraina iran tuai gel...</td>\n",
       "      <td>0</td>\n",
       "    </tr>\n",
       "    <tr>\n",
       "      <th>...</th>\n",
       "      <td>...</td>\n",
       "      <td>...</td>\n",
       "    </tr>\n",
       "    <tr>\n",
       "      <th>2193</th>\n",
       "      <td>hoaxvaksin kanker serviks anakanak sd menopaus...</td>\n",
       "      <td>0</td>\n",
       "    </tr>\n",
       "    <tr>\n",
       "      <th>2194</th>\n",
       "      <td>buah akun twitter nama akun gerilyapolitik mem...</td>\n",
       "      <td>0</td>\n",
       "    </tr>\n",
       "    <tr>\n",
       "      <th>2195</th>\n",
       "      <td>buah akun facebookmemposting video dia sebut b...</td>\n",
       "      <td>0</td>\n",
       "    </tr>\n",
       "    <tr>\n",
       "      <th>2196</th>\n",
       "      <td>buah akun facebook memposting status klaim web...</td>\n",
       "      <td>0</td>\n",
       "    </tr>\n",
       "    <tr>\n",
       "      <th>2197</th>\n",
       "      <td>muncul postingan hoax instagram twitter upa fo...</td>\n",
       "      <td>0</td>\n",
       "    </tr>\n",
       "  </tbody>\n",
       "</table>\n",
       "<p>2198 rows × 2 columns</p>\n",
       "</div>"
      ],
      "text/plain": [
       "                                                cleaned  label\n",
       "0     gunung agung erupsi pertama kali november letu...      0\n",
       "1     jakarta cnn indonesia menteri bumn erick thohi...      0\n",
       "2     dosen fakultas dokter hewan ipb yusuf ridwan n...      0\n",
       "3     jakarta anggota tni serda n serda da tusuk ora...      0\n",
       "4     aku tembak jatuh pesawat ukraina iran tuai gel...      0\n",
       "...                                                 ...    ...\n",
       "2193  hoaxvaksin kanker serviks anakanak sd menopaus...      0\n",
       "2194  buah akun twitter nama akun gerilyapolitik mem...      0\n",
       "2195  buah akun facebookmemposting video dia sebut b...      0\n",
       "2196  buah akun facebook memposting status klaim web...      0\n",
       "2197  muncul postingan hoax instagram twitter upa fo...      0\n",
       "\n",
       "[2198 rows x 2 columns]"
      ]
     },
     "execution_count": 17,
     "metadata": {},
     "output_type": "execute_result"
    }
   ],
   "source": [
    "old_df = pd.read_csv(os.path.join(datapath, 'df_processed.csv'))[['berita', 'label']]\n",
    "old_df.berita = old_df.berita.apply(lambda x : \" \".join(eval(x)))\n",
    "old_df.rename(columns = {\n",
    "    'berita' : 'cleaned'\n",
    "}, inplace = True)\n",
    "old_df"
   ]
  },
  {
   "cell_type": "code",
   "execution_count": 18,
   "id": "b64f364d",
   "metadata": {},
   "outputs": [
    {
     "data": {
      "text/html": [
       "<div>\n",
       "<style scoped>\n",
       "    .dataframe tbody tr th:only-of-type {\n",
       "        vertical-align: middle;\n",
       "    }\n",
       "\n",
       "    .dataframe tbody tr th {\n",
       "        vertical-align: top;\n",
       "    }\n",
       "\n",
       "    .dataframe thead th {\n",
       "        text-align: right;\n",
       "    }\n",
       "</style>\n",
       "<table border=\"1\" class=\"dataframe\">\n",
       "  <thead>\n",
       "    <tr style=\"text-align: right;\">\n",
       "      <th></th>\n",
       "      <th>cleaned</th>\n",
       "      <th>label</th>\n",
       "    </tr>\n",
       "  </thead>\n",
       "  <tbody>\n",
       "    <tr>\n",
       "      <th>0</th>\n",
       "      <td>Anies di Milad BKMT : Pengajian Menghasilkan I...</td>\n",
       "      <td>0</td>\n",
       "    </tr>\n",
       "    <tr>\n",
       "      <th>1</th>\n",
       "      <td>Edy Soal Pilgub Sumut : Kalau yang Maju Abal -...</td>\n",
       "      <td>0</td>\n",
       "    </tr>\n",
       "    <tr>\n",
       "      <th>2</th>\n",
       "      <td>PKB Bakal Daftarkan Menaker Ida Fauziyah Jadi ...</td>\n",
       "      <td>0</td>\n",
       "    </tr>\n",
       "    <tr>\n",
       "      <th>3</th>\n",
       "      <td>Gede Pasek Doakan AHY Jadi Capres atau Cawapre...</td>\n",
       "      <td>0</td>\n",
       "    </tr>\n",
       "    <tr>\n",
       "      <th>4</th>\n",
       "      <td>PKN Siapkan Jabatan Khusus Buat Anas Urbaningr...</td>\n",
       "      <td>0</td>\n",
       "    </tr>\n",
       "    <tr>\n",
       "      <th>...</th>\n",
       "      <td>...</td>\n",
       "      <td>...</td>\n",
       "    </tr>\n",
       "    <tr>\n",
       "      <th>33525</th>\n",
       "      <td>hoaxvaksin kanker serviks anakanak sd menopaus...</td>\n",
       "      <td>0</td>\n",
       "    </tr>\n",
       "    <tr>\n",
       "      <th>33526</th>\n",
       "      <td>buah akun twitter nama akun gerilyapolitik mem...</td>\n",
       "      <td>0</td>\n",
       "    </tr>\n",
       "    <tr>\n",
       "      <th>33527</th>\n",
       "      <td>buah akun facebookmemposting video dia sebut b...</td>\n",
       "      <td>0</td>\n",
       "    </tr>\n",
       "    <tr>\n",
       "      <th>33528</th>\n",
       "      <td>buah akun facebook memposting status klaim web...</td>\n",
       "      <td>0</td>\n",
       "    </tr>\n",
       "    <tr>\n",
       "      <th>33529</th>\n",
       "      <td>muncul postingan hoax instagram twitter upa fo...</td>\n",
       "      <td>0</td>\n",
       "    </tr>\n",
       "  </tbody>\n",
       "</table>\n",
       "<p>33530 rows × 2 columns</p>\n",
       "</div>"
      ],
      "text/plain": [
       "                                                 cleaned  label\n",
       "0      Anies di Milad BKMT : Pengajian Menghasilkan I...      0\n",
       "1      Edy Soal Pilgub Sumut : Kalau yang Maju Abal -...      0\n",
       "2      PKB Bakal Daftarkan Menaker Ida Fauziyah Jadi ...      0\n",
       "3      Gede Pasek Doakan AHY Jadi Capres atau Cawapre...      0\n",
       "4      PKN Siapkan Jabatan Khusus Buat Anas Urbaningr...      0\n",
       "...                                                  ...    ...\n",
       "33525  hoaxvaksin kanker serviks anakanak sd menopaus...      0\n",
       "33526  buah akun twitter nama akun gerilyapolitik mem...      0\n",
       "33527  buah akun facebookmemposting video dia sebut b...      0\n",
       "33528  buah akun facebook memposting status klaim web...      0\n",
       "33529  muncul postingan hoax instagram twitter upa fo...      0\n",
       "\n",
       "[33530 rows x 2 columns]"
      ]
     },
     "execution_count": 18,
     "metadata": {},
     "output_type": "execute_result"
    }
   ],
   "source": [
    "df = pd.concat([df, old_df], ignore_index = True)\n",
    "df"
   ]
  },
  {
   "cell_type": "code",
   "execution_count": 15,
   "id": "04a26da3",
   "metadata": {},
   "outputs": [
    {
     "data": {
      "text/plain": [
       "cleaned\n",
       "False    31332\n",
       "Name: count, dtype: int64"
      ]
     },
     "execution_count": 15,
     "metadata": {},
     "output_type": "execute_result"
    }
   ],
   "source": [
    "df.cleaned.isnull().value_counts()"
   ]
  },
  {
   "cell_type": "code",
   "execution_count": 20,
   "id": "04c5cf1c",
   "metadata": {
    "scrolled": true
   },
   "outputs": [
    {
     "data": {
      "text/html": [
       "<div>\n",
       "<style scoped>\n",
       "    .dataframe tbody tr th:only-of-type {\n",
       "        vertical-align: middle;\n",
       "    }\n",
       "\n",
       "    .dataframe tbody tr th {\n",
       "        vertical-align: top;\n",
       "    }\n",
       "\n",
       "    .dataframe thead th {\n",
       "        text-align: right;\n",
       "    }\n",
       "</style>\n",
       "<table border=\"1\" class=\"dataframe\">\n",
       "  <thead>\n",
       "    <tr style=\"text-align: right;\">\n",
       "      <th></th>\n",
       "      <th>cleaned</th>\n",
       "      <th>label</th>\n",
       "    </tr>\n",
       "  </thead>\n",
       "  <tbody>\n",
       "  </tbody>\n",
       "</table>\n",
       "</div>"
      ],
      "text/plain": [
       "Empty DataFrame\n",
       "Columns: [cleaned, label]\n",
       "Index: []"
      ]
     },
     "execution_count": 20,
     "metadata": {},
     "output_type": "execute_result"
    }
   ],
   "source": [
    "df.drop_duplicates(inplace = True)\n",
    "df[df.duplicated()]"
   ]
  },
  {
   "cell_type": "code",
   "execution_count": 21,
   "id": "f1a0634d",
   "metadata": {},
   "outputs": [
    {
     "data": {
      "text/plain": [
       "('anies milad bkmt aji hasil ibu ibu tahu mantan gubernur dki jakarta anies baswedan hadir acara tasyakur milad tahun badan kontak majelis taklim bkmt istora senayan jakarta selasa pun puji eksistensi ibu ibu aji wujud hasil didik keluarga kata lama tahun usia bkmt jadi teladan hasil didik keluarga bkmt kata jadi bukti aji hasil ibu ibu lebih tahu bkmt jadi bukti aji hasil ibu ibu lebih tahu ibu ibu punya bekal didik anak anak buat rumah cermin nilai islam akhlak baik kata anies kutip unggah akun media sosial instagram milik unggah anies singgung soal bkmt tidak lepas sosok tuty alawiyah turut anies tuty bukan orang ustazah mampu pimpin ratus majelis taklim hingga jadi bkmt jangkau seluruh indonesia juga orang ibu hebat didik anak anak kami kenal prof dailami firdaus para saudara rupa pribadi pribadi hasil bidang tak juga guyub saling support tulis anies foto momen diri milad bkmt istora senayan itu tampak hadir jumlah tokoh politik jabat negara beberapa antara lihat foto unggah instagram anies ketua umum partai demokrat agus harimurti yudhoyono ahy tum pan juga menteri dagang zulkifli hasan wakil ketua dewan bina gerindra juga menteri pariwisata ekonomi kreatif sandiaga uno hingga menteri bumn erick thohir alhamdulillah sama sama hadir dalam tasyakur milad badan kontak majelis taklim bkmt istora senayan tulis anies yoa kid',\n",
       " 'Anies di Milad BKMT : Pengajian Menghasilkan Ibu - ibu Berpengetahuan Mantan Gubernur DKI Jakarta Anies Baswedan menghadiri acara tasyakuran Milad ke - 42 tahun Badan Kontak Majelis Taklim ( BKMT ) di Istora Senayan , Jakarta , Selasa ( 21 / 2 ) . Dia pun memuji eksistensi ibu - ibu pengajian mewujudkan keberhasilan pendidikan di dalam keluarga . Ia mengatakan selama 42 tahun usianya , BKMT telah menjadi teladan keberhasilan pendidikan dalam keluarga . \\xa0BKMT , kata dia , menjadi bukti bahwa pengajian menghasilkan ibu - ibu yang lebih berpengetahuan . \" BKMT menjadi bukti bahwa pengajian menghasilkan ibu - ibu yang lebih berpengetahuan . Ibu - ibu yang punya bekal untuk mendidik anak - anaknya , membuat rumah yang mencerminkan nilai Islam dan akhlak yang baik , \" kata Anies\\xa0dikutip dari unggahan\\xa0akun\\xa0media sosial Instagram miliknya . Dalam unggahannya , Anies menyinggung soal BKMT yang tidak dapat dilepaskan dari sosok Tuty Alawiyah . Menurut Anies , Tuty bukan hanya seorang ustazah yang mampu memimpin ratusan Majelis Taklim hingga menjadi BKMT yang jangkauannya seluruh Indonesia , namun juga seorang ibu yang hebat dalam mendidik anak - anaknya . \" Karena kami mengenal Prof Dailami Firdaus dan para saudaranya merupakan pribadi - pribadi yang berhasil di bidangnya , tak hanya itu mereka juga amat guyub serta saling support , \" tulis Anies . Dari 10 foto momen dirinya dalam\\xa0Milad\\xa0BKMT\\xa0di Istora\\xa0Senayan itu tampak pula hadir sejumlah tokoh politik dan pejabat negara . Beberapa di antaranya yang terlihat di foto dalam unggahan\\xa0instagram\\xa0Anies adalah Ketua Umum Partai Demokrat Agus Harimurti Yudhoyono\\xa0 ( AHY ) , Ketum PAN yang juga Menteri Perdagangan Zulkifli Hasan , Wakil Ketua Dewan Pembina Gerindra\\xa0yang juga Menteri Pariwisata dan Ekonomi Kreatif Sandiaga Uno , hingga Menteri BUMN Erick Thohir . \" Alhamdulillah , dapat bersama - sama hadir dalam Tasyakur Milad ke - 42 Badan Kontak Majelis Taklim ( BKMT ) di Istora Senayan , \" tulis Anies . ( yoa / kid ) ')"
      ]
     },
     "execution_count": 21,
     "metadata": {},
     "output_type": "execute_result"
    }
   ],
   "source": [
    "stop_factory = StopWordRemoverFactory()\n",
    "more_stopword = ['dengan', 'ia','bahwa','oleh']\n",
    "data = stop_factory.get_stop_words()+more_stopword\n",
    "stopword = stop_factory.create_stop_word_remover()\n",
    "\n",
    "Fact = StemmerFactory()\n",
    "stemmer = Fact.create_stemmer()\n",
    "\n",
    "def pipeline(text):\n",
    "    text = re.sub(r'http\\S+', '', text.lower())\n",
    "    text = re.sub(r'\\d+', '', text)\n",
    "    text = text.translate(str.maketrans(\"\",\"\",string.punctuation))\n",
    "#     text = tokenizer(text)\n",
    "    text = stemmer.stem(text)\n",
    "    text = stopword.remove(text)\n",
    "    return text\n",
    "\n",
    "pipeline(df.cleaned[0]), df.cleaned[0]"
   ]
  },
  {
   "cell_type": "code",
   "execution_count": 17,
   "id": "1f5f8f32",
   "metadata": {},
   "outputs": [
    {
     "data": {
      "text/html": [
       "<div>\n",
       "<style scoped>\n",
       "    .dataframe tbody tr th:only-of-type {\n",
       "        vertical-align: middle;\n",
       "    }\n",
       "\n",
       "    .dataframe tbody tr th {\n",
       "        vertical-align: top;\n",
       "    }\n",
       "\n",
       "    .dataframe thead th {\n",
       "        text-align: right;\n",
       "    }\n",
       "</style>\n",
       "<table border=\"1\" class=\"dataframe\">\n",
       "  <thead>\n",
       "    <tr style=\"text-align: right;\">\n",
       "      <th></th>\n",
       "      <th>cleaned</th>\n",
       "      <th>label</th>\n",
       "    </tr>\n",
       "  </thead>\n",
       "  <tbody>\n",
       "    <tr>\n",
       "      <th>0</th>\n",
       "      <td>Anies di Milad BKMT : Pengajian Menghasilkan I...</td>\n",
       "      <td>0</td>\n",
       "    </tr>\n",
       "    <tr>\n",
       "      <th>1</th>\n",
       "      <td>Edy Soal Pilgub Sumut : Kalau yang Maju Abal -...</td>\n",
       "      <td>0</td>\n",
       "    </tr>\n",
       "    <tr>\n",
       "      <th>2</th>\n",
       "      <td>PKB Bakal Daftarkan Menaker Ida Fauziyah Jadi ...</td>\n",
       "      <td>0</td>\n",
       "    </tr>\n",
       "    <tr>\n",
       "      <th>3</th>\n",
       "      <td>Gede Pasek Doakan AHY Jadi Capres atau Cawapre...</td>\n",
       "      <td>0</td>\n",
       "    </tr>\n",
       "    <tr>\n",
       "      <th>4</th>\n",
       "      <td>PKN Siapkan Jabatan Khusus Buat Anas Urbaningr...</td>\n",
       "      <td>0</td>\n",
       "    </tr>\n",
       "    <tr>\n",
       "      <th>...</th>\n",
       "      <td>...</td>\n",
       "      <td>...</td>\n",
       "    </tr>\n",
       "    <tr>\n",
       "      <th>31327</th>\n",
       "      <td>Raja Salman dari arab saudi membawa orang - or...</td>\n",
       "      <td>1</td>\n",
       "    </tr>\n",
       "    <tr>\n",
       "      <th>31328</th>\n",
       "      <td>hehe , selalu bisa tersenyum melihat tingkah l...</td>\n",
       "      <td>1</td>\n",
       "    </tr>\n",
       "    <tr>\n",
       "      <th>31329</th>\n",
       "      <td>Pak Jokowi itu menjadi walikota periode pertam...</td>\n",
       "      <td>1</td>\n",
       "    </tr>\n",
       "    <tr>\n",
       "      <th>31330</th>\n",
       "      <td>Hari ini , Rabu ( 23 / 09 / 2015 ) , nilai tuk...</td>\n",
       "      <td>1</td>\n",
       "    </tr>\n",
       "    <tr>\n",
       "      <th>31331</th>\n",
       "      <td>MARI KITA TOLAK . 25 desember acara pastur di ...</td>\n",
       "      <td>1</td>\n",
       "    </tr>\n",
       "  </tbody>\n",
       "</table>\n",
       "<p>31332 rows × 2 columns</p>\n",
       "</div>"
      ],
      "text/plain": [
       "                                                 cleaned  label\n",
       "0      Anies di Milad BKMT : Pengajian Menghasilkan I...      0\n",
       "1      Edy Soal Pilgub Sumut : Kalau yang Maju Abal -...      0\n",
       "2      PKB Bakal Daftarkan Menaker Ida Fauziyah Jadi ...      0\n",
       "3      Gede Pasek Doakan AHY Jadi Capres atau Cawapre...      0\n",
       "4      PKN Siapkan Jabatan Khusus Buat Anas Urbaningr...      0\n",
       "...                                                  ...    ...\n",
       "31327  Raja Salman dari arab saudi membawa orang - or...      1\n",
       "31328  hehe , selalu bisa tersenyum melihat tingkah l...      1\n",
       "31329  Pak Jokowi itu menjadi walikota periode pertam...      1\n",
       "31330  Hari ini , Rabu ( 23 / 09 / 2015 ) , nilai tuk...      1\n",
       "31331  MARI KITA TOLAK . 25 desember acara pastur di ...      1\n",
       "\n",
       "[31332 rows x 2 columns]"
      ]
     },
     "execution_count": 17,
     "metadata": {},
     "output_type": "execute_result"
    }
   ],
   "source": [
    "df"
   ]
  },
  {
   "cell_type": "code",
   "execution_count": 24,
   "id": "330ad39e",
   "metadata": {},
   "outputs": [
    {
     "data": {
      "text/html": [
       "<div>\n",
       "<style scoped>\n",
       "    .dataframe tbody tr th:only-of-type {\n",
       "        vertical-align: middle;\n",
       "    }\n",
       "\n",
       "    .dataframe tbody tr th {\n",
       "        vertical-align: top;\n",
       "    }\n",
       "\n",
       "    .dataframe thead th {\n",
       "        text-align: right;\n",
       "    }\n",
       "</style>\n",
       "<table border=\"1\" class=\"dataframe\">\n",
       "  <thead>\n",
       "    <tr style=\"text-align: right;\">\n",
       "      <th></th>\n",
       "      <th>cleaned</th>\n",
       "      <th>label</th>\n",
       "    </tr>\n",
       "  </thead>\n",
       "  <tbody>\n",
       "    <tr>\n",
       "      <th>0</th>\n",
       "      <td>Anies di Milad BKMT : Pengajian Menghasilkan I...</td>\n",
       "      <td>0</td>\n",
       "    </tr>\n",
       "    <tr>\n",
       "      <th>1</th>\n",
       "      <td>Edy Soal Pilgub Sumut : Kalau yang Maju Abal -...</td>\n",
       "      <td>0</td>\n",
       "    </tr>\n",
       "    <tr>\n",
       "      <th>2</th>\n",
       "      <td>PKB Bakal Daftarkan Menaker Ida Fauziyah Jadi ...</td>\n",
       "      <td>0</td>\n",
       "    </tr>\n",
       "    <tr>\n",
       "      <th>3</th>\n",
       "      <td>Gede Pasek Doakan AHY Jadi Capres atau Cawapre...</td>\n",
       "      <td>0</td>\n",
       "    </tr>\n",
       "    <tr>\n",
       "      <th>4</th>\n",
       "      <td>PKN Siapkan Jabatan Khusus Buat Anas Urbaningr...</td>\n",
       "      <td>0</td>\n",
       "    </tr>\n",
       "    <tr>\n",
       "      <th>...</th>\n",
       "      <td>...</td>\n",
       "      <td>...</td>\n",
       "    </tr>\n",
       "    <tr>\n",
       "      <th>20946</th>\n",
       "      <td>Nurul Arifin Ajak Perempuan Terjun ke Dunia Po...</td>\n",
       "      <td>0</td>\n",
       "    </tr>\n",
       "    <tr>\n",
       "      <th>20947</th>\n",
       "      <td>Kebangkitan Lawan Politik Jokowi . . . Pasanga...</td>\n",
       "      <td>0</td>\n",
       "    </tr>\n",
       "    <tr>\n",
       "      <th>20948</th>\n",
       "      <td>Ridwan Kamil Akui Pilkada DKI Berdampak pada S...</td>\n",
       "      <td>0</td>\n",
       "    </tr>\n",
       "    <tr>\n",
       "      <th>20949</th>\n",
       "      <td>Anies Belum Berpikir Apakah Akan Menjadi Anggo...</td>\n",
       "      <td>0</td>\n",
       "    </tr>\n",
       "    <tr>\n",
       "      <th>20950</th>\n",
       "      <td>Ajak Anies Susun APBD , Ahok Ingin Janji Polit...</td>\n",
       "      <td>0</td>\n",
       "    </tr>\n",
       "  </tbody>\n",
       "</table>\n",
       "<p>20946 rows × 2 columns</p>\n",
       "</div>"
      ],
      "text/plain": [
       "                                                 cleaned  label\n",
       "0      Anies di Milad BKMT : Pengajian Menghasilkan I...      0\n",
       "1      Edy Soal Pilgub Sumut : Kalau yang Maju Abal -...      0\n",
       "2      PKB Bakal Daftarkan Menaker Ida Fauziyah Jadi ...      0\n",
       "3      Gede Pasek Doakan AHY Jadi Capres atau Cawapre...      0\n",
       "4      PKN Siapkan Jabatan Khusus Buat Anas Urbaningr...      0\n",
       "...                                                  ...    ...\n",
       "20946  Nurul Arifin Ajak Perempuan Terjun ke Dunia Po...      0\n",
       "20947  Kebangkitan Lawan Politik Jokowi . . . Pasanga...      0\n",
       "20948  Ridwan Kamil Akui Pilkada DKI Berdampak pada S...      0\n",
       "20949  Anies Belum Berpikir Apakah Akan Menjadi Anggo...      0\n",
       "20950  Ajak Anies Susun APBD , Ahok Ingin Janji Polit...      0\n",
       "\n",
       "[20946 rows x 2 columns]"
      ]
     },
     "execution_count": 24,
     "metadata": {},
     "output_type": "execute_result"
    }
   ],
   "source": [
    "df_true = df[df.label == 1]\n",
    "df_false = df[df.label == 0]\n",
    "df_false"
   ]
  },
  {
   "cell_type": "code",
   "execution_count": 26,
   "id": "1c66d7a3",
   "metadata": {},
   "outputs": [
    {
     "data": {
      "text/html": [
       "<div>\n",
       "<style scoped>\n",
       "    .dataframe tbody tr th:only-of-type {\n",
       "        vertical-align: middle;\n",
       "    }\n",
       "\n",
       "    .dataframe tbody tr th {\n",
       "        vertical-align: top;\n",
       "    }\n",
       "\n",
       "    .dataframe thead th {\n",
       "        text-align: right;\n",
       "    }\n",
       "</style>\n",
       "<table border=\"1\" class=\"dataframe\">\n",
       "  <thead>\n",
       "    <tr style=\"text-align: right;\">\n",
       "      <th></th>\n",
       "      <th>cleaned</th>\n",
       "      <th>label</th>\n",
       "    </tr>\n",
       "  </thead>\n",
       "  <tbody>\n",
       "    <tr>\n",
       "      <th>25849</th>\n",
       "      <td>Close the Camps NARASI DALAM GAMBAR : Welcome ...</td>\n",
       "      <td>1</td>\n",
       "    </tr>\n",
       "    <tr>\n",
       "      <th>23816</th>\n",
       "      <td>Kepada Satanic Factcheker silahkan Terus Mengu...</td>\n",
       "      <td>1</td>\n",
       "    </tr>\n",
       "    <tr>\n",
       "      <th>29467</th>\n",
       "      <td>Narasi Pertama : Menolak Lupa ! . Sekelas Ment...</td>\n",
       "      <td>1</td>\n",
       "    </tr>\n",
       "    <tr>\n",
       "      <th>21757</th>\n",
       "      <td>Oposisi Indonesia tidak berkualitas , semuanya...</td>\n",
       "      <td>1</td>\n",
       "    </tr>\n",
       "    <tr>\n",
       "      <th>24293</th>\n",
       "      <td>+ 6285394980681</td>\n",
       "      <td>1</td>\n",
       "    </tr>\n",
       "    <tr>\n",
       "      <th>...</th>\n",
       "      <td>...</td>\n",
       "      <td>...</td>\n",
       "    </tr>\n",
       "    <tr>\n",
       "      <th>15941</th>\n",
       "      <td>Jokowi Puji Heru Budi soal Sodetan Ciliwung ya...</td>\n",
       "      <td>0</td>\n",
       "    </tr>\n",
       "    <tr>\n",
       "      <th>7837</th>\n",
       "      <td>Demokrat Tepis Oposisi Memble : Kita Konsisten...</td>\n",
       "      <td>0</td>\n",
       "    </tr>\n",
       "    <tr>\n",
       "      <th>16507</th>\n",
       "      <td>Lika - liku Perjalanan Politik Megawati Soekar...</td>\n",
       "      <td>0</td>\n",
       "    </tr>\n",
       "    <tr>\n",
       "      <th>304</th>\n",
       "      <td>Yusril : Pembangunan Terlemah Pemerintahan Jok...</td>\n",
       "      <td>0</td>\n",
       "    </tr>\n",
       "    <tr>\n",
       "      <th>2792</th>\n",
       "      <td>Demokrat Singgung Harun Masiku , PDIP Sindir K...</td>\n",
       "      <td>0</td>\n",
       "    </tr>\n",
       "  </tbody>\n",
       "</table>\n",
       "<p>2000 rows × 2 columns</p>\n",
       "</div>"
      ],
      "text/plain": [
       "                                                 cleaned  label\n",
       "25849  Close the Camps NARASI DALAM GAMBAR : Welcome ...      1\n",
       "23816  Kepada Satanic Factcheker silahkan Terus Mengu...      1\n",
       "29467  Narasi Pertama : Menolak Lupa ! . Sekelas Ment...      1\n",
       "21757  Oposisi Indonesia tidak berkualitas , semuanya...      1\n",
       "24293                                    + 6285394980681      1\n",
       "...                                                  ...    ...\n",
       "15941  Jokowi Puji Heru Budi soal Sodetan Ciliwung ya...      0\n",
       "7837   Demokrat Tepis Oposisi Memble : Kita Konsisten...      0\n",
       "16507  Lika - liku Perjalanan Politik Megawati Soekar...      0\n",
       "304    Yusril : Pembangunan Terlemah Pemerintahan Jok...      0\n",
       "2792   Demokrat Singgung Harun Masiku , PDIP Sindir K...      0\n",
       "\n",
       "[2000 rows x 2 columns]"
      ]
     },
     "execution_count": 26,
     "metadata": {},
     "output_type": "execute_result"
    }
   ],
   "source": [
    "sampled_df_true = df_true.sample(1000)\n",
    "sampled_df_false = df_false.sample(1000)\n",
    "sampled_df = pd.concat([sampled_df_true, sampled_df_false])\n",
    "sampled_df"
   ]
  },
  {
   "cell_type": "code",
   "execution_count": 28,
   "id": "3e1e1599",
   "metadata": {},
   "outputs": [],
   "source": [
    "# df_cleaned = df.cleaned.apply(lambda x : pipeline(x))"
   ]
  },
  {
   "cell_type": "code",
   "execution_count": 35,
   "id": "553f730b",
   "metadata": {
    "scrolled": true
   },
   "outputs": [],
   "source": [
    "# df_cleaned = pd.DataFrame({\n",
    "#     'berita' : df_cleaned,\n",
    "#     'label' : df.label\n",
    "# })\n",
    "\n",
    "# df_cleaned.to_excel(os.path.join(datapath, 'all_cleaned.xlsx'))\n",
    "\n",
    "df_cleaned = pd.read_excel(os.path.join(datapath, 'all_cleaned.xlsx'))"
   ]
  },
  {
   "cell_type": "code",
   "execution_count": 43,
   "id": "ff6e1058",
   "metadata": {},
   "outputs": [
    {
     "data": {
      "text/plain": [
       "label\n",
       "0    6486\n",
       "1    6486\n",
       "Name: count, dtype: int64"
      ]
     },
     "execution_count": 43,
     "metadata": {},
     "output_type": "execute_result"
    }
   ],
   "source": [
    "X = df_cleaned[['berita']]\n",
    "y = df_cleaned['label']\n",
    "rus = RandomUnderSampler(random_state=1, replacement=True)# fit predictor and target variable\n",
    "X_new, y_new = rus.fit_resample(X,y)\n",
    "y_new.value_counts()"
   ]
  },
  {
   "cell_type": "code",
   "execution_count": 44,
   "id": "66475baf",
   "metadata": {},
   "outputs": [
    {
     "data": {
      "text/html": [
       "<div>\n",
       "<style scoped>\n",
       "    .dataframe tbody tr th:only-of-type {\n",
       "        vertical-align: middle;\n",
       "    }\n",
       "\n",
       "    .dataframe tbody tr th {\n",
       "        vertical-align: top;\n",
       "    }\n",
       "\n",
       "    .dataframe thead th {\n",
       "        text-align: right;\n",
       "    }\n",
       "</style>\n",
       "<table border=\"1\" class=\"dataframe\">\n",
       "  <thead>\n",
       "    <tr style=\"text-align: right;\">\n",
       "      <th></th>\n",
       "      <th>berita</th>\n",
       "    </tr>\n",
       "  </thead>\n",
       "  <tbody>\n",
       "    <tr>\n",
       "      <th>235</th>\n",
       "      <td>psi sebut banding pecat viani limardi tolak ad...</td>\n",
       "    </tr>\n",
       "    <tr>\n",
       "      <th>12172</th>\n",
       "      <td>tawar koalisi gerindra pks bilang cari teman l...</td>\n",
       "    </tr>\n",
       "    <tr>\n",
       "      <th>5192</th>\n",
       "      <td>dpr perintah kpu sepakat honor tugas tps naik ...</td>\n",
       "    </tr>\n",
       "    <tr>\n",
       "      <th>17294</th>\n",
       "      <td>megawati langkah politik bagai queen maker jel...</td>\n",
       "    </tr>\n",
       "    <tr>\n",
       "      <th>10955</th>\n",
       "      <td>dana milu capai rp triliun jokowi minta detail...</td>\n",
       "    </tr>\n",
       "    <tr>\n",
       "      <th>...</th>\n",
       "      <td>...</td>\n",
       "    </tr>\n",
       "    <tr>\n",
       "      <th>31327</th>\n",
       "      <td>raja salman arab saudi bawa orang orang sudah ...</td>\n",
       "    </tr>\n",
       "    <tr>\n",
       "      <th>31328</th>\n",
       "      <td>hehe selalu senyum lihat tingkah laku pak joko...</td>\n",
       "    </tr>\n",
       "    <tr>\n",
       "      <th>31329</th>\n",
       "      <td>pak jokowi jadi walikota periode pertama solo ...</td>\n",
       "    </tr>\n",
       "    <tr>\n",
       "      <th>31330</th>\n",
       "      <td>hari rabu nilai tukar rupiah puruk hingga semp...</td>\n",
       "    </tr>\n",
       "    <tr>\n",
       "      <th>31331</th>\n",
       "      <td>kita tolak desember acara pastur monas majlis ...</td>\n",
       "    </tr>\n",
       "  </tbody>\n",
       "</table>\n",
       "<p>12972 rows × 1 columns</p>\n",
       "</div>"
      ],
      "text/plain": [
       "                                                  berita\n",
       "235    psi sebut banding pecat viani limardi tolak ad...\n",
       "12172  tawar koalisi gerindra pks bilang cari teman l...\n",
       "5192   dpr perintah kpu sepakat honor tugas tps naik ...\n",
       "17294  megawati langkah politik bagai queen maker jel...\n",
       "10955  dana milu capai rp triliun jokowi minta detail...\n",
       "...                                                  ...\n",
       "31327  raja salman arab saudi bawa orang orang sudah ...\n",
       "31328  hehe selalu senyum lihat tingkah laku pak joko...\n",
       "31329  pak jokowi jadi walikota periode pertama solo ...\n",
       "31330  hari rabu nilai tukar rupiah puruk hingga semp...\n",
       "31331  kita tolak desember acara pastur monas majlis ...\n",
       "\n",
       "[12972 rows x 1 columns]"
      ]
     },
     "execution_count": 44,
     "metadata": {},
     "output_type": "execute_result"
    }
   ],
   "source": [
    "X_new"
   ]
  },
  {
   "cell_type": "code",
   "execution_count": 45,
   "id": "1afe27da",
   "metadata": {},
   "outputs": [
    {
     "data": {
      "text/plain": [
       "235      0\n",
       "12172    0\n",
       "5192     0\n",
       "17294    0\n",
       "10955    0\n",
       "        ..\n",
       "31327    1\n",
       "31328    1\n",
       "31329    1\n",
       "31330    1\n",
       "31331    1\n",
       "Name: label, Length: 12972, dtype: int64"
      ]
     },
     "execution_count": 45,
     "metadata": {},
     "output_type": "execute_result"
    }
   ],
   "source": [
    "y_new"
   ]
  },
  {
   "cell_type": "code",
   "execution_count": 46,
   "id": "e82b1468",
   "metadata": {},
   "outputs": [
    {
     "data": {
      "text/html": [
       "<div>\n",
       "<style scoped>\n",
       "    .dataframe tbody tr th:only-of-type {\n",
       "        vertical-align: middle;\n",
       "    }\n",
       "\n",
       "    .dataframe tbody tr th {\n",
       "        vertical-align: top;\n",
       "    }\n",
       "\n",
       "    .dataframe thead th {\n",
       "        text-align: right;\n",
       "    }\n",
       "</style>\n",
       "<table border=\"1\" class=\"dataframe\">\n",
       "  <thead>\n",
       "    <tr style=\"text-align: right;\">\n",
       "      <th></th>\n",
       "      <th>berita</th>\n",
       "      <th>label</th>\n",
       "    </tr>\n",
       "  </thead>\n",
       "  <tbody>\n",
       "    <tr>\n",
       "      <th>235</th>\n",
       "      <td>psi sebut banding pecat viani limardi tolak ad...</td>\n",
       "      <td>0</td>\n",
       "    </tr>\n",
       "    <tr>\n",
       "      <th>12172</th>\n",
       "      <td>tawar koalisi gerindra pks bilang cari teman l...</td>\n",
       "      <td>0</td>\n",
       "    </tr>\n",
       "    <tr>\n",
       "      <th>5192</th>\n",
       "      <td>dpr perintah kpu sepakat honor tugas tps naik ...</td>\n",
       "      <td>0</td>\n",
       "    </tr>\n",
       "    <tr>\n",
       "      <th>17294</th>\n",
       "      <td>megawati langkah politik bagai queen maker jel...</td>\n",
       "      <td>0</td>\n",
       "    </tr>\n",
       "    <tr>\n",
       "      <th>10955</th>\n",
       "      <td>dana milu capai rp triliun jokowi minta detail...</td>\n",
       "      <td>0</td>\n",
       "    </tr>\n",
       "    <tr>\n",
       "      <th>...</th>\n",
       "      <td>...</td>\n",
       "      <td>...</td>\n",
       "    </tr>\n",
       "    <tr>\n",
       "      <th>31327</th>\n",
       "      <td>raja salman arab saudi bawa orang orang sudah ...</td>\n",
       "      <td>1</td>\n",
       "    </tr>\n",
       "    <tr>\n",
       "      <th>31328</th>\n",
       "      <td>hehe selalu senyum lihat tingkah laku pak joko...</td>\n",
       "      <td>1</td>\n",
       "    </tr>\n",
       "    <tr>\n",
       "      <th>31329</th>\n",
       "      <td>pak jokowi jadi walikota periode pertama solo ...</td>\n",
       "      <td>1</td>\n",
       "    </tr>\n",
       "    <tr>\n",
       "      <th>31330</th>\n",
       "      <td>hari rabu nilai tukar rupiah puruk hingga semp...</td>\n",
       "      <td>1</td>\n",
       "    </tr>\n",
       "    <tr>\n",
       "      <th>31331</th>\n",
       "      <td>kita tolak desember acara pastur monas majlis ...</td>\n",
       "      <td>1</td>\n",
       "    </tr>\n",
       "  </tbody>\n",
       "</table>\n",
       "<p>12972 rows × 2 columns</p>\n",
       "</div>"
      ],
      "text/plain": [
       "                                                  berita  label\n",
       "235    psi sebut banding pecat viani limardi tolak ad...      0\n",
       "12172  tawar koalisi gerindra pks bilang cari teman l...      0\n",
       "5192   dpr perintah kpu sepakat honor tugas tps naik ...      0\n",
       "17294  megawati langkah politik bagai queen maker jel...      0\n",
       "10955  dana milu capai rp triliun jokowi minta detail...      0\n",
       "...                                                  ...    ...\n",
       "31327  raja salman arab saudi bawa orang orang sudah ...      1\n",
       "31328  hehe selalu senyum lihat tingkah laku pak joko...      1\n",
       "31329  pak jokowi jadi walikota periode pertama solo ...      1\n",
       "31330  hari rabu nilai tukar rupiah puruk hingga semp...      1\n",
       "31331  kita tolak desember acara pastur monas majlis ...      1\n",
       "\n",
       "[12972 rows x 2 columns]"
      ]
     },
     "execution_count": 46,
     "metadata": {},
     "output_type": "execute_result"
    }
   ],
   "source": [
    "df_new = X_new\n",
    "df_new['label'] = y_new\n",
    "df_new"
   ]
  },
  {
   "cell_type": "code",
   "execution_count": 136,
   "id": "82966220",
   "metadata": {},
   "outputs": [],
   "source": [
    "from tensorflow.keras.callbacks import Callback\n",
    "            \n",
    "class LossHistory(Callback):\n",
    "    def __init__(self):\n",
    "        super(Callback, self).__init__()\n",
    "        self.losses = []\n",
    "        self.val_losses = []\n",
    "\n",
    "    def on_train_begin(self, logs=None):\n",
    "        self.losses = []\n",
    "        self.val_losses = []\n",
    "\n",
    "    def on_batch_end(self, batch, logs=None):\n",
    "        self.losses.append(logs.get('loss'))\n",
    "        self.val_losses.append(logs.get('val_loss'))\n",
    "#         print(self.losses, self.val_losses)"
   ]
  },
  {
   "cell_type": "code",
   "execution_count": null,
   "id": "6a533cfa",
   "metadata": {},
   "outputs": [],
   "source": [
    "callback = LossHistory()"
   ]
  },
  {
   "cell_type": "code",
   "execution_count": null,
   "id": "0832aac0",
   "metadata": {},
   "outputs": [
    {
     "name": "stderr",
     "output_type": "stream",
     "text": [
      "Some layers from the model checkpoint at indobenchmark/indobert-base-p1 were not used when initializing TFBertModel: ['nsp___cls', 'mlm___cls']\n",
      "- This IS expected if you are initializing TFBertModel from the checkpoint of a model trained on another task or with another architecture (e.g. initializing a BertForSequenceClassification model from a BertForPreTraining model).\n",
      "- This IS NOT expected if you are initializing TFBertModel from the checkpoint of a model that you expect to be exactly identical (initializing a BertForSequenceClassification model from a BertForSequenceClassification model).\n",
      "All the layers of TFBertModel were initialized from the model checkpoint at indobenchmark/indobert-base-p1.\n",
      "If your task is similar to the task the model of the checkpoint was trained on, you can already use TFBertModel for predictions without further training.\n"
     ]
    },
    {
     "name": "stdout",
     "output_type": "stream",
     "text": [
      "WARNING:tensorflow:Gradients do not exist for variables ['tf_bert_model_15/bert/pooler/dense/kernel:0', 'tf_bert_model_15/bert/pooler/dense/bias:0'] when minimizing the loss. If you're using `model.compile()`, did you forget to provide a `loss` argument?\n",
      "WARNING:tensorflow:Gradients do not exist for variables ['tf_bert_model_15/bert/pooler/dense/kernel:0', 'tf_bert_model_15/bert/pooler/dense/bias:0'] when minimizing the loss. If you're using `model.compile()`, did you forget to provide a `loss` argument?\n",
      "WARNING:tensorflow:Gradients do not exist for variables ['tf_bert_model_15/bert/pooler/dense/kernel:0', 'tf_bert_model_15/bert/pooler/dense/bias:0'] when minimizing the loss. If you're using `model.compile()`, did you forget to provide a `loss` argument?\n",
      "WARNING:tensorflow:Gradients do not exist for variables ['tf_bert_model_15/bert/pooler/dense/kernel:0', 'tf_bert_model_15/bert/pooler/dense/bias:0'] when minimizing the loss. If you're using `model.compile()`, did you forget to provide a `loss` argument?\n",
      "WARNING:tensorflow:6 out of the last 293 calls to <function Model.make_train_function.<locals>.train_function at 0x0000017739CF9D30> triggered tf.function retracing. Tracing is expensive and the excessive number of tracings could be due to (1) creating @tf.function repeatedly in a loop, (2) passing tensors with different shapes, (3) passing Python objects instead of tensors. For (1), please define your @tf.function outside of the loop. For (2), @tf.function has reduce_retracing=True option that can avoid unnecessary retracing. For (3), please refer to https://www.tensorflow.org/guide/function#controlling_retracing and https://www.tensorflow.org/api_docs/python/tf/function for  more details.\n",
      "[2.018144130706787] [None]\n",
      "1/4 [======>.......................] - ETA: 9:23 - loss: 2.0181 - accuracy: 0.5938[2.018144130706787, 1.4395910501480103] [None, None]\n",
      "2/4 [==============>...............] - ETA: 5:27 - loss: 1.4396 - accuracy: 0.5469"
     ]
    }
   ],
   "source": [
    "df_train, df_test = train_test_split(df_new, test_size=0.4, random_state=42,\n",
    "                                     stratify=df_new['label'])\n",
    "\n",
    "df_val, df_test_real = train_test_split(df_test, test_size=0.5, random_state=42,\n",
    "                                     stratify=df_test['label'])\n",
    "\n",
    "model_name = 'indobenchmark/indobert-base-p1'\n",
    "# model_name = 'bert-base-cased'\n",
    "\n",
    "# tokenizer = AutoTokenizer.from_pretrained(model_name)\n",
    "# model = TFAutoModelForSequenceClassification.from_pretrained(model_name, num_labels = 2)\n",
    "\n",
    "tokenizer = AutoTokenizer.from_pretrained(model_name)\n",
    "model = TFBertModel.from_pretrained(model_name)\n",
    "\n",
    "max_len = 70\n",
    "\n",
    "X_train = tokenizer(\n",
    "    text=df_train['berita'].tolist(),\n",
    "    add_special_tokens=True,\n",
    "    max_length=max_len,\n",
    "    truncation=True,\n",
    "    padding=True,\n",
    "    return_tensors='tf',\n",
    "    return_token_type_ids=False,\n",
    "    return_attention_mask=True,\n",
    "    verbose=True\n",
    ")\n",
    "\n",
    "X_val = tokenizer(\n",
    "    text=df_val['berita'].tolist(),\n",
    "    add_special_tokens=True,\n",
    "    max_length=max_len,\n",
    "    truncation=True,\n",
    "    padding=True,\n",
    "    return_tensors='tf',\n",
    "    return_token_type_ids=False,\n",
    "    return_attention_mask=True,\n",
    "    verbose=True\n",
    ")\n",
    "\n",
    "X_test = tokenizer(\n",
    "    text=df_test_real['berita'].tolist(),\n",
    "    add_special_tokens=True,\n",
    "    max_length=max_len,\n",
    "    truncation=True,\n",
    "    padding=True,\n",
    "    return_tensors='tf',\n",
    "    return_token_type_ids=False,\n",
    "    return_attention_mask=True,\n",
    "    verbose=True\n",
    ")\n",
    "\n",
    "input_ids = Input(shape=(max_len,), dtype=tf.int32, name=\"input_ids\")\n",
    "input_mask = Input(shape=(max_len,), dtype=tf.int32, name=\"attention_mask\")\n",
    "# embeddings = dbert_model(input_ids, attention_mask = input_mask)[0]\n",
    "\n",
    "embeddings = model(input_ids, attention_mask = input_mask)[0] # 0 = last hidden state, 1 = poller_output\n",
    "out = tf.keras.layers.GlobalMaxPool1D()(embeddings)\n",
    "out = Dense(128, activation='relu')(out)\n",
    "out = tf.keras.layers.Dropout(0.1)(out)\n",
    "out = Dense(32, activation='relu')(out)\n",
    "\n",
    "y = Dense(1, activation='sigmoid')(out)\n",
    "\n",
    "model = tf.keras.Model(inputs=[input_ids, input_mask], outputs=y)\n",
    "model.layers[2].trainable = True\n",
    "\n",
    "optimizer = Adam(\n",
    "    learning_rate=5e-05, # HF recommendation\n",
    "    epsilon=1e-08,\n",
    "    clipnorm=1.0\n",
    ")\n",
    "\n",
    "loss = 'binary_crossentropy'\n",
    "metric = 'accuracy'\n",
    "\n",
    "model.compile(\n",
    "    optimizer=optimizer,\n",
    "    loss=loss,\n",
    "    metrics=metric\n",
    ")\n",
    "\n",
    "history = model.fit(\n",
    "    x = {'input_ids':X_train['input_ids'][:100], 'attention_mask':X_train['attention_mask'][:100]},\n",
    "    y = df_train['label'][:100],\n",
    "    validation_data = ({'input_ids':X_val['input_ids'][:50], 'attention_mask':X_val['attention_mask'][:50]},\n",
    "                        df_val['label'][:50]),\n",
    "    epochs=1,\n",
    "    batch_size=32,\n",
    "    callbacks=[callback]\n",
    ")"
   ]
  },
  {
   "cell_type": "code",
   "execution_count": 118,
   "id": "45de8529",
   "metadata": {},
   "outputs": [
    {
     "data": {
      "image/png": "[encoded data removed]",
      "text/plain": [
       "<Figure size 640x480 with 1 Axes>"
      ]
     },
     "metadata": {},
     "output_type": "display_data"
    },
    {
     "data": {
      "image/png": "[encoded data removed]",
      "text/plain": [
       "<Figure size 640x480 with 1 Axes>"
      ]
     },
     "metadata": {},
     "output_type": "display_data"
    }
   ],
   "source": [
    "plt.plot(history.history['accuracy'])\n",
    "plt.plot(history.history['val_accuracy'])\n",
    "plt.title('model accuracy')\n",
    "plt.ylabel('accuracy')\n",
    "plt.xlabel('epoch')\n",
    "plt.legend(['train', 'test'], loc='upper left')\n",
    "plt.show()\n",
    "# summarize history for loss\n",
    "plt.plot(history.history['loss'])\n",
    "plt.plot(history.history['val_loss'])\n",
    "plt.title('model loss')\n",
    "plt.ylabel('loss')\n",
    "plt.xlabel('epoch')\n",
    "plt.legend(['train', 'test'], loc='upper left')\n",
    "plt.show()"
   ]
  },
  {
   "cell_type": "code",
   "execution_count": 88,
   "id": "d0743d1a",
   "metadata": {},
   "outputs": [
    {
     "name": "stdout",
     "output_type": "stream",
     "text": [
      "Model: \"model_6\"\n",
      "__________________________________________________________________________________________________\n",
      " Layer (type)                Output Shape                 Param #   Connected to                  \n",
      "==================================================================================================\n",
      " input_ids (InputLayer)      [(None, 70)]                 0         []                            \n",
      "                                                                                                  \n",
      " attention_mask (InputLayer  [(None, 70)]                 0         []                            \n",
      " )                                                                                                \n",
      "                                                                                                  \n",
      " tf_bert_model_6 (TFBertMod  TFBaseModelOutputWithPooli   1244413   ['input_ids[0][0]',           \n",
      " el)                         ngAndCrossAttentions(last_   44         'attention_mask[0][0]']      \n",
      "                             hidden_state=(None, 70, 76                                           \n",
      "                             8),                                                                  \n",
      "                              pooler_output=(None, 768)                                           \n",
      "                             , past_key_values=None, hi                                           \n",
      "                             dden_states=None, attentio                                           \n",
      "                             ns=None, cross_attentions=                                           \n",
      "                             None)                                                                \n",
      "                                                                                                  \n",
      " global_max_pooling1d_6 (Gl  (None, 768)                  0         ['tf_bert_model_6[0][0]']     \n",
      " obalMaxPooling1D)                                                                                \n",
      "                                                                                                  \n",
      " dense_18 (Dense)            (None, 128)                  98432     ['global_max_pooling1d_6[0][0]\n",
      "                                                                    ']                            \n",
      "                                                                                                  \n",
      " dropout_265 (Dropout)       (None, 128)                  0         ['dense_18[0][0]']            \n",
      "                                                                                                  \n",
      " dense_19 (Dense)            (None, 32)                   4128      ['dropout_265[0][0]']         \n",
      "                                                                                                  \n",
      " dense_20 (Dense)            (None, 1)                    33        ['dense_19[0][0]']            \n",
      "                                                                                                  \n",
      "==================================================================================================\n",
      "Total params: 124543937 (475.10 MB)\n",
      "Trainable params: 124543937 (475.10 MB)\n",
      "Non-trainable params: 0 (0.00 Byte)\n",
      "__________________________________________________________________________________________________\n"
     ]
    }
   ],
   "source": [
    "model.summary()"
   ]
  },
  {
   "cell_type": "code",
   "execution_count": 89,
   "id": "d863b485",
   "metadata": {},
   "outputs": [
    {
     "name": "stderr",
     "output_type": "stream",
     "text": [
      "C:\\Users\\LENOVO\\anaconda3\\lib\\site-packages\\transformers\\generation\\tf_utils.py:465: UserWarning: `seed_generator` is deprecated and will be removed in a future version.\n",
      "  warnings.warn(\"`seed_generator` is deprecated and will be removed in a future version.\", UserWarning)\n"
     ]
    }
   ],
   "source": [
    "model.save('model_indobert.keras')"
   ]
  },
  {
   "cell_type": "code",
   "execution_count": 51,
   "id": "af1e504a",
   "metadata": {},
   "outputs": [],
   "source": [
    "# df_train, df_test = train_test_split(df_new, test_size=0.3, random_state=42,\n",
    "#                                      stratify=df_new['label'])"
   ]
  },
  {
   "cell_type": "code",
   "execution_count": 83,
   "id": "0742da99",
   "metadata": {},
   "outputs": [],
   "source": [
    "# X_train = tokenizer(\n",
    "#     text=df_train['berita'].tolist(),\n",
    "#     add_special_tokens=True,\n",
    "#     max_length=max_len,\n",
    "#     truncation=True,\n",
    "#     padding=True,\n",
    "#     return_tensors='tf',\n",
    "#     return_token_type_ids=False,\n",
    "#     return_attention_mask=True,\n",
    "#     verbose=True\n",
    "# )\n",
    "\n",
    "# X_test = tokenizer(\n",
    "#     text=df_test['berita'].tolist(),\n",
    "#     add_special_tokens=True,\n",
    "#     max_length=max_len,\n",
    "#     truncation=True,\n",
    "#     padding=True,\n",
    "#     return_tensors='tf',\n",
    "#     return_token_type_ids=False,\n",
    "#     return_attention_mask=True,\n",
    "#     verbose=True\n",
    "# )"
   ]
  },
  {
   "cell_type": "code",
   "execution_count": 126,
   "id": "bd8e3639",
   "metadata": {},
   "outputs": [],
   "source": [
    "# input_ids = Input(shape=(max_len,), dtype=tf.int32, name=\"input_ids\")\n",
    "# input_mask = Input(shape=(max_len,), dtype=tf.int32, name=\"attention_mask\")\n",
    "# # embeddings = dbert_model(input_ids, attention_mask = input_mask)[0]\n",
    "\n",
    "# embeddings = model(input_ids, attention_mask = input_mask)[0] # 0 = last hidden state, 1 = poller_output\n",
    "# out = tf.keras.layers.GlobalMaxPool1D()(embeddings)\n",
    "# out = Dense(128, activation='relu')(out)\n",
    "# out = tf.keras.layers.Dropout(0.1)(out)\n",
    "# out = Dense(32, activation='relu')(out)\n",
    "\n",
    "# y = Dense(1, activation='sigmoid')(out)\n",
    "\n",
    "# model = tf.keras.Model(inputs=[input_ids, input_mask], outputs=y)\n",
    "# model.layers[2].trainable = True\n",
    "\n",
    "# optimizer = Adam(\n",
    "#     learning_rate=5e-05, # HF recommendation\n",
    "#     epsilon=1e-08,\n",
    "#     clipnorm=1.0\n",
    "# )\n",
    "\n",
    "# loss = 'binary_crossentropy'\n",
    "# metric = 'accuracy'\n",
    "\n",
    "# model.compile(\n",
    "#     optimizer=optimizer,\n",
    "#     loss=loss,\n",
    "#     metrics=metric\n",
    "# )\n",
    "\n",
    "# history = model.fit(\n",
    "#     x = {'input_ids':X_train['input_ids'], 'attention_mask':X_train['attention_mask']},\n",
    "#     y = to_categorical(df_train['label']),\n",
    "#     validation_data = ({'input_ids':X_test['input_ids'], 'attention_mask':X_test['attention_mask']},\n",
    "#                         to_categorical(df_test['label'])),\n",
    "#     epochs=1,\n",
    "#     batch_size=32\n",
    "# )"
   ]
  },
  {
   "cell_type": "code",
   "execution_count": 78,
   "id": "8f147ef8",
   "metadata": {},
   "outputs": [
    {
     "name": "stdout",
     "output_type": "stream",
     "text": [
      "Model: \"model_3\"\n",
      "__________________________________________________________________________________________________\n",
      " Layer (type)                Output Shape                 Param #   Connected to                  \n",
      "==================================================================================================\n",
      " input_ids (InputLayer)      [(None, 70)]                 0         []                            \n",
      "                                                                                                  \n",
      " attention_mask (InputLayer  [(None, 70)]                 0         []                            \n",
      " )                                                                                                \n",
      "                                                                                                  \n",
      " tf_bert_model_3 (TFBertMod  TFBaseModelOutputWithPooli   1244413   ['input_ids[0][0]',           \n",
      " el)                         ngAndCrossAttentions(last_   44         'attention_mask[0][0]']      \n",
      "                             hidden_state=(None, 70, 76                                           \n",
      "                             8),                                                                  \n",
      "                              pooler_output=(None, 768)                                           \n",
      "                             , past_key_values=None, hi                                           \n",
      "                             dden_states=None, attentio                                           \n",
      "                             ns=None, cross_attentions=                                           \n",
      "                             None)                                                                \n",
      "                                                                                                  \n",
      " global_max_pooling1d_3 (Gl  (None, 768)                  0         ['tf_bert_model_3[0][0]']     \n",
      " obalMaxPooling1D)                                                                                \n",
      "                                                                                                  \n",
      " dense_9 (Dense)             (None, 128)                  98432     ['global_max_pooling1d_3[0][0]\n",
      "                                                                    ']                            \n",
      "                                                                                                  \n",
      " dropout_151 (Dropout)       (None, 128)                  0         ['dense_9[0][0]']             \n",
      "                                                                                                  \n",
      " dense_10 (Dense)            (None, 32)                   4128      ['dropout_151[0][0]']         \n",
      "                                                                                                  \n",
      " dense_11 (Dense)            (None, 1)                    33        ['dense_10[0][0]']            \n",
      "                                                                                                  \n",
      "==================================================================================================\n",
      "Total params: 124543937 (475.10 MB)\n",
      "Trainable params: 124543937 (475.10 MB)\n",
      "Non-trainable params: 0 (0.00 Byte)\n",
      "__________________________________________________________________________________________________\n"
     ]
    }
   ],
   "source": [
    "# model.summary()"
   ]
  },
  {
   "cell_type": "code",
   "execution_count": 94,
   "id": "5ba27bd9",
   "metadata": {},
   "outputs": [
    {
     "data": {
      "text/plain": [
       "<tf.Tensor: shape=(3892, 70), dtype=int32, numpy=\n",
       "array([[    2,  1681, 10761, ...,  1578,   531,     3],\n",
       "       [    2, 17368,   984, ...,   959,  1069,     3],\n",
       "       [    2, 12444,   253, ...,  5115,  3074,     3],\n",
       "       ...,\n",
       "       [    2,  7121, 10639, ...,   899, 18006,     3],\n",
       "       [    2,  1112, 30354, ...,  2727,   211,     3],\n",
       "       [    2,   986,  6950, ...,     0,     0,     0]])>"
      ]
     },
     "execution_count": 94,
     "metadata": {},
     "output_type": "execute_result"
    }
   ],
   "source": [
    "X_test['input_ids']"
   ]
  },
  {
   "cell_type": "code",
   "execution_count": 97,
   "id": "8d23869a",
   "metadata": {},
   "outputs": [
    {
     "name": "stdout",
     "output_type": "stream",
     "text": [
      "1/1 [==============================] - 1s 1s/step\n"
     ]
    }
   ],
   "source": [
    "predicted = model.predict({'input_ids': X_test['input_ids'][:2], 'attention_mask': X_test['attention_mask'][:2]})\n",
    "y_predicted = np.argmax(predicted, axis=1)"
   ]
  },
  {
   "cell_type": "code",
   "execution_count": 100,
   "id": "8cb23891",
   "metadata": {},
   "outputs": [
    {
     "data": {
      "text/plain": [
       "(array([0, 0, 0, ..., 0, 0, 0], dtype=int64),\n",
       " 18171    0\n",
       " 19433    0\n",
       " Name: label, dtype: int64)"
      ]
     },
     "execution_count": 100,
     "metadata": {},
     "output_type": "execute_result"
    }
   ],
   "source": [
    "y_predicted, df_test['label'][:2]"
   ]
  },
  {
   "cell_type": "code",
   "execution_count": 114,
   "id": "0ce2358c",
   "metadata": {},
   "outputs": [
    {
     "ename": "KeyboardInterrupt",
     "evalue": "",
     "output_type": "error",
     "traceback": [
      "\u001b[1;31m---------------------------------------------------------------------------\u001b[0m",
      "\u001b[1;31mKeyboardInterrupt\u001b[0m                         Traceback (most recent call last)",
      "\u001b[1;32m~\\AppData\\Local\\Temp\\ipykernel_7028\\3416179339.py\u001b[0m in \u001b[0;36m<module>\u001b[1;34m\u001b[0m\n\u001b[0;32m      1\u001b[0m \u001b[1;32mfrom\u001b[0m \u001b[0msklearn\u001b[0m\u001b[1;33m.\u001b[0m\u001b[0mmetrics\u001b[0m \u001b[1;32mimport\u001b[0m \u001b[0mclassification_report\u001b[0m\u001b[1;33m\u001b[0m\u001b[1;33m\u001b[0m\u001b[0m\n\u001b[0;32m      2\u001b[0m \u001b[1;33m\u001b[0m\u001b[0m\n\u001b[1;32m----> 3\u001b[1;33m \u001b[0mpredicted\u001b[0m \u001b[1;33m=\u001b[0m \u001b[0mmodel\u001b[0m\u001b[1;33m.\u001b[0m\u001b[0mpredict\u001b[0m\u001b[1;33m(\u001b[0m\u001b[1;33m{\u001b[0m\u001b[1;34m'input_ids'\u001b[0m\u001b[1;33m:\u001b[0m \u001b[0mX_test\u001b[0m\u001b[1;33m[\u001b[0m\u001b[1;34m'input_ids'\u001b[0m\u001b[1;33m]\u001b[0m\u001b[1;33m,\u001b[0m \u001b[1;34m'attention_mask'\u001b[0m\u001b[1;33m:\u001b[0m \u001b[0mX_test\u001b[0m\u001b[1;33m[\u001b[0m\u001b[1;34m'attention_mask'\u001b[0m\u001b[1;33m]\u001b[0m\u001b[1;33m}\u001b[0m\u001b[1;33m)\u001b[0m\u001b[1;33m\u001b[0m\u001b[1;33m\u001b[0m\u001b[0m\n\u001b[0m\u001b[0;32m      4\u001b[0m \u001b[0my_predicted\u001b[0m \u001b[1;33m=\u001b[0m \u001b[1;33m[\u001b[0m\u001b[1;36m1\u001b[0m \u001b[1;32mif\u001b[0m \u001b[0mpred\u001b[0m \u001b[1;33m>=\u001b[0m \u001b[1;36m0.5\u001b[0m \u001b[1;32melse\u001b[0m \u001b[1;36m0\u001b[0m \u001b[1;32mfor\u001b[0m \u001b[0mpred\u001b[0m \u001b[1;32min\u001b[0m \u001b[0mpredicted\u001b[0m\u001b[1;33m]\u001b[0m\u001b[1;33m\u001b[0m\u001b[1;33m\u001b[0m\u001b[0m\n\u001b[0;32m      5\u001b[0m \u001b[0mprint\u001b[0m\u001b[1;33m(\u001b[0m\u001b[0mclassification_report\u001b[0m\u001b[1;33m(\u001b[0m\u001b[0mdf_test\u001b[0m\u001b[1;33m[\u001b[0m\u001b[1;34m'label'\u001b[0m\u001b[1;33m]\u001b[0m\u001b[1;33m,\u001b[0m \u001b[0my_predicted\u001b[0m\u001b[1;33m)\u001b[0m\u001b[1;33m)\u001b[0m\u001b[1;33m\u001b[0m\u001b[1;33m\u001b[0m\u001b[0m\n",
      "\u001b[1;32m~\\AppData\\Roaming\\Python\\Python39\\site-packages\\keras\\src\\utils\\traceback_utils.py\u001b[0m in \u001b[0;36merror_handler\u001b[1;34m(*args, **kwargs)\u001b[0m\n\u001b[0;32m     63\u001b[0m         \u001b[0mfiltered_tb\u001b[0m \u001b[1;33m=\u001b[0m \u001b[1;32mNone\u001b[0m\u001b[1;33m\u001b[0m\u001b[1;33m\u001b[0m\u001b[0m\n\u001b[0;32m     64\u001b[0m         \u001b[1;32mtry\u001b[0m\u001b[1;33m:\u001b[0m\u001b[1;33m\u001b[0m\u001b[1;33m\u001b[0m\u001b[0m\n\u001b[1;32m---> 65\u001b[1;33m             \u001b[1;32mreturn\u001b[0m \u001b[0mfn\u001b[0m\u001b[1;33m(\u001b[0m\u001b[1;33m*\u001b[0m\u001b[0margs\u001b[0m\u001b[1;33m,\u001b[0m \u001b[1;33m**\u001b[0m\u001b[0mkwargs\u001b[0m\u001b[1;33m)\u001b[0m\u001b[1;33m\u001b[0m\u001b[1;33m\u001b[0m\u001b[0m\n\u001b[0m\u001b[0;32m     66\u001b[0m         \u001b[1;32mexcept\u001b[0m \u001b[0mException\u001b[0m \u001b[1;32mas\u001b[0m \u001b[0me\u001b[0m\u001b[1;33m:\u001b[0m\u001b[1;33m\u001b[0m\u001b[1;33m\u001b[0m\u001b[0m\n\u001b[0;32m     67\u001b[0m             \u001b[0mfiltered_tb\u001b[0m \u001b[1;33m=\u001b[0m \u001b[0m_process_traceback_frames\u001b[0m\u001b[1;33m(\u001b[0m\u001b[0me\u001b[0m\u001b[1;33m.\u001b[0m\u001b[0m__traceback__\u001b[0m\u001b[1;33m)\u001b[0m\u001b[1;33m\u001b[0m\u001b[1;33m\u001b[0m\u001b[0m\n",
      "\u001b[1;32m~\\AppData\\Roaming\\Python\\Python39\\site-packages\\keras\\src\\engine\\training.py\u001b[0m in \u001b[0;36mpredict\u001b[1;34m(self, x, batch_size, verbose, steps, callbacks, max_queue_size, workers, use_multiprocessing)\u001b[0m\n\u001b[0;32m   2629\u001b[0m                     \u001b[1;32mfor\u001b[0m \u001b[0mstep\u001b[0m \u001b[1;32min\u001b[0m \u001b[0mdata_handler\u001b[0m\u001b[1;33m.\u001b[0m\u001b[0msteps\u001b[0m\u001b[1;33m(\u001b[0m\u001b[1;33m)\u001b[0m\u001b[1;33m:\u001b[0m\u001b[1;33m\u001b[0m\u001b[1;33m\u001b[0m\u001b[0m\n\u001b[0;32m   2630\u001b[0m                         \u001b[0mcallbacks\u001b[0m\u001b[1;33m.\u001b[0m\u001b[0mon_predict_batch_begin\u001b[0m\u001b[1;33m(\u001b[0m\u001b[0mstep\u001b[0m\u001b[1;33m)\u001b[0m\u001b[1;33m\u001b[0m\u001b[1;33m\u001b[0m\u001b[0m\n\u001b[1;32m-> 2631\u001b[1;33m                         \u001b[0mtmp_batch_outputs\u001b[0m \u001b[1;33m=\u001b[0m \u001b[0mself\u001b[0m\u001b[1;33m.\u001b[0m\u001b[0mpredict_function\u001b[0m\u001b[1;33m(\u001b[0m\u001b[0miterator\u001b[0m\u001b[1;33m)\u001b[0m\u001b[1;33m\u001b[0m\u001b[1;33m\u001b[0m\u001b[0m\n\u001b[0m\u001b[0;32m   2632\u001b[0m                         \u001b[1;32mif\u001b[0m \u001b[0mdata_handler\u001b[0m\u001b[1;33m.\u001b[0m\u001b[0mshould_sync\u001b[0m\u001b[1;33m:\u001b[0m\u001b[1;33m\u001b[0m\u001b[1;33m\u001b[0m\u001b[0m\n\u001b[0;32m   2633\u001b[0m                             \u001b[0mcontext\u001b[0m\u001b[1;33m.\u001b[0m\u001b[0masync_wait\u001b[0m\u001b[1;33m(\u001b[0m\u001b[1;33m)\u001b[0m\u001b[1;33m\u001b[0m\u001b[1;33m\u001b[0m\u001b[0m\n",
      "\u001b[1;32m~\\AppData\\Roaming\\Python\\Python39\\site-packages\\tensorflow\\python\\util\\traceback_utils.py\u001b[0m in \u001b[0;36merror_handler\u001b[1;34m(*args, **kwargs)\u001b[0m\n\u001b[0;32m    148\u001b[0m     \u001b[0mfiltered_tb\u001b[0m \u001b[1;33m=\u001b[0m \u001b[1;32mNone\u001b[0m\u001b[1;33m\u001b[0m\u001b[1;33m\u001b[0m\u001b[0m\n\u001b[0;32m    149\u001b[0m     \u001b[1;32mtry\u001b[0m\u001b[1;33m:\u001b[0m\u001b[1;33m\u001b[0m\u001b[1;33m\u001b[0m\u001b[0m\n\u001b[1;32m--> 150\u001b[1;33m       \u001b[1;32mreturn\u001b[0m \u001b[0mfn\u001b[0m\u001b[1;33m(\u001b[0m\u001b[1;33m*\u001b[0m\u001b[0margs\u001b[0m\u001b[1;33m,\u001b[0m \u001b[1;33m**\u001b[0m\u001b[0mkwargs\u001b[0m\u001b[1;33m)\u001b[0m\u001b[1;33m\u001b[0m\u001b[1;33m\u001b[0m\u001b[0m\n\u001b[0m\u001b[0;32m    151\u001b[0m     \u001b[1;32mexcept\u001b[0m \u001b[0mException\u001b[0m \u001b[1;32mas\u001b[0m \u001b[0me\u001b[0m\u001b[1;33m:\u001b[0m\u001b[1;33m\u001b[0m\u001b[1;33m\u001b[0m\u001b[0m\n\u001b[0;32m    152\u001b[0m       \u001b[0mfiltered_tb\u001b[0m \u001b[1;33m=\u001b[0m \u001b[0m_process_traceback_frames\u001b[0m\u001b[1;33m(\u001b[0m\u001b[0me\u001b[0m\u001b[1;33m.\u001b[0m\u001b[0m__traceback__\u001b[0m\u001b[1;33m)\u001b[0m\u001b[1;33m\u001b[0m\u001b[1;33m\u001b[0m\u001b[0m\n",
      "\u001b[1;32m~\\AppData\\Roaming\\Python\\Python39\\site-packages\\tensorflow\\python\\eager\\polymorphic_function\\polymorphic_function.py\u001b[0m in \u001b[0;36m__call__\u001b[1;34m(self, *args, **kwds)\u001b[0m\n\u001b[0;32m    829\u001b[0m \u001b[1;33m\u001b[0m\u001b[0m\n\u001b[0;32m    830\u001b[0m       \u001b[1;32mwith\u001b[0m \u001b[0mOptionalXlaContext\u001b[0m\u001b[1;33m(\u001b[0m\u001b[0mself\u001b[0m\u001b[1;33m.\u001b[0m\u001b[0m_jit_compile\u001b[0m\u001b[1;33m)\u001b[0m\u001b[1;33m:\u001b[0m\u001b[1;33m\u001b[0m\u001b[1;33m\u001b[0m\u001b[0m\n\u001b[1;32m--> 831\u001b[1;33m         \u001b[0mresult\u001b[0m \u001b[1;33m=\u001b[0m \u001b[0mself\u001b[0m\u001b[1;33m.\u001b[0m\u001b[0m_call\u001b[0m\u001b[1;33m(\u001b[0m\u001b[1;33m*\u001b[0m\u001b[0margs\u001b[0m\u001b[1;33m,\u001b[0m \u001b[1;33m**\u001b[0m\u001b[0mkwds\u001b[0m\u001b[1;33m)\u001b[0m\u001b[1;33m\u001b[0m\u001b[1;33m\u001b[0m\u001b[0m\n\u001b[0m\u001b[0;32m    832\u001b[0m \u001b[1;33m\u001b[0m\u001b[0m\n\u001b[0;32m    833\u001b[0m       \u001b[0mnew_tracing_count\u001b[0m \u001b[1;33m=\u001b[0m \u001b[0mself\u001b[0m\u001b[1;33m.\u001b[0m\u001b[0mexperimental_get_tracing_count\u001b[0m\u001b[1;33m(\u001b[0m\u001b[1;33m)\u001b[0m\u001b[1;33m\u001b[0m\u001b[1;33m\u001b[0m\u001b[0m\n",
      "\u001b[1;32m~\\AppData\\Roaming\\Python\\Python39\\site-packages\\tensorflow\\python\\eager\\polymorphic_function\\polymorphic_function.py\u001b[0m in \u001b[0;36m_call\u001b[1;34m(self, *args, **kwds)\u001b[0m\n\u001b[0;32m    874\u001b[0m       \u001b[1;31m# In this case we have not created variables on the first call. So we can\u001b[0m\u001b[1;33m\u001b[0m\u001b[1;33m\u001b[0m\u001b[0m\n\u001b[0;32m    875\u001b[0m       \u001b[1;31m# run the first trace but we should fail if variables are created.\u001b[0m\u001b[1;33m\u001b[0m\u001b[1;33m\u001b[0m\u001b[0m\n\u001b[1;32m--> 876\u001b[1;33m       results = tracing_compilation.call_function(\n\u001b[0m\u001b[0;32m    877\u001b[0m           \u001b[0margs\u001b[0m\u001b[1;33m,\u001b[0m \u001b[0mkwds\u001b[0m\u001b[1;33m,\u001b[0m \u001b[0mself\u001b[0m\u001b[1;33m.\u001b[0m\u001b[0m_variable_creation_config\u001b[0m\u001b[1;33m\u001b[0m\u001b[1;33m\u001b[0m\u001b[0m\n\u001b[0;32m    878\u001b[0m       )\n",
      "\u001b[1;32m~\\AppData\\Roaming\\Python\\Python39\\site-packages\\tensorflow\\python\\eager\\polymorphic_function\\tracing_compilation.py\u001b[0m in \u001b[0;36mcall_function\u001b[1;34m(args, kwargs, tracing_options)\u001b[0m\n\u001b[0;32m    137\u001b[0m   \u001b[0mbound_args\u001b[0m \u001b[1;33m=\u001b[0m \u001b[0mfunction\u001b[0m\u001b[1;33m.\u001b[0m\u001b[0mfunction_type\u001b[0m\u001b[1;33m.\u001b[0m\u001b[0mbind\u001b[0m\u001b[1;33m(\u001b[0m\u001b[1;33m*\u001b[0m\u001b[0margs\u001b[0m\u001b[1;33m,\u001b[0m \u001b[1;33m**\u001b[0m\u001b[0mkwargs\u001b[0m\u001b[1;33m)\u001b[0m\u001b[1;33m\u001b[0m\u001b[1;33m\u001b[0m\u001b[0m\n\u001b[0;32m    138\u001b[0m   \u001b[0mflat_inputs\u001b[0m \u001b[1;33m=\u001b[0m \u001b[0mfunction\u001b[0m\u001b[1;33m.\u001b[0m\u001b[0mfunction_type\u001b[0m\u001b[1;33m.\u001b[0m\u001b[0munpack_inputs\u001b[0m\u001b[1;33m(\u001b[0m\u001b[0mbound_args\u001b[0m\u001b[1;33m)\u001b[0m\u001b[1;33m\u001b[0m\u001b[1;33m\u001b[0m\u001b[0m\n\u001b[1;32m--> 139\u001b[1;33m   return function._call_flat(  # pylint: disable=protected-access\n\u001b[0m\u001b[0;32m    140\u001b[0m       \u001b[0mflat_inputs\u001b[0m\u001b[1;33m,\u001b[0m \u001b[0mcaptured_inputs\u001b[0m\u001b[1;33m=\u001b[0m\u001b[0mfunction\u001b[0m\u001b[1;33m.\u001b[0m\u001b[0mcaptured_inputs\u001b[0m\u001b[1;33m\u001b[0m\u001b[1;33m\u001b[0m\u001b[0m\n\u001b[0;32m    141\u001b[0m   )\n",
      "\u001b[1;32m~\\AppData\\Roaming\\Python\\Python39\\site-packages\\tensorflow\\python\\eager\\polymorphic_function\\concrete_function.py\u001b[0m in \u001b[0;36m_call_flat\u001b[1;34m(self, tensor_inputs, captured_inputs)\u001b[0m\n\u001b[0;32m   1262\u001b[0m         and executing_eagerly):\n\u001b[0;32m   1263\u001b[0m       \u001b[1;31m# No tape is watching; skip to running the function.\u001b[0m\u001b[1;33m\u001b[0m\u001b[1;33m\u001b[0m\u001b[0m\n\u001b[1;32m-> 1264\u001b[1;33m       \u001b[1;32mreturn\u001b[0m \u001b[0mself\u001b[0m\u001b[1;33m.\u001b[0m\u001b[0m_inference_function\u001b[0m\u001b[1;33m.\u001b[0m\u001b[0mflat_call\u001b[0m\u001b[1;33m(\u001b[0m\u001b[0margs\u001b[0m\u001b[1;33m)\u001b[0m\u001b[1;33m\u001b[0m\u001b[1;33m\u001b[0m\u001b[0m\n\u001b[0m\u001b[0;32m   1265\u001b[0m     forward_backward = self._select_forward_and_backward_functions(\n\u001b[0;32m   1266\u001b[0m         \u001b[0margs\u001b[0m\u001b[1;33m,\u001b[0m\u001b[1;33m\u001b[0m\u001b[1;33m\u001b[0m\u001b[0m\n",
      "\u001b[1;32m~\\AppData\\Roaming\\Python\\Python39\\site-packages\\tensorflow\\python\\eager\\polymorphic_function\\atomic_function.py\u001b[0m in \u001b[0;36mflat_call\u001b[1;34m(self, args)\u001b[0m\n\u001b[0;32m    215\u001b[0m   \u001b[1;32mdef\u001b[0m \u001b[0mflat_call\u001b[0m\u001b[1;33m(\u001b[0m\u001b[0mself\u001b[0m\u001b[1;33m,\u001b[0m \u001b[0margs\u001b[0m\u001b[1;33m:\u001b[0m \u001b[0mSequence\u001b[0m\u001b[1;33m[\u001b[0m\u001b[0mcore\u001b[0m\u001b[1;33m.\u001b[0m\u001b[0mTensor\u001b[0m\u001b[1;33m]\u001b[0m\u001b[1;33m)\u001b[0m \u001b[1;33m->\u001b[0m \u001b[0mAny\u001b[0m\u001b[1;33m:\u001b[0m\u001b[1;33m\u001b[0m\u001b[1;33m\u001b[0m\u001b[0m\n\u001b[0;32m    216\u001b[0m     \u001b[1;34m\"\"\"Calls with tensor inputs and returns the structured output.\"\"\"\u001b[0m\u001b[1;33m\u001b[0m\u001b[1;33m\u001b[0m\u001b[0m\n\u001b[1;32m--> 217\u001b[1;33m     \u001b[0mflat_outputs\u001b[0m \u001b[1;33m=\u001b[0m \u001b[0mself\u001b[0m\u001b[1;33m(\u001b[0m\u001b[1;33m*\u001b[0m\u001b[0margs\u001b[0m\u001b[1;33m)\u001b[0m\u001b[1;33m\u001b[0m\u001b[1;33m\u001b[0m\u001b[0m\n\u001b[0m\u001b[0;32m    218\u001b[0m     \u001b[1;32mreturn\u001b[0m \u001b[0mself\u001b[0m\u001b[1;33m.\u001b[0m\u001b[0mfunction_type\u001b[0m\u001b[1;33m.\u001b[0m\u001b[0mpack_output\u001b[0m\u001b[1;33m(\u001b[0m\u001b[0mflat_outputs\u001b[0m\u001b[1;33m)\u001b[0m\u001b[1;33m\u001b[0m\u001b[1;33m\u001b[0m\u001b[0m\n\u001b[0;32m    219\u001b[0m \u001b[1;33m\u001b[0m\u001b[0m\n",
      "\u001b[1;32m~\\AppData\\Roaming\\Python\\Python39\\site-packages\\tensorflow\\python\\eager\\polymorphic_function\\atomic_function.py\u001b[0m in \u001b[0;36m__call__\u001b[1;34m(self, *args)\u001b[0m\n\u001b[0;32m    250\u001b[0m         \u001b[1;32mwith\u001b[0m \u001b[0mrecord\u001b[0m\u001b[1;33m.\u001b[0m\u001b[0mstop_recording\u001b[0m\u001b[1;33m(\u001b[0m\u001b[1;33m)\u001b[0m\u001b[1;33m:\u001b[0m\u001b[1;33m\u001b[0m\u001b[1;33m\u001b[0m\u001b[0m\n\u001b[0;32m    251\u001b[0m           \u001b[1;32mif\u001b[0m \u001b[0mself\u001b[0m\u001b[1;33m.\u001b[0m\u001b[0m_bound_context\u001b[0m\u001b[1;33m.\u001b[0m\u001b[0mexecuting_eagerly\u001b[0m\u001b[1;33m(\u001b[0m\u001b[1;33m)\u001b[0m\u001b[1;33m:\u001b[0m\u001b[1;33m\u001b[0m\u001b[1;33m\u001b[0m\u001b[0m\n\u001b[1;32m--> 252\u001b[1;33m             outputs = self._bound_context.call_function(\n\u001b[0m\u001b[0;32m    253\u001b[0m                 \u001b[0mself\u001b[0m\u001b[1;33m.\u001b[0m\u001b[0mname\u001b[0m\u001b[1;33m,\u001b[0m\u001b[1;33m\u001b[0m\u001b[1;33m\u001b[0m\u001b[0m\n\u001b[0;32m    254\u001b[0m                 \u001b[0mlist\u001b[0m\u001b[1;33m(\u001b[0m\u001b[0margs\u001b[0m\u001b[1;33m)\u001b[0m\u001b[1;33m,\u001b[0m\u001b[1;33m\u001b[0m\u001b[1;33m\u001b[0m\u001b[0m\n",
      "\u001b[1;32m~\\AppData\\Roaming\\Python\\Python39\\site-packages\\tensorflow\\python\\eager\\context.py\u001b[0m in \u001b[0;36mcall_function\u001b[1;34m(self, name, tensor_inputs, num_outputs)\u001b[0m\n\u001b[0;32m   1477\u001b[0m     \u001b[0mcancellation_context\u001b[0m \u001b[1;33m=\u001b[0m \u001b[0mcancellation\u001b[0m\u001b[1;33m.\u001b[0m\u001b[0mcontext\u001b[0m\u001b[1;33m(\u001b[0m\u001b[1;33m)\u001b[0m\u001b[1;33m\u001b[0m\u001b[1;33m\u001b[0m\u001b[0m\n\u001b[0;32m   1478\u001b[0m     \u001b[1;32mif\u001b[0m \u001b[0mcancellation_context\u001b[0m \u001b[1;32mis\u001b[0m \u001b[1;32mNone\u001b[0m\u001b[1;33m:\u001b[0m\u001b[1;33m\u001b[0m\u001b[1;33m\u001b[0m\u001b[0m\n\u001b[1;32m-> 1479\u001b[1;33m       outputs = execute.execute(\n\u001b[0m\u001b[0;32m   1480\u001b[0m           \u001b[0mname\u001b[0m\u001b[1;33m.\u001b[0m\u001b[0mdecode\u001b[0m\u001b[1;33m(\u001b[0m\u001b[1;34m\"utf-8\"\u001b[0m\u001b[1;33m)\u001b[0m\u001b[1;33m,\u001b[0m\u001b[1;33m\u001b[0m\u001b[1;33m\u001b[0m\u001b[0m\n\u001b[0;32m   1481\u001b[0m           \u001b[0mnum_outputs\u001b[0m\u001b[1;33m=\u001b[0m\u001b[0mnum_outputs\u001b[0m\u001b[1;33m,\u001b[0m\u001b[1;33m\u001b[0m\u001b[1;33m\u001b[0m\u001b[0m\n",
      "\u001b[1;32m~\\AppData\\Roaming\\Python\\Python39\\site-packages\\tensorflow\\python\\eager\\execute.py\u001b[0m in \u001b[0;36mquick_execute\u001b[1;34m(op_name, num_outputs, inputs, attrs, ctx, name)\u001b[0m\n\u001b[0;32m     58\u001b[0m         \u001b[1;32mfor\u001b[0m \u001b[0mt\u001b[0m \u001b[1;32min\u001b[0m \u001b[0minputs\u001b[0m\u001b[1;33m\u001b[0m\u001b[1;33m\u001b[0m\u001b[0m\n\u001b[0;32m     59\u001b[0m     ]\n\u001b[1;32m---> 60\u001b[1;33m     tensors = pywrap_tfe.TFE_Py_Execute(ctx._handle, device_name, op_name,\n\u001b[0m\u001b[0;32m     61\u001b[0m                                         inputs, attrs, num_outputs)\n\u001b[0;32m     62\u001b[0m   \u001b[1;32mexcept\u001b[0m \u001b[0mcore\u001b[0m\u001b[1;33m.\u001b[0m\u001b[0m_NotOkStatusException\u001b[0m \u001b[1;32mas\u001b[0m \u001b[0me\u001b[0m\u001b[1;33m:\u001b[0m\u001b[1;33m\u001b[0m\u001b[1;33m\u001b[0m\u001b[0m\n",
      "\u001b[1;31mKeyboardInterrupt\u001b[0m: "
     ]
    }
   ],
   "source": [
    "from sklearn.metrics import classification_report\n",
    "\n",
    "predicted = model.predict({'input_ids': X_test['input_ids'], 'attention_mask': X_test['attention_mask']})\n",
    "y_predicted = [1 if pred >= 0.5 else 0 for pred in predicted]\n",
    "print(classification_report(df_test['label'], y_predicted))"
   ]
  },
  {
   "cell_type": "code",
   "execution_count": 115,
   "id": "af052b06",
   "metadata": {},
   "outputs": [
    {
     "name": "stdout",
     "output_type": "stream",
     "text": [
      "              precision    recall  f1-score   support\n",
      "\n",
      "           0       0.97      0.99      0.98      1946\n",
      "           1       0.99      0.97      0.98      1946\n",
      "\n",
      "    accuracy                           0.98      3892\n",
      "   macro avg       0.98      0.98      0.98      3892\n",
      "weighted avg       0.98      0.98      0.98      3892\n",
      "\n"
     ]
    }
   ],
   "source": [
    "y_predicted = [1 if pred >= 0.5 else 0 for pred in predicted]\n",
    "print(classification_report(df_test['label'], y_predicted))"
   ]
  },
  {
   "cell_type": "code",
   "execution_count": 103,
   "id": "d0dea739",
   "metadata": {},
   "outputs": [
    {
     "data": {
      "text/plain": [
       "(0, 3892)"
      ]
     },
     "execution_count": 103,
     "metadata": {},
     "output_type": "execute_result"
    }
   ],
   "source": [
    "sum(y_predicted), len(y_predicted)"
   ]
  }
 ],
 "metadata": {
  "kernelspec": {
   "display_name": "Python 3 (ipykernel)",
   "language": "python",
   "name": "python3"
  },
  "language_info": {
   "codemirror_mode": {
    "name": "ipython",
    "version": 3
   },
   "file_extension": ".py",
   "mimetype": "text/x-python",
   "name": "python",
   "nbconvert_exporter": "python",
   "pygments_lexer": "ipython3",
   "version": "3.9.17"
  }
 },
 "nbformat": 4,
 "nbformat_minor": 5
}
