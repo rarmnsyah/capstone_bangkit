{
 "cells": [
  {
   "cell_type": "code",
   "execution_count": 2,
   "metadata": {},
   "outputs": [
    {
     "name": "stderr",
     "output_type": "stream",
     "text": [
      "c:\\Users\\LENOVO\\GitHub\\capstone_bangkit\\venv\\lib\\site-packages\\tqdm\\auto.py:21: TqdmWarning: IProgress not found. Please update jupyter and ipywidgets. See https://ipywidgets.readthedocs.io/en/stable/user_install.html\n",
      "  from .autonotebook import tqdm as notebook_tqdm\n"
     ]
    }
   ],
   "source": [
    "import pandas as pd\n",
    "import numpy as np\n",
    "import tensorflow as tf\n",
    "import os\n",
    "import matplotlib.pyplot as plt\n",
    "\n",
    "from transformers import BertTokenizer, TFAlbertModel\n",
    "from sklearn.model_selection import train_test_split\n",
    "from tensorflow.keras.optimizers import Adam\n",
    "from imblearn.under_sampling import RandomUnderSampler\n",
    "from tensorflow.keras.layers import Input, Dense"
   ]
  },
  {
   "cell_type": "code",
   "execution_count": 3,
   "metadata": {},
   "outputs": [
    {
     "data": {
      "text/html": [
       "<div>\n",
       "<style scoped>\n",
       "    .dataframe tbody tr th:only-of-type {\n",
       "        vertical-align: middle;\n",
       "    }\n",
       "\n",
       "    .dataframe tbody tr th {\n",
       "        vertical-align: top;\n",
       "    }\n",
       "\n",
       "    .dataframe thead th {\n",
       "        text-align: right;\n",
       "    }\n",
       "</style>\n",
       "<table border=\"1\" class=\"dataframe\">\n",
       "  <thead>\n",
       "    <tr style=\"text-align: right;\">\n",
       "      <th></th>\n",
       "      <th>berita</th>\n",
       "    </tr>\n",
       "  </thead>\n",
       "  <tbody>\n",
       "    <tr>\n",
       "      <th>0</th>\n",
       "      <td>Majelis Kehormatan Mahkamah Konstitusi (MKMK) ...</td>\n",
       "    </tr>\n",
       "    <tr>\n",
       "      <th>1</th>\n",
       "      <td>Majelis Kehormatan Mahkamah Konstitusi (MKMK) ...</td>\n",
       "    </tr>\n",
       "    <tr>\n",
       "      <th>2</th>\n",
       "      <td>Mahfud lekat dengan inisial MD yang tersemat d...</td>\n",
       "    </tr>\n",
       "    <tr>\n",
       "      <th>3</th>\n",
       "      <td>Perebutan tiket atau yang populer dengan istil...</td>\n",
       "    </tr>\n",
       "    <tr>\n",
       "      <th>4</th>\n",
       "      <td>Riuh Pemilu 2024 tak cuma seputar capres-cawap...</td>\n",
       "    </tr>\n",
       "    <tr>\n",
       "      <th>5</th>\n",
       "      <td>Menteri Kesehatan (Menkes) Budi Gunadi Sadikin...</td>\n",
       "    </tr>\n",
       "    <tr>\n",
       "      <th>6</th>\n",
       "      <td>Bakal calon presiden Koalisi Perubahan Anies B...</td>\n",
       "    </tr>\n",
       "    <tr>\n",
       "      <th>7</th>\n",
       "      <td>Menteri Pertahanan Prabowo Subianto menyebut a...</td>\n",
       "    </tr>\n",
       "    <tr>\n",
       "      <th>8</th>\n",
       "      <td>Sembilan hakim Mahkamah Konstitusi (MK) dikena...</td>\n",
       "    </tr>\n",
       "    <tr>\n",
       "      <th>9</th>\n",
       "      <td>Undang-undang Nomor 7 Tahun 2017 tentang Pemil...</td>\n",
       "    </tr>\n",
       "    <tr>\n",
       "      <th>10</th>\n",
       "      <td>Undang-undang Nomor 7 Tahun 2017 tentang Pemil...</td>\n",
       "    </tr>\n",
       "    <tr>\n",
       "      <th>11</th>\n",
       "      <td>Seseorang yang mengajak orang lain agar tidak ...</td>\n",
       "    </tr>\n",
       "    <tr>\n",
       "      <th>12</th>\n",
       "      <td>Majelis Kehormatan Mahkamah Konstitusi (MKMK) ...</td>\n",
       "    </tr>\n",
       "    <tr>\n",
       "      <th>13</th>\n",
       "      <td>Ikatan Dokter Indonesia (IDI) menyatakan kasus...</td>\n",
       "    </tr>\n",
       "    <tr>\n",
       "      <th>14</th>\n",
       "      <td>Kapolri Jenderal Listyo Sigit Prabowo memberik...</td>\n",
       "    </tr>\n",
       "    <tr>\n",
       "      <th>15</th>\n",
       "      <td>Majelis Kehormatan Mahkamah Konstitusi (MKMK) ...</td>\n",
       "    </tr>\n",
       "    <tr>\n",
       "      <th>16</th>\n",
       "      <td>Majelis Kehormatan Mahkamah Konstitusi (MKMK) ...</td>\n",
       "    </tr>\n",
       "    <tr>\n",
       "      <th>17</th>\n",
       "      <td>Komisaris PT Pertamina (Persero) Basuki Tjahaj...</td>\n",
       "    </tr>\n",
       "    <tr>\n",
       "      <th>18</th>\n",
       "      <td>Koalisi Indonesia Maju (KIM) resmi mengumumkan...</td>\n",
       "    </tr>\n",
       "    <tr>\n",
       "      <th>19</th>\n",
       "      <td>Majelis Kehormatan Mahkamah Konstitusi (MKMK) ...</td>\n",
       "    </tr>\n",
       "  </tbody>\n",
       "</table>\n",
       "</div>"
      ],
      "text/plain": [
       "                                               berita\n",
       "0   Majelis Kehormatan Mahkamah Konstitusi (MKMK) ...\n",
       "1   Majelis Kehormatan Mahkamah Konstitusi (MKMK) ...\n",
       "2   Mahfud lekat dengan inisial MD yang tersemat d...\n",
       "3   Perebutan tiket atau yang populer dengan istil...\n",
       "4   Riuh Pemilu 2024 tak cuma seputar capres-cawap...\n",
       "5   Menteri Kesehatan (Menkes) Budi Gunadi Sadikin...\n",
       "6   Bakal calon presiden Koalisi Perubahan Anies B...\n",
       "7   Menteri Pertahanan Prabowo Subianto menyebut a...\n",
       "8   Sembilan hakim Mahkamah Konstitusi (MK) dikena...\n",
       "9   Undang-undang Nomor 7 Tahun 2017 tentang Pemil...\n",
       "10  Undang-undang Nomor 7 Tahun 2017 tentang Pemil...\n",
       "11  Seseorang yang mengajak orang lain agar tidak ...\n",
       "12  Majelis Kehormatan Mahkamah Konstitusi (MKMK) ...\n",
       "13  Ikatan Dokter Indonesia (IDI) menyatakan kasus...\n",
       "14  Kapolri Jenderal Listyo Sigit Prabowo memberik...\n",
       "15  Majelis Kehormatan Mahkamah Konstitusi (MKMK) ...\n",
       "16  Majelis Kehormatan Mahkamah Konstitusi (MKMK) ...\n",
       "17  Komisaris PT Pertamina (Persero) Basuki Tjahaj...\n",
       "18  Koalisi Indonesia Maju (KIM) resmi mengumumkan...\n",
       "19  Majelis Kehormatan Mahkamah Konstitusi (MKMK) ..."
      ]
     },
     "execution_count": 3,
     "metadata": {},
     "output_type": "execute_result"
    }
   ],
   "source": [
    "cwd = os.getcwd()\n",
    "test = os.path.join(cwd, 'content')\n",
    "real_df = pd.read_csv(os.path.join(test, 'cnn_content_2023-11-11.csv'))\n",
    "df = real_df[['berita']]\n",
    "df"
   ]
  },
  {
   "cell_type": "code",
   "execution_count": 4,
   "metadata": {},
   "outputs": [
    {
     "data": {
      "text/html": [
       "<div>\n",
       "<style scoped>\n",
       "    .dataframe tbody tr th:only-of-type {\n",
       "        vertical-align: middle;\n",
       "    }\n",
       "\n",
       "    .dataframe tbody tr th {\n",
       "        vertical-align: top;\n",
       "    }\n",
       "\n",
       "    .dataframe thead th {\n",
       "        text-align: right;\n",
       "    }\n",
       "</style>\n",
       "<table border=\"1\" class=\"dataframe\">\n",
       "  <thead>\n",
       "    <tr style=\"text-align: right;\">\n",
       "      <th></th>\n",
       "      <th>berita</th>\n",
       "    </tr>\n",
       "  </thead>\n",
       "  <tbody>\n",
       "    <tr>\n",
       "      <th>0</th>\n",
       "      <td>Majelis Kehormatan Mahkamah Konstitusi (MKMK) ...</td>\n",
       "    </tr>\n",
       "    <tr>\n",
       "      <th>1</th>\n",
       "      <td>Majelis Kehormatan Mahkamah Konstitusi (MKMK) ...</td>\n",
       "    </tr>\n",
       "    <tr>\n",
       "      <th>2</th>\n",
       "      <td>Mahfud lekat dengan inisial MD yang tersemat d...</td>\n",
       "    </tr>\n",
       "    <tr>\n",
       "      <th>3</th>\n",
       "      <td>Perebutan tiket atau yang populer dengan istil...</td>\n",
       "    </tr>\n",
       "    <tr>\n",
       "      <th>4</th>\n",
       "      <td>Riuh Pemilu 2024 tak cuma seputar capres-cawap...</td>\n",
       "    </tr>\n",
       "    <tr>\n",
       "      <th>5</th>\n",
       "      <td>Menteri Kesehatan (Menkes) Budi Gunadi Sadikin...</td>\n",
       "    </tr>\n",
       "    <tr>\n",
       "      <th>6</th>\n",
       "      <td>Bakal calon presiden Koalisi Perubahan Anies B...</td>\n",
       "    </tr>\n",
       "    <tr>\n",
       "      <th>7</th>\n",
       "      <td>Menteri Pertahanan Prabowo Subianto menyebut a...</td>\n",
       "    </tr>\n",
       "    <tr>\n",
       "      <th>8</th>\n",
       "      <td>Sembilan hakim Mahkamah Konstitusi (MK) dikena...</td>\n",
       "    </tr>\n",
       "    <tr>\n",
       "      <th>9</th>\n",
       "      <td>Undang-undang Nomor 7 Tahun 2017 tentang Pemil...</td>\n",
       "    </tr>\n",
       "    <tr>\n",
       "      <th>10</th>\n",
       "      <td>Undang-undang Nomor 7 Tahun 2017 tentang Pemil...</td>\n",
       "    </tr>\n",
       "    <tr>\n",
       "      <th>11</th>\n",
       "      <td>Seseorang yang mengajak orang lain agar tidak ...</td>\n",
       "    </tr>\n",
       "    <tr>\n",
       "      <th>12</th>\n",
       "      <td>Majelis Kehormatan Mahkamah Konstitusi (MKMK) ...</td>\n",
       "    </tr>\n",
       "    <tr>\n",
       "      <th>13</th>\n",
       "      <td>Ikatan Dokter Indonesia (IDI) menyatakan kasus...</td>\n",
       "    </tr>\n",
       "    <tr>\n",
       "      <th>14</th>\n",
       "      <td>Kapolri Jenderal Listyo Sigit Prabowo memberik...</td>\n",
       "    </tr>\n",
       "    <tr>\n",
       "      <th>15</th>\n",
       "      <td>Majelis Kehormatan Mahkamah Konstitusi (MKMK) ...</td>\n",
       "    </tr>\n",
       "    <tr>\n",
       "      <th>16</th>\n",
       "      <td>Majelis Kehormatan Mahkamah Konstitusi (MKMK) ...</td>\n",
       "    </tr>\n",
       "    <tr>\n",
       "      <th>17</th>\n",
       "      <td>Komisaris PT Pertamina (Persero) Basuki Tjahaj...</td>\n",
       "    </tr>\n",
       "    <tr>\n",
       "      <th>18</th>\n",
       "      <td>Koalisi Indonesia Maju (KIM) resmi mengumumkan...</td>\n",
       "    </tr>\n",
       "    <tr>\n",
       "      <th>19</th>\n",
       "      <td>Majelis Kehormatan Mahkamah Konstitusi (MKMK) ...</td>\n",
       "    </tr>\n",
       "    <tr>\n",
       "      <th>20</th>\n",
       "      <td>lewat di tl aku, dan aku kaget. Aku kira RS in...</td>\n",
       "    </tr>\n",
       "    <tr>\n",
       "      <th>21</th>\n",
       "      <td>Jog dalam kota kecepatan 80km/jam dan nerobos ...</td>\n",
       "    </tr>\n",
       "    <tr>\n",
       "      <th>22</th>\n",
       "      <td>Peta hubungan diplomatik Israel dengan negara-...</td>\n",
       "    </tr>\n",
       "    <tr>\n",
       "      <th>23</th>\n",
       "      <td>Pernah penasaran ga sih kenapa Nabi &amp; Rasul it...</td>\n",
       "    </tr>\n",
       "    <tr>\n",
       "      <th>24</th>\n",
       "      <td>Ada perbedaan pada momen kelahiran anak kedua ...</td>\n",
       "    </tr>\n",
       "  </tbody>\n",
       "</table>\n",
       "</div>"
      ],
      "text/plain": [
       "                                               berita\n",
       "0   Majelis Kehormatan Mahkamah Konstitusi (MKMK) ...\n",
       "1   Majelis Kehormatan Mahkamah Konstitusi (MKMK) ...\n",
       "2   Mahfud lekat dengan inisial MD yang tersemat d...\n",
       "3   Perebutan tiket atau yang populer dengan istil...\n",
       "4   Riuh Pemilu 2024 tak cuma seputar capres-cawap...\n",
       "5   Menteri Kesehatan (Menkes) Budi Gunadi Sadikin...\n",
       "6   Bakal calon presiden Koalisi Perubahan Anies B...\n",
       "7   Menteri Pertahanan Prabowo Subianto menyebut a...\n",
       "8   Sembilan hakim Mahkamah Konstitusi (MK) dikena...\n",
       "9   Undang-undang Nomor 7 Tahun 2017 tentang Pemil...\n",
       "10  Undang-undang Nomor 7 Tahun 2017 tentang Pemil...\n",
       "11  Seseorang yang mengajak orang lain agar tidak ...\n",
       "12  Majelis Kehormatan Mahkamah Konstitusi (MKMK) ...\n",
       "13  Ikatan Dokter Indonesia (IDI) menyatakan kasus...\n",
       "14  Kapolri Jenderal Listyo Sigit Prabowo memberik...\n",
       "15  Majelis Kehormatan Mahkamah Konstitusi (MKMK) ...\n",
       "16  Majelis Kehormatan Mahkamah Konstitusi (MKMK) ...\n",
       "17  Komisaris PT Pertamina (Persero) Basuki Tjahaj...\n",
       "18  Koalisi Indonesia Maju (KIM) resmi mengumumkan...\n",
       "19  Majelis Kehormatan Mahkamah Konstitusi (MKMK) ...\n",
       "20  lewat di tl aku, dan aku kaget. Aku kira RS in...\n",
       "21  Jog dalam kota kecepatan 80km/jam dan nerobos ...\n",
       "22  Peta hubungan diplomatik Israel dengan negara-...\n",
       "23  Pernah penasaran ga sih kenapa Nabi & Rasul it...\n",
       "24  Ada perbedaan pada momen kelahiran anak kedua ..."
      ]
     },
     "execution_count": 4,
     "metadata": {},
     "output_type": "execute_result"
    }
   ],
   "source": [
    "test_twt = {\n",
    "    'berita' : [\"lewat di tl aku, dan aku kaget. Aku kira RS ini dibangunnya sama pemerintah kita ternyata pembangunannya dari uang donasi masyarakat kita toh aku nangis banget pas liat videonya juga\", \"Jog dalam kota kecepatan 80km/jam dan nerobos lampu merah. Dimf bawah ini juga ada cctv kalau ojol berhenti dipinggir anda tabrak, giliran diminta ganti rugi merasa diperas. Playing victim sekali ya wkwkwk\", \"Peta hubungan diplomatik Israel dengan negara-negara dunia. Hanya ada satu negara dengan perekonomian raksasa ber-GDP di atas $1 triliun yang belum pernah menjalin relasi sama Israel. Yep, Indonesia.\", \"Pernah penasaran ga sih kenapa Nabi & Rasul itu diutusnya di Arab, Jordan, & Mesir padahal dunia ini luas? Gambar ini sedikit banyak menjelaskan\", \"Ada perbedaan pada momen kelahiran anak kedua pasangan Atta Halilintar dan Aurel Hermansyah. Pasalnya, semua orangtua atau nenek dari Ameena dan putri keduanya turut hadir. Tentunya hal ini memberikan kebahagiaan bagi Atta dan Aurel. Apalagi mengingat saat momen Ameena lahir, tak seramai kelahiran anak keduanya ini. Saat ditemui di RSIA Bunda, Jakarta Pusat, Senin (13/11) Atta Halilintar merasa momen kelahiran adik Ameena seperti mimpi yang menjadi kenyataan baginya. “Ini udah kayak mimpi jadi nyata buat saya sama Aurel karena semua orangtua bisa hadir. Kemarin (anak pertama) lahiran kan pas Covid ya jadi nggak semua bisa hadir,” ungkap Atta Halilintar. 1. Didampingi Orang-Orang Tersayang Diketahui Dalam foto yang dibagikan di akun media sosial Atta Halilintar, ayah dan ibunya tampak hadir di rumah sakit. Begitu juga dengan orangtua Aurel, Anang Hermansyah dan Ashanty serta Krisdayanti yang tak ingin ketinggalan momen tersebut. Atta pun mengatakan, orangtua dan mertuanya hadir di rumah sakit menanti detik-detik kelahiran anak keduanya. Bahkan mereka juga rela berangkat dini hari ke rumah sakit. 2. Berkumpul Sejak Subuh “Semua mendoakan, semua lengkap semuanya udah ada dari pagi ngumpul di RSIA Bunda mengantar ke rumah sakit dari jam 03.00 WIB terus salat subuh bareng juga,” ujarnya. Ia menilai doa dari orangtuanya dan mertuanya menjadi kekuatan bagi Aurel Hermansyah. “Jadi menurutku doa dari semua jadi menguatkan juga ya. Semua sudah nggak sabar menyambut cucu keduanya,” tukasnya.\"] \n",
    "}\n",
    "\n",
    "df_test_twt = pd.DataFrame(test_twt)\n",
    "df_test_twt\n",
    "\n",
    "df = pd.concat([real_df[['berita']], df_test_twt], ignore_index=True)\n",
    "df"
   ]
  },
  {
   "cell_type": "code",
   "execution_count": 5,
   "metadata": {},
   "outputs": [
    {
     "name": "stderr",
     "output_type": "stream",
     "text": [
      "The tokenizer class you load from this checkpoint is not the same type as the class this function is called from. It may result in unexpected tokenization. \n",
      "The tokenizer class you load from this checkpoint is 'AlbertTokenizer'. \n",
      "The class this function is called from is 'BertTokenizer'.\n"
     ]
    },
    {
     "data": {
      "text/plain": [
       "{'input_ids': <tf.Tensor: shape=(25, 70), dtype=int32, numpy=\n",
       "array([[    2,  6810,  9293, ...,   680, 29949,     3],\n",
       "       [    2,  6810,  9293, ...,  4887,  7343,     3],\n",
       "       [    2, 20469, 26243, ...,   126,  1328,     3],\n",
       "       ...,\n",
       "       [    2,  2577,  1314, ...,     0,     0,     0],\n",
       "       [    2,   746,  5728, ...,     0,     0,     0],\n",
       "       [    2,   176,  2217, ...,   102,  6455,     3]])>, 'attention_mask': <tf.Tensor: shape=(25, 70), dtype=int32, numpy=\n",
       "array([[1, 1, 1, ..., 1, 1, 1],\n",
       "       [1, 1, 1, ..., 1, 1, 1],\n",
       "       [1, 1, 1, ..., 1, 1, 1],\n",
       "       ...,\n",
       "       [1, 1, 1, ..., 0, 0, 0],\n",
       "       [1, 1, 1, ..., 0, 0, 0],\n",
       "       [1, 1, 1, ..., 1, 1, 1]])>}"
      ]
     },
     "execution_count": 5,
     "metadata": {},
     "output_type": "execute_result"
    }
   ],
   "source": [
    "df.drop_duplicates(inplace=True)\n",
    "df.dropna(inplace = True)\n",
    "\n",
    "df_test = df\n",
    "\n",
    "max_len = 70\n",
    "model_name = 'indobenchmark/indobert-lite-base-p1'\n",
    "tokenizer = BertTokenizer.from_pretrained(model_name)\n",
    "\n",
    "X_test = tokenizer(\n",
    "    text=df['berita'].tolist(),\n",
    "    add_special_tokens=True,\n",
    "    max_length=max_len,\n",
    "    truncation=True,\n",
    "    padding=True,\n",
    "    return_tensors='tf',\n",
    "    return_token_type_ids=False,\n",
    "    return_attention_mask=True,\n",
    "    verbose=True\n",
    ")\n",
    "\n",
    "X_test"
   ]
  },
  {
   "cell_type": "code",
   "execution_count": 14,
   "metadata": {},
   "outputs": [],
   "source": [
    "# single inference\n",
    "\n",
    "# interpreter = tf.lite.Interpreter(model_path='models/converted_quant_model_litebert.tflite')\n",
    "# interpreter.allocate_tensors()\n",
    "\n",
    "# input_details = interpreter.get_input_details()\n",
    "# output_details = interpreter.get_output_details()\n",
    "\n",
    "# input_shape = input_details[0]['shape']\n",
    "# input_data = tf.expand_dims(X_test['input_ids'][0], axis = 0)\n",
    "# input_intent = tf.expand_dims(X_test['attention_mask'][0], axis = 0)\n",
    "\n",
    "# interpreter.set_tensor(input_details[0]['index'], input_data)\n",
    "# interpreter.set_tensor(input_details[1]['index'], input_intent)\n",
    "\n",
    "# interpreter.invoke()\n",
    "\n",
    "# output_data = interpreter.get_tensor(output_details[0]['index'])\n",
    "# print(output_data)"
   ]
  },
  {
   "cell_type": "code",
   "execution_count": 18,
   "metadata": {},
   "outputs": [
    {
     "name": "stdout",
     "output_type": "stream",
     "text": [
      "[array([[0.03551087]], dtype=float32), array([[0.04580806]], dtype=float32), array([[0.04104505]], dtype=float32), array([[0.04161768]], dtype=float32), array([[0.03933087]], dtype=float32), array([[0.03777657]], dtype=float32), array([[0.03521077]], dtype=float32), array([[0.14775464]], dtype=float32), array([[0.03545364]], dtype=float32), array([[0.04476575]], dtype=float32), array([[0.0717652]], dtype=float32), array([[0.03409308]], dtype=float32), array([[0.08206773]], dtype=float32), array([[0.04468146]], dtype=float32), array([[0.06191778]], dtype=float32), array([[0.04697829]], dtype=float32), array([[0.05303025]], dtype=float32), array([[0.02611485]], dtype=float32), array([[0.07328288]], dtype=float32), array([[0.04554227]], dtype=float32), array([[0.07112785]], dtype=float32), array([[0.09130548]], dtype=float32), array([[0.07385018]], dtype=float32), array([[0.04648475]], dtype=float32), array([[0.0671972]], dtype=float32)]\n"
     ]
    }
   ],
   "source": [
    "# batch inference\n",
    "\n",
    "interpreter = tf.lite.Interpreter(model_path='models/converted_quant_model_litebert.tflite')\n",
    "interpreter.allocate_tensors()\n",
    "\n",
    "input_details = interpreter.get_input_details()\n",
    "output_details = interpreter.get_output_details()\n",
    "\n",
    "input_shape = input_details[0]['shape']\n",
    "\n",
    "output_data = []\n",
    "\n",
    "for i in range(len(df)):\n",
    "    input_data = tf.expand_dims(X_test['input_ids'][i], axis = 0)\n",
    "    input_intent = tf.expand_dims(X_test['attention_mask'][i], axis = 0)\n",
    "    interpreter.set_tensor(input_details[0]['index'], input_data)\n",
    "    interpreter.set_tensor(input_details[1]['index'], input_intent)\n",
    "    interpreter.invoke()\n",
    "    output_data.append(interpreter.get_tensor(output_details[0]['index']))\n",
    "\n",
    "print(output_data)"
   ]
  },
  {
   "cell_type": "code",
   "execution_count": 19,
   "metadata": {},
   "outputs": [
    {
     "data": {
      "text/plain": [
       "[array([[0.03551087]], dtype=float32),\n",
       " array([[0.04580806]], dtype=float32),\n",
       " array([[0.04104505]], dtype=float32),\n",
       " array([[0.04161768]], dtype=float32),\n",
       " array([[0.03933087]], dtype=float32),\n",
       " array([[0.03777657]], dtype=float32),\n",
       " array([[0.03521077]], dtype=float32),\n",
       " array([[0.14775464]], dtype=float32),\n",
       " array([[0.03545364]], dtype=float32),\n",
       " array([[0.04476575]], dtype=float32),\n",
       " array([[0.0717652]], dtype=float32),\n",
       " array([[0.03409308]], dtype=float32),\n",
       " array([[0.08206773]], dtype=float32),\n",
       " array([[0.04468146]], dtype=float32),\n",
       " array([[0.06191778]], dtype=float32),\n",
       " array([[0.04697829]], dtype=float32),\n",
       " array([[0.05303025]], dtype=float32),\n",
       " array([[0.02611485]], dtype=float32),\n",
       " array([[0.07328288]], dtype=float32),\n",
       " array([[0.04554227]], dtype=float32),\n",
       " array([[0.07112785]], dtype=float32),\n",
       " array([[0.09130548]], dtype=float32),\n",
       " array([[0.07385018]], dtype=float32),\n",
       " array([[0.04648475]], dtype=float32),\n",
       " array([[0.0671972]], dtype=float32)]"
      ]
     },
     "execution_count": 19,
     "metadata": {},
     "output_type": "execute_result"
    }
   ],
   "source": [
    "output_data"
   ]
  },
  {
   "cell_type": "code",
   "execution_count": 20,
   "metadata": {},
   "outputs": [
    {
     "name": "stdout",
     "output_type": "stream",
     "text": [
      "Model: \"model\"\n",
      "__________________________________________________________________________________________________\n",
      " Layer (type)                Output Shape                 Param #   Connected to                  \n",
      "==================================================================================================\n",
      " input_ids (InputLayer)      [(None, 70)]                 0         []                            \n",
      "                                                                                                  \n",
      " attention_mask (InputLayer  [(None, 70)]                 0         []                            \n",
      " )                                                                                                \n",
      "                                                                                                  \n",
      " tf_albert_model (TFAlbertM  TFBaseModelOutputWithPooli   1168358   ['input_ids[0][0]',           \n",
      " odel)                       ng(last_hidden_state=(None   4          'attention_mask[0][0]']      \n",
      "                             , 70, 768),                                                          \n",
      "                              pooler_output=(None, 768)                                           \n",
      "                             , hidden_states=None, atte                                           \n",
      "                             ntions=None)                                                         \n",
      "                                                                                                  \n",
      " global_max_pooling1d (Glob  (None, 768)                  0         ['tf_albert_model[0][0]']     \n",
      " alMaxPooling1D)                                                                                  \n",
      "                                                                                                  \n",
      " dense (Dense)               (None, 128)                  98432     ['global_max_pooling1d[0][0]']\n",
      "                                                                                                  \n",
      " dropout_4 (Dropout)         (None, 128)                  0         ['dense[0][0]']               \n",
      "                                                                                                  \n",
      " dense_1 (Dense)             (None, 32)                   4128      ['dropout_4[0][0]']           \n",
      "                                                                                                  \n",
      " dense_2 (Dense)             (None, 1)                    33        ['dense_1[0][0]']             \n",
      "                                                                                                  \n",
      "==================================================================================================\n",
      "Total params: 11786177 (44.96 MB)\n",
      "Trainable params: 11786177 (44.96 MB)\n",
      "Non-trainable params: 0 (0.00 Byte)\n",
      "__________________________________________________________________________________________________\n"
     ]
    }
   ],
   "source": [
    "model = tf.keras.models.load_model('models/model_2023-11-29', custom_objects={\"TFAlbertModel\": TFAlbertModel})\n",
    "model.summary()"
   ]
  },
  {
   "cell_type": "code",
   "execution_count": 21,
   "metadata": {},
   "outputs": [],
   "source": [
    "optimizer = Adam(\n",
    "    learning_rate=5e-05, # HF recommendation\n",
    "    epsilon=1e-08,\n",
    "    clipnorm=1.0\n",
    ")\n",
    "\n",
    "loss = 'binary_crossentropy'\n",
    "metric = 'accuracy'\n",
    "\n",
    "model.compile(\n",
    "    optimizer=optimizer,\n",
    "    loss=loss,\n",
    "    metrics=metric\n",
    ")"
   ]
  },
  {
   "cell_type": "code",
   "execution_count": 22,
   "metadata": {},
   "outputs": [
    {
     "name": "stdout",
     "output_type": "stream",
     "text": [
      "1/1 [==============================] - 12s 12s/step\n"
     ]
    }
   ],
   "source": [
    "predicted = model.predict({'input_ids': X_test['input_ids'], 'attention_mask': X_test['attention_mask']})"
   ]
  },
  {
   "cell_type": "code",
   "execution_count": 23,
   "metadata": {},
   "outputs": [
    {
     "data": {
      "text/plain": [
       "array([[0.01053031],\n",
       "       [0.01285332],\n",
       "       [0.0161338 ],\n",
       "       [0.02264921],\n",
       "       [0.00804643],\n",
       "       [0.02948184],\n",
       "       [0.00513424],\n",
       "       [0.08487377],\n",
       "       [0.04703905],\n",
       "       [0.04702058],\n",
       "       [0.02074589],\n",
       "       [0.402789  ],\n",
       "       [0.02003481],\n",
       "       [0.92463464],\n",
       "       [0.07052504],\n",
       "       [0.00991829],\n",
       "       [0.01097579],\n",
       "       [0.5808339 ],\n",
       "       [0.00552474],\n",
       "       [0.01489791],\n",
       "       [0.9988773 ],\n",
       "       [0.9988525 ],\n",
       "       [0.16859588],\n",
       "       [0.99874526],\n",
       "       [0.03738075]], dtype=float32)"
      ]
     },
     "execution_count": 23,
     "metadata": {},
     "output_type": "execute_result"
    }
   ],
   "source": [
    "predicted"
   ]
  },
  {
   "cell_type": "code",
   "execution_count": 24,
   "metadata": {},
   "outputs": [
    {
     "data": {
      "text/plain": [
       "(25, 25)"
      ]
     },
     "execution_count": 24,
     "metadata": {},
     "output_type": "execute_result"
    }
   ],
   "source": [
    "len(predicted), len(output_data)"
   ]
  },
  {
   "cell_type": "code",
   "execution_count": 28,
   "metadata": {},
   "outputs": [
    {
     "data": {
      "text/plain": [
       "array([[0.03551087],\n",
       "       [0.04580806],\n",
       "       [0.04104505],\n",
       "       [0.04161768],\n",
       "       [0.03933087],\n",
       "       [0.03777657],\n",
       "       [0.03521077],\n",
       "       [0.14775464],\n",
       "       [0.03545364],\n",
       "       [0.04476575],\n",
       "       [0.0717652 ],\n",
       "       [0.03409308],\n",
       "       [0.08206773],\n",
       "       [0.04468146],\n",
       "       [0.06191778],\n",
       "       [0.04697829],\n",
       "       [0.05303025],\n",
       "       [0.02611485],\n",
       "       [0.07328288],\n",
       "       [0.04554227],\n",
       "       [0.07112785],\n",
       "       [0.09130548],\n",
       "       [0.07385018],\n",
       "       [0.04648475],\n",
       "       [0.0671972 ]], dtype=float32)"
      ]
     },
     "execution_count": 28,
     "metadata": {},
     "output_type": "execute_result"
    }
   ],
   "source": [
    "output_data = np.expand_dims([data.squeeze() for data in output_data], axis = 1)\n",
    "output_data"
   ]
  },
  {
   "cell_type": "code",
   "execution_count": 29,
   "metadata": {},
   "outputs": [
    {
     "data": {
      "text/plain": [
       "array([[-0.02498056],\n",
       "       [-0.03295474],\n",
       "       [-0.02491125],\n",
       "       [-0.01896848],\n",
       "       [-0.03128444],\n",
       "       [-0.00829474],\n",
       "       [-0.03007653],\n",
       "       [-0.06288087],\n",
       "       [ 0.01158541],\n",
       "       [ 0.00225483],\n",
       "       [-0.05101931],\n",
       "       [ 0.3686959 ],\n",
       "       [-0.06203292],\n",
       "       [ 0.87995315],\n",
       "       [ 0.00860726],\n",
       "       [-0.03706001],\n",
       "       [-0.04205446],\n",
       "       [ 0.5547191 ],\n",
       "       [-0.06775813],\n",
       "       [-0.03064437],\n",
       "       [ 0.92774945],\n",
       "       [ 0.907547  ],\n",
       "       [ 0.0947457 ],\n",
       "       [ 0.9522605 ],\n",
       "       [-0.02981644]], dtype=float32)"
      ]
     },
     "execution_count": 29,
     "metadata": {},
     "output_type": "execute_result"
    }
   ],
   "source": [
    "predicted - output_data"
   ]
  }
 ],
 "metadata": {
  "kernelspec": {
   "display_name": "venv",
   "language": "python",
   "name": "python3"
  },
  "language_info": {
   "codemirror_mode": {
    "name": "ipython",
    "version": 3
   },
   "file_extension": ".py",
   "mimetype": "text/x-python",
   "name": "python",
   "nbconvert_exporter": "python",
   "pygments_lexer": "ipython3",
   "version": "3.9.2"
  }
 },
 "nbformat": 4,
 "nbformat_minor": 2
}
